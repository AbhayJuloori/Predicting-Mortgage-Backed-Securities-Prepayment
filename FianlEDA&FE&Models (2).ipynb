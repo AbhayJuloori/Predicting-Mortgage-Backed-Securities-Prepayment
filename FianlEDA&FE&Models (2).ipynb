{
  "cells": [
    {
      "cell_type": "code",
      "execution_count": null,
      "metadata": {
        "colab": {
          "base_uri": "https://localhost:8080/"
        },
        "id": "X9QKWwnWgTKA",
        "outputId": "e6c49a80-246a-4471-b06d-6121083005dd"
      },
      "outputs": [
        {
          "output_type": "stream",
          "name": "stdout",
          "text": [
            "Mounted at /content/drive\n"
          ]
        }
      ],
      "source": [
        "from google.colab import drive\n",
        "drive.mount('/content/drive')"
      ]
    },
    {
      "cell_type": "code",
      "execution_count": null,
      "metadata": {
        "id": "ZsXWZbe2ga-_"
      },
      "outputs": [],
      "source": [
        "# Importing libraries\n",
        "import numpy as np\n",
        "import pandas as pd\n",
        "%matplotlib inline\n",
        "import matplotlib.pyplot as plt\n",
        "import seaborn as sns\n",
        "from datetime import datetime\n",
        "import warnings \n",
        "warnings.filterwarnings(\"ignore\") "
      ]
    },
    {
      "cell_type": "code",
      "execution_count": null,
      "metadata": {
        "id": "u-SSapj-gbM5"
      },
      "outputs": [],
      "source": [
        "# Reading the dataset\n",
        "df=pd.read_csv(\"/content/drive/MyDrive/LoanExport.csv\") # change the path to ur drive"
      ]
    },
    {
      "cell_type": "code",
      "execution_count": null,
      "metadata": {
        "colab": {
          "base_uri": "https://localhost:8080/"
        },
        "id": "XpJOLXxpgbQa",
        "outputId": "df750e63-505e-4936-9aff-8826e16ce461"
      },
      "outputs": [
        {
          "output_type": "execute_result",
          "data": {
            "text/plain": [
              "(291451, 28)"
            ]
          },
          "metadata": {},
          "execution_count": 4
        }
      ],
      "source": [
        "# checking for shape of the dataset\n",
        "df.shape"
      ]
    },
    {
      "cell_type": "code",
      "execution_count": null,
      "metadata": {
        "colab": {
          "base_uri": "https://localhost:8080/",
          "height": 300
        },
        "id": "3zcAxghogbT4",
        "outputId": "f236c26f-5be8-415b-aa50-b13f795f1808"
      },
      "outputs": [
        {
          "output_type": "execute_result",
          "data": {
            "text/plain": [
              "   CreditScore  FirstPaymentDate FirstTimeHomebuyer  MaturityDate    MSA  MIP  \\\n",
              "0            0            199902                  N        202901  16974   25   \n",
              "1            0            199902                  N        202901  19740    0   \n",
              "2            0            199902                  N        202901  29940    0   \n",
              "3            0            199902                  N        202901  31084    0   \n",
              "4            0            199902                  N        202901  35644    0   \n",
              "\n",
              "   Units Occupancy  OCLTV  DTI  ...  PostalCode    LoanSeqNum  LoanPurpose  \\\n",
              "0      1         O     89   27  ...       60400  F199Q1268030            P   \n",
              "1      1         O     73   17  ...       80200  F199Q1015092            N   \n",
              "2      1         O     75   16  ...       66000  F199Q1266886            N   \n",
              "3      1         O     76   14  ...       90700  F199Q1178167            N   \n",
              "4      1         O     78   18  ...        7600  F199Q1178517            N   \n",
              "\n",
              "  OrigLoanTerm NumBorrowers SellerName          ServicerName EverDelinquent  \\\n",
              "0          360            2         FL  WASHINGTONMUTUALBANK              0   \n",
              "1          360            1         FT  CHASEHOMEFINANCELLC               0   \n",
              "2          360            2         FL  WASHINGTONMUTUALBANK              0   \n",
              "3          360            2         GM  GMACMTGECORP                      0   \n",
              "4          360            2         GM  GMACMTGECORP                      0   \n",
              "\n",
              "  MonthsDelinquent MonthsInRepayment  \n",
              "0                0                52  \n",
              "1                0               144  \n",
              "2                0                67  \n",
              "3                0                35  \n",
              "4                0                54  \n",
              "\n",
              "[5 rows x 28 columns]"
            ],
            "text/html": [
              "\n",
              "  <div id=\"df-ce6000d3-5470-489c-aeef-577a051f2e45\">\n",
              "    <div class=\"colab-df-container\">\n",
              "      <div>\n",
              "<style scoped>\n",
              "    .dataframe tbody tr th:only-of-type {\n",
              "        vertical-align: middle;\n",
              "    }\n",
              "\n",
              "    .dataframe tbody tr th {\n",
              "        vertical-align: top;\n",
              "    }\n",
              "\n",
              "    .dataframe thead th {\n",
              "        text-align: right;\n",
              "    }\n",
              "</style>\n",
              "<table border=\"1\" class=\"dataframe\">\n",
              "  <thead>\n",
              "    <tr style=\"text-align: right;\">\n",
              "      <th></th>\n",
              "      <th>CreditScore</th>\n",
              "      <th>FirstPaymentDate</th>\n",
              "      <th>FirstTimeHomebuyer</th>\n",
              "      <th>MaturityDate</th>\n",
              "      <th>MSA</th>\n",
              "      <th>MIP</th>\n",
              "      <th>Units</th>\n",
              "      <th>Occupancy</th>\n",
              "      <th>OCLTV</th>\n",
              "      <th>DTI</th>\n",
              "      <th>...</th>\n",
              "      <th>PostalCode</th>\n",
              "      <th>LoanSeqNum</th>\n",
              "      <th>LoanPurpose</th>\n",
              "      <th>OrigLoanTerm</th>\n",
              "      <th>NumBorrowers</th>\n",
              "      <th>SellerName</th>\n",
              "      <th>ServicerName</th>\n",
              "      <th>EverDelinquent</th>\n",
              "      <th>MonthsDelinquent</th>\n",
              "      <th>MonthsInRepayment</th>\n",
              "    </tr>\n",
              "  </thead>\n",
              "  <tbody>\n",
              "    <tr>\n",
              "      <th>0</th>\n",
              "      <td>0</td>\n",
              "      <td>199902</td>\n",
              "      <td>N</td>\n",
              "      <td>202901</td>\n",
              "      <td>16974</td>\n",
              "      <td>25</td>\n",
              "      <td>1</td>\n",
              "      <td>O</td>\n",
              "      <td>89</td>\n",
              "      <td>27</td>\n",
              "      <td>...</td>\n",
              "      <td>60400</td>\n",
              "      <td>F199Q1268030</td>\n",
              "      <td>P</td>\n",
              "      <td>360</td>\n",
              "      <td>2</td>\n",
              "      <td>FL</td>\n",
              "      <td>WASHINGTONMUTUALBANK</td>\n",
              "      <td>0</td>\n",
              "      <td>0</td>\n",
              "      <td>52</td>\n",
              "    </tr>\n",
              "    <tr>\n",
              "      <th>1</th>\n",
              "      <td>0</td>\n",
              "      <td>199902</td>\n",
              "      <td>N</td>\n",
              "      <td>202901</td>\n",
              "      <td>19740</td>\n",
              "      <td>0</td>\n",
              "      <td>1</td>\n",
              "      <td>O</td>\n",
              "      <td>73</td>\n",
              "      <td>17</td>\n",
              "      <td>...</td>\n",
              "      <td>80200</td>\n",
              "      <td>F199Q1015092</td>\n",
              "      <td>N</td>\n",
              "      <td>360</td>\n",
              "      <td>1</td>\n",
              "      <td>FT</td>\n",
              "      <td>CHASEHOMEFINANCELLC</td>\n",
              "      <td>0</td>\n",
              "      <td>0</td>\n",
              "      <td>144</td>\n",
              "    </tr>\n",
              "    <tr>\n",
              "      <th>2</th>\n",
              "      <td>0</td>\n",
              "      <td>199902</td>\n",
              "      <td>N</td>\n",
              "      <td>202901</td>\n",
              "      <td>29940</td>\n",
              "      <td>0</td>\n",
              "      <td>1</td>\n",
              "      <td>O</td>\n",
              "      <td>75</td>\n",
              "      <td>16</td>\n",
              "      <td>...</td>\n",
              "      <td>66000</td>\n",
              "      <td>F199Q1266886</td>\n",
              "      <td>N</td>\n",
              "      <td>360</td>\n",
              "      <td>2</td>\n",
              "      <td>FL</td>\n",
              "      <td>WASHINGTONMUTUALBANK</td>\n",
              "      <td>0</td>\n",
              "      <td>0</td>\n",
              "      <td>67</td>\n",
              "    </tr>\n",
              "    <tr>\n",
              "      <th>3</th>\n",
              "      <td>0</td>\n",
              "      <td>199902</td>\n",
              "      <td>N</td>\n",
              "      <td>202901</td>\n",
              "      <td>31084</td>\n",
              "      <td>0</td>\n",
              "      <td>1</td>\n",
              "      <td>O</td>\n",
              "      <td>76</td>\n",
              "      <td>14</td>\n",
              "      <td>...</td>\n",
              "      <td>90700</td>\n",
              "      <td>F199Q1178167</td>\n",
              "      <td>N</td>\n",
              "      <td>360</td>\n",
              "      <td>2</td>\n",
              "      <td>GM</td>\n",
              "      <td>GMACMTGECORP</td>\n",
              "      <td>0</td>\n",
              "      <td>0</td>\n",
              "      <td>35</td>\n",
              "    </tr>\n",
              "    <tr>\n",
              "      <th>4</th>\n",
              "      <td>0</td>\n",
              "      <td>199902</td>\n",
              "      <td>N</td>\n",
              "      <td>202901</td>\n",
              "      <td>35644</td>\n",
              "      <td>0</td>\n",
              "      <td>1</td>\n",
              "      <td>O</td>\n",
              "      <td>78</td>\n",
              "      <td>18</td>\n",
              "      <td>...</td>\n",
              "      <td>7600</td>\n",
              "      <td>F199Q1178517</td>\n",
              "      <td>N</td>\n",
              "      <td>360</td>\n",
              "      <td>2</td>\n",
              "      <td>GM</td>\n",
              "      <td>GMACMTGECORP</td>\n",
              "      <td>0</td>\n",
              "      <td>0</td>\n",
              "      <td>54</td>\n",
              "    </tr>\n",
              "  </tbody>\n",
              "</table>\n",
              "<p>5 rows × 28 columns</p>\n",
              "</div>\n",
              "      <button class=\"colab-df-convert\" onclick=\"convertToInteractive('df-ce6000d3-5470-489c-aeef-577a051f2e45')\"\n",
              "              title=\"Convert this dataframe to an interactive table.\"\n",
              "              style=\"display:none;\">\n",
              "        \n",
              "  <svg xmlns=\"http://www.w3.org/2000/svg\" height=\"24px\"viewBox=\"0 0 24 24\"\n",
              "       width=\"24px\">\n",
              "    <path d=\"M0 0h24v24H0V0z\" fill=\"none\"/>\n",
              "    <path d=\"M18.56 5.44l.94 2.06.94-2.06 2.06-.94-2.06-.94-.94-2.06-.94 2.06-2.06.94zm-11 1L8.5 8.5l.94-2.06 2.06-.94-2.06-.94L8.5 2.5l-.94 2.06-2.06.94zm10 10l.94 2.06.94-2.06 2.06-.94-2.06-.94-.94-2.06-.94 2.06-2.06.94z\"/><path d=\"M17.41 7.96l-1.37-1.37c-.4-.4-.92-.59-1.43-.59-.52 0-1.04.2-1.43.59L10.3 9.45l-7.72 7.72c-.78.78-.78 2.05 0 2.83L4 21.41c.39.39.9.59 1.41.59.51 0 1.02-.2 1.41-.59l7.78-7.78 2.81-2.81c.8-.78.8-2.07 0-2.86zM5.41 20L4 18.59l7.72-7.72 1.47 1.35L5.41 20z\"/>\n",
              "  </svg>\n",
              "      </button>\n",
              "      \n",
              "  <style>\n",
              "    .colab-df-container {\n",
              "      display:flex;\n",
              "      flex-wrap:wrap;\n",
              "      gap: 12px;\n",
              "    }\n",
              "\n",
              "    .colab-df-convert {\n",
              "      background-color: #E8F0FE;\n",
              "      border: none;\n",
              "      border-radius: 50%;\n",
              "      cursor: pointer;\n",
              "      display: none;\n",
              "      fill: #1967D2;\n",
              "      height: 32px;\n",
              "      padding: 0 0 0 0;\n",
              "      width: 32px;\n",
              "    }\n",
              "\n",
              "    .colab-df-convert:hover {\n",
              "      background-color: #E2EBFA;\n",
              "      box-shadow: 0px 1px 2px rgba(60, 64, 67, 0.3), 0px 1px 3px 1px rgba(60, 64, 67, 0.15);\n",
              "      fill: #174EA6;\n",
              "    }\n",
              "\n",
              "    [theme=dark] .colab-df-convert {\n",
              "      background-color: #3B4455;\n",
              "      fill: #D2E3FC;\n",
              "    }\n",
              "\n",
              "    [theme=dark] .colab-df-convert:hover {\n",
              "      background-color: #434B5C;\n",
              "      box-shadow: 0px 1px 3px 1px rgba(0, 0, 0, 0.15);\n",
              "      filter: drop-shadow(0px 1px 2px rgba(0, 0, 0, 0.3));\n",
              "      fill: #FFFFFF;\n",
              "    }\n",
              "  </style>\n",
              "\n",
              "      <script>\n",
              "        const buttonEl =\n",
              "          document.querySelector('#df-ce6000d3-5470-489c-aeef-577a051f2e45 button.colab-df-convert');\n",
              "        buttonEl.style.display =\n",
              "          google.colab.kernel.accessAllowed ? 'block' : 'none';\n",
              "\n",
              "        async function convertToInteractive(key) {\n",
              "          const element = document.querySelector('#df-ce6000d3-5470-489c-aeef-577a051f2e45');\n",
              "          const dataTable =\n",
              "            await google.colab.kernel.invokeFunction('convertToInteractive',\n",
              "                                                     [key], {});\n",
              "          if (!dataTable) return;\n",
              "\n",
              "          const docLinkHtml = 'Like what you see? Visit the ' +\n",
              "            '<a target=\"_blank\" href=https://colab.research.google.com/notebooks/data_table.ipynb>data table notebook</a>'\n",
              "            + ' to learn more about interactive tables.';\n",
              "          element.innerHTML = '';\n",
              "          dataTable['output_type'] = 'display_data';\n",
              "          await google.colab.output.renderOutput(dataTable, element);\n",
              "          const docLink = document.createElement('div');\n",
              "          docLink.innerHTML = docLinkHtml;\n",
              "          element.appendChild(docLink);\n",
              "        }\n",
              "      </script>\n",
              "    </div>\n",
              "  </div>\n",
              "  "
            ]
          },
          "metadata": {},
          "execution_count": 5
        }
      ],
      "source": [
        "# looking at insights of the data\n",
        "df.head()"
      ]
    },
    {
      "cell_type": "markdown",
      "metadata": {
        "id": "uCofxMErqnK_"
      },
      "source": [
        "# EDA "
      ]
    },
    {
      "cell_type": "code",
      "execution_count": null,
      "metadata": {
        "colab": {
          "base_uri": "https://localhost:8080/"
        },
        "id": "a6kSaU1-gba5",
        "outputId": "2fd15158-5a16-40e7-ef61-c1b3c2a5d363"
      },
      "outputs": [
        {
          "output_type": "stream",
          "name": "stdout",
          "text": [
            "Data types:\n",
            "-----------\n",
            "CreditScore             int64\n",
            "FirstPaymentDate        int64\n",
            "FirstTimeHomebuyer     object\n",
            "MaturityDate            int64\n",
            "MSA                    object\n",
            "MIP                     int64\n",
            "Units                   int64\n",
            "Occupancy              object\n",
            "OCLTV                   int64\n",
            "DTI                     int64\n",
            "OrigUPB                 int64\n",
            "LTV                     int64\n",
            "OrigInterestRate      float64\n",
            "Channel                object\n",
            "PPM                    object\n",
            "ProductType            object\n",
            "PropertyState          object\n",
            "PropertyType           object\n",
            "PostalCode             object\n",
            "LoanSeqNum             object\n",
            "LoanPurpose            object\n",
            "OrigLoanTerm            int64\n",
            "NumBorrowers           object\n",
            "SellerName             object\n",
            "ServicerName           object\n",
            "EverDelinquent          int64\n",
            "MonthsDelinquent        int64\n",
            "MonthsInRepayment       int64\n",
            "dtype: object\n",
            "\n"
          ]
        }
      ],
      "source": [
        "# checking for datatype of the columns\n",
        "print(f\"Data types:\\n{11 * '-'}\")\n",
        "print(f\"{df.dtypes}\\n\")"
      ]
    },
    {
      "cell_type": "code",
      "execution_count": null,
      "metadata": {
        "colab": {
          "base_uri": "https://localhost:8080/"
        },
        "id": "XyuARm7AgbeE",
        "outputId": "e7e1ad2b-48d9-4c96-cbb0-1f62bcd44fe2"
      },
      "outputs": [
        {
          "output_type": "stream",
          "name": "stdout",
          "text": [
            "Sum of null values in each feature:\n",
            "-----------------------------------\n",
            "CreditScore               0\n",
            "FirstPaymentDate          0\n",
            "FirstTimeHomebuyer        0\n",
            "MaturityDate              0\n",
            "MSA                       0\n",
            "MIP                       0\n",
            "Units                     0\n",
            "Occupancy                 0\n",
            "OCLTV                     0\n",
            "DTI                       0\n",
            "OrigUPB                   0\n",
            "LTV                       0\n",
            "OrigInterestRate          0\n",
            "Channel                   0\n",
            "PPM                       0\n",
            "ProductType               0\n",
            "PropertyState             0\n",
            "PropertyType              0\n",
            "PostalCode                0\n",
            "LoanSeqNum                0\n",
            "LoanPurpose               0\n",
            "OrigLoanTerm              0\n",
            "NumBorrowers              0\n",
            "SellerName            24994\n",
            "ServicerName              0\n",
            "EverDelinquent            0\n",
            "MonthsDelinquent          0\n",
            "MonthsInRepayment         0\n",
            "dtype: int64\n"
          ]
        }
      ],
      "source": [
        "# checking for null values\n",
        "print(f\"Sum of null values in each feature:\\n{35 * '-'}\")\n",
        "print(f\"{df.isnull().sum()}\")"
      ]
    },
    {
      "cell_type": "code",
      "execution_count": null,
      "metadata": {
        "colab": {
          "base_uri": "https://localhost:8080/"
        },
        "id": "kZBwQimjtQFS",
        "outputId": "f0e574b5-3564-4801-c51f-a054ec3283fd"
      },
      "outputs": [
        {
          "output_type": "execute_result",
          "data": {
            "text/plain": [
              "Index(['CreditScore', 'FirstPaymentDate', 'FirstTimeHomebuyer', 'MaturityDate',\n",
              "       'MSA', 'MIP', 'Units', 'Occupancy', 'OCLTV', 'DTI', 'OrigUPB', 'LTV',\n",
              "       'OrigInterestRate', 'Channel', 'PPM', 'ProductType', 'PropertyState',\n",
              "       'PropertyType', 'PostalCode', 'LoanSeqNum', 'LoanPurpose',\n",
              "       'OrigLoanTerm', 'NumBorrowers', 'SellerName', 'ServicerName',\n",
              "       'EverDelinquent', 'MonthsDelinquent', 'MonthsInRepayment'],\n",
              "      dtype='object')"
            ]
          },
          "metadata": {},
          "execution_count": 8
        }
      ],
      "source": [
        "# checking for columns\n",
        "df.columns"
      ]
    },
    {
      "cell_type": "code",
      "execution_count": null,
      "metadata": {
        "colab": {
          "base_uri": "https://localhost:8080/"
        },
        "id": "XunneaJItpC5",
        "outputId": "ef9af2a0-4650-41f0-a945-70d42f9e918c"
      },
      "outputs": [
        {
          "output_type": "execute_result",
          "data": {
            "text/plain": [
              "0"
            ]
          },
          "metadata": {},
          "execution_count": 9
        }
      ],
      "source": [
        "# Checking for Duplicate Values\n",
        "df.duplicated().sum()"
      ]
    },
    {
      "cell_type": "code",
      "execution_count": null,
      "metadata": {
        "colab": {
          "base_uri": "https://localhost:8080/",
          "height": 364
        },
        "id": "y-W62ohytQIv",
        "outputId": "63eb685e-4b0f-4eb4-b66b-7bb4cac11ed2"
      },
      "outputs": [
        {
          "output_type": "execute_result",
          "data": {
            "text/plain": [
              "         CreditScore  FirstPaymentDate   MaturityDate            MIP  \\\n",
              "count  291451.000000     291451.000000  291451.000000  291451.000000   \n",
              "mean      708.936991     199904.760553  202902.367043       9.216685   \n",
              "std        68.408791         13.821228      16.090508      12.648273   \n",
              "min         0.000000     199901.000000  202402.000000       0.000000   \n",
              "25%       675.000000     199903.000000  202902.000000       0.000000   \n",
              "50%       717.000000     199904.000000  202903.000000       0.000000   \n",
              "75%       753.000000     199905.000000  202904.000000      25.000000   \n",
              "max       849.000000     201303.000000  204302.000000      55.000000   \n",
              "\n",
              "               Units          OCLTV            DTI        OrigUPB  \\\n",
              "count  291451.000000  291451.000000  291451.000000  291451.000000   \n",
              "mean        1.026022      76.960529      30.033453  124940.387921   \n",
              "std         0.202986      15.236154      13.203974   53657.440624   \n",
              "min         0.000000       0.000000       0.000000    8000.000000   \n",
              "25%         1.000000      70.000000      22.000000   83000.000000   \n",
              "50%         1.000000      80.000000      31.000000  117000.000000   \n",
              "75%         1.000000      90.000000      39.000000  160000.000000   \n",
              "max         4.000000     110.000000      65.000000  497000.000000   \n",
              "\n",
              "                 LTV  OrigInterestRate   OrigLoanTerm  EverDelinquent  \\\n",
              "count  291451.000000     291451.000000  291451.000000   291451.000000   \n",
              "mean       76.937986          6.926547     359.835375        0.197848   \n",
              "std        15.225298          0.343541       2.286939        0.398378   \n",
              "min         0.000000          4.000000     301.000000        0.000000   \n",
              "25%        70.000000          6.750000     360.000000        0.000000   \n",
              "50%        80.000000          6.875000     360.000000        0.000000   \n",
              "75%        90.000000          7.125000     360.000000        0.000000   \n",
              "max       103.000000         12.350000     361.000000        1.000000   \n",
              "\n",
              "       MonthsDelinquent  MonthsInRepayment  \n",
              "count     291451.000000      291451.000000  \n",
              "mean           1.837729          60.805291  \n",
              "std            8.809392          46.142599  \n",
              "min            0.000000           1.000000  \n",
              "25%            0.000000          34.000000  \n",
              "50%            0.000000          48.000000  \n",
              "75%            0.000000          63.000000  \n",
              "max          180.000000         212.000000  "
            ],
            "text/html": [
              "\n",
              "  <div id=\"df-c242e3bf-0409-41c0-8154-2433e04a7543\">\n",
              "    <div class=\"colab-df-container\">\n",
              "      <div>\n",
              "<style scoped>\n",
              "    .dataframe tbody tr th:only-of-type {\n",
              "        vertical-align: middle;\n",
              "    }\n",
              "\n",
              "    .dataframe tbody tr th {\n",
              "        vertical-align: top;\n",
              "    }\n",
              "\n",
              "    .dataframe thead th {\n",
              "        text-align: right;\n",
              "    }\n",
              "</style>\n",
              "<table border=\"1\" class=\"dataframe\">\n",
              "  <thead>\n",
              "    <tr style=\"text-align: right;\">\n",
              "      <th></th>\n",
              "      <th>CreditScore</th>\n",
              "      <th>FirstPaymentDate</th>\n",
              "      <th>MaturityDate</th>\n",
              "      <th>MIP</th>\n",
              "      <th>Units</th>\n",
              "      <th>OCLTV</th>\n",
              "      <th>DTI</th>\n",
              "      <th>OrigUPB</th>\n",
              "      <th>LTV</th>\n",
              "      <th>OrigInterestRate</th>\n",
              "      <th>OrigLoanTerm</th>\n",
              "      <th>EverDelinquent</th>\n",
              "      <th>MonthsDelinquent</th>\n",
              "      <th>MonthsInRepayment</th>\n",
              "    </tr>\n",
              "  </thead>\n",
              "  <tbody>\n",
              "    <tr>\n",
              "      <th>count</th>\n",
              "      <td>291451.000000</td>\n",
              "      <td>291451.000000</td>\n",
              "      <td>291451.000000</td>\n",
              "      <td>291451.000000</td>\n",
              "      <td>291451.000000</td>\n",
              "      <td>291451.000000</td>\n",
              "      <td>291451.000000</td>\n",
              "      <td>291451.000000</td>\n",
              "      <td>291451.000000</td>\n",
              "      <td>291451.000000</td>\n",
              "      <td>291451.000000</td>\n",
              "      <td>291451.000000</td>\n",
              "      <td>291451.000000</td>\n",
              "      <td>291451.000000</td>\n",
              "    </tr>\n",
              "    <tr>\n",
              "      <th>mean</th>\n",
              "      <td>708.936991</td>\n",
              "      <td>199904.760553</td>\n",
              "      <td>202902.367043</td>\n",
              "      <td>9.216685</td>\n",
              "      <td>1.026022</td>\n",
              "      <td>76.960529</td>\n",
              "      <td>30.033453</td>\n",
              "      <td>124940.387921</td>\n",
              "      <td>76.937986</td>\n",
              "      <td>6.926547</td>\n",
              "      <td>359.835375</td>\n",
              "      <td>0.197848</td>\n",
              "      <td>1.837729</td>\n",
              "      <td>60.805291</td>\n",
              "    </tr>\n",
              "    <tr>\n",
              "      <th>std</th>\n",
              "      <td>68.408791</td>\n",
              "      <td>13.821228</td>\n",
              "      <td>16.090508</td>\n",
              "      <td>12.648273</td>\n",
              "      <td>0.202986</td>\n",
              "      <td>15.236154</td>\n",
              "      <td>13.203974</td>\n",
              "      <td>53657.440624</td>\n",
              "      <td>15.225298</td>\n",
              "      <td>0.343541</td>\n",
              "      <td>2.286939</td>\n",
              "      <td>0.398378</td>\n",
              "      <td>8.809392</td>\n",
              "      <td>46.142599</td>\n",
              "    </tr>\n",
              "    <tr>\n",
              "      <th>min</th>\n",
              "      <td>0.000000</td>\n",
              "      <td>199901.000000</td>\n",
              "      <td>202402.000000</td>\n",
              "      <td>0.000000</td>\n",
              "      <td>0.000000</td>\n",
              "      <td>0.000000</td>\n",
              "      <td>0.000000</td>\n",
              "      <td>8000.000000</td>\n",
              "      <td>0.000000</td>\n",
              "      <td>4.000000</td>\n",
              "      <td>301.000000</td>\n",
              "      <td>0.000000</td>\n",
              "      <td>0.000000</td>\n",
              "      <td>1.000000</td>\n",
              "    </tr>\n",
              "    <tr>\n",
              "      <th>25%</th>\n",
              "      <td>675.000000</td>\n",
              "      <td>199903.000000</td>\n",
              "      <td>202902.000000</td>\n",
              "      <td>0.000000</td>\n",
              "      <td>1.000000</td>\n",
              "      <td>70.000000</td>\n",
              "      <td>22.000000</td>\n",
              "      <td>83000.000000</td>\n",
              "      <td>70.000000</td>\n",
              "      <td>6.750000</td>\n",
              "      <td>360.000000</td>\n",
              "      <td>0.000000</td>\n",
              "      <td>0.000000</td>\n",
              "      <td>34.000000</td>\n",
              "    </tr>\n",
              "    <tr>\n",
              "      <th>50%</th>\n",
              "      <td>717.000000</td>\n",
              "      <td>199904.000000</td>\n",
              "      <td>202903.000000</td>\n",
              "      <td>0.000000</td>\n",
              "      <td>1.000000</td>\n",
              "      <td>80.000000</td>\n",
              "      <td>31.000000</td>\n",
              "      <td>117000.000000</td>\n",
              "      <td>80.000000</td>\n",
              "      <td>6.875000</td>\n",
              "      <td>360.000000</td>\n",
              "      <td>0.000000</td>\n",
              "      <td>0.000000</td>\n",
              "      <td>48.000000</td>\n",
              "    </tr>\n",
              "    <tr>\n",
              "      <th>75%</th>\n",
              "      <td>753.000000</td>\n",
              "      <td>199905.000000</td>\n",
              "      <td>202904.000000</td>\n",
              "      <td>25.000000</td>\n",
              "      <td>1.000000</td>\n",
              "      <td>90.000000</td>\n",
              "      <td>39.000000</td>\n",
              "      <td>160000.000000</td>\n",
              "      <td>90.000000</td>\n",
              "      <td>7.125000</td>\n",
              "      <td>360.000000</td>\n",
              "      <td>0.000000</td>\n",
              "      <td>0.000000</td>\n",
              "      <td>63.000000</td>\n",
              "    </tr>\n",
              "    <tr>\n",
              "      <th>max</th>\n",
              "      <td>849.000000</td>\n",
              "      <td>201303.000000</td>\n",
              "      <td>204302.000000</td>\n",
              "      <td>55.000000</td>\n",
              "      <td>4.000000</td>\n",
              "      <td>110.000000</td>\n",
              "      <td>65.000000</td>\n",
              "      <td>497000.000000</td>\n",
              "      <td>103.000000</td>\n",
              "      <td>12.350000</td>\n",
              "      <td>361.000000</td>\n",
              "      <td>1.000000</td>\n",
              "      <td>180.000000</td>\n",
              "      <td>212.000000</td>\n",
              "    </tr>\n",
              "  </tbody>\n",
              "</table>\n",
              "</div>\n",
              "      <button class=\"colab-df-convert\" onclick=\"convertToInteractive('df-c242e3bf-0409-41c0-8154-2433e04a7543')\"\n",
              "              title=\"Convert this dataframe to an interactive table.\"\n",
              "              style=\"display:none;\">\n",
              "        \n",
              "  <svg xmlns=\"http://www.w3.org/2000/svg\" height=\"24px\"viewBox=\"0 0 24 24\"\n",
              "       width=\"24px\">\n",
              "    <path d=\"M0 0h24v24H0V0z\" fill=\"none\"/>\n",
              "    <path d=\"M18.56 5.44l.94 2.06.94-2.06 2.06-.94-2.06-.94-.94-2.06-.94 2.06-2.06.94zm-11 1L8.5 8.5l.94-2.06 2.06-.94-2.06-.94L8.5 2.5l-.94 2.06-2.06.94zm10 10l.94 2.06.94-2.06 2.06-.94-2.06-.94-.94-2.06-.94 2.06-2.06.94z\"/><path d=\"M17.41 7.96l-1.37-1.37c-.4-.4-.92-.59-1.43-.59-.52 0-1.04.2-1.43.59L10.3 9.45l-7.72 7.72c-.78.78-.78 2.05 0 2.83L4 21.41c.39.39.9.59 1.41.59.51 0 1.02-.2 1.41-.59l7.78-7.78 2.81-2.81c.8-.78.8-2.07 0-2.86zM5.41 20L4 18.59l7.72-7.72 1.47 1.35L5.41 20z\"/>\n",
              "  </svg>\n",
              "      </button>\n",
              "      \n",
              "  <style>\n",
              "    .colab-df-container {\n",
              "      display:flex;\n",
              "      flex-wrap:wrap;\n",
              "      gap: 12px;\n",
              "    }\n",
              "\n",
              "    .colab-df-convert {\n",
              "      background-color: #E8F0FE;\n",
              "      border: none;\n",
              "      border-radius: 50%;\n",
              "      cursor: pointer;\n",
              "      display: none;\n",
              "      fill: #1967D2;\n",
              "      height: 32px;\n",
              "      padding: 0 0 0 0;\n",
              "      width: 32px;\n",
              "    }\n",
              "\n",
              "    .colab-df-convert:hover {\n",
              "      background-color: #E2EBFA;\n",
              "      box-shadow: 0px 1px 2px rgba(60, 64, 67, 0.3), 0px 1px 3px 1px rgba(60, 64, 67, 0.15);\n",
              "      fill: #174EA6;\n",
              "    }\n",
              "\n",
              "    [theme=dark] .colab-df-convert {\n",
              "      background-color: #3B4455;\n",
              "      fill: #D2E3FC;\n",
              "    }\n",
              "\n",
              "    [theme=dark] .colab-df-convert:hover {\n",
              "      background-color: #434B5C;\n",
              "      box-shadow: 0px 1px 3px 1px rgba(0, 0, 0, 0.15);\n",
              "      filter: drop-shadow(0px 1px 2px rgba(0, 0, 0, 0.3));\n",
              "      fill: #FFFFFF;\n",
              "    }\n",
              "  </style>\n",
              "\n",
              "      <script>\n",
              "        const buttonEl =\n",
              "          document.querySelector('#df-c242e3bf-0409-41c0-8154-2433e04a7543 button.colab-df-convert');\n",
              "        buttonEl.style.display =\n",
              "          google.colab.kernel.accessAllowed ? 'block' : 'none';\n",
              "\n",
              "        async function convertToInteractive(key) {\n",
              "          const element = document.querySelector('#df-c242e3bf-0409-41c0-8154-2433e04a7543');\n",
              "          const dataTable =\n",
              "            await google.colab.kernel.invokeFunction('convertToInteractive',\n",
              "                                                     [key], {});\n",
              "          if (!dataTable) return;\n",
              "\n",
              "          const docLinkHtml = 'Like what you see? Visit the ' +\n",
              "            '<a target=\"_blank\" href=https://colab.research.google.com/notebooks/data_table.ipynb>data table notebook</a>'\n",
              "            + ' to learn more about interactive tables.';\n",
              "          element.innerHTML = '';\n",
              "          dataTable['output_type'] = 'display_data';\n",
              "          await google.colab.output.renderOutput(dataTable, element);\n",
              "          const docLink = document.createElement('div');\n",
              "          docLink.innerHTML = docLinkHtml;\n",
              "          element.appendChild(docLink);\n",
              "        }\n",
              "      </script>\n",
              "    </div>\n",
              "  </div>\n",
              "  "
            ]
          },
          "metadata": {},
          "execution_count": 10
        }
      ],
      "source": [
        "# checking at insights of the data\n",
        "df.describe()"
      ]
    },
    {
      "cell_type": "code",
      "execution_count": null,
      "metadata": {
        "id": "SUqFPHROtQMV"
      },
      "outputs": [],
      "source": [
        "# Changing  FirstPaymentDate and MaturityDate into date format\n",
        "df['FirstPaymentDate'] = pd.to_datetime(df['FirstPaymentDate'], format='%Y%m')\n",
        "\n",
        "df['MaturityDate'] = pd.to_datetime(df['MaturityDate'], format='%Y%m')"
      ]
    },
    {
      "cell_type": "markdown",
      "metadata": {
        "id": "0v6X914lw5hL"
      },
      "source": [
        "# Numerical Data Analysis"
      ]
    },
    {
      "cell_type": "code",
      "execution_count": null,
      "metadata": {
        "id": "JT7etHKUtQPS"
      },
      "outputs": [],
      "source": [
        "# Numerical Data Analysis\n",
        "num_col = df.select_dtypes('int').columns\n"
      ]
    },
    {
      "cell_type": "code",
      "execution_count": null,
      "metadata": {
        "colab": {
          "base_uri": "https://localhost:8080/",
          "height": 458
        },
        "id": "UMCf_rZutQSL",
        "outputId": "148380f9-f4d6-4cde-db24-51091f593074"
      },
      "outputs": [
        {
          "output_type": "execute_result",
          "data": {
            "text/plain": [
              "                      count           mean           std     min      25%  \\\n",
              "CreditScore        291451.0     708.936991     68.408791     0.0    675.0   \n",
              "MIP                291451.0       9.216685     12.648273     0.0      0.0   \n",
              "Units              291451.0       1.026022      0.202986     0.0      1.0   \n",
              "OCLTV              291451.0      76.960529     15.236154     0.0     70.0   \n",
              "DTI                291451.0      30.033453     13.203974     0.0     22.0   \n",
              "OrigUPB            291451.0  124940.387921  53657.440624  8000.0  83000.0   \n",
              "LTV                291451.0      76.937986     15.225298     0.0     70.0   \n",
              "OrigLoanTerm       291451.0     359.835375      2.286939   301.0    360.0   \n",
              "EverDelinquent     291451.0       0.197848      0.398378     0.0      0.0   \n",
              "MonthsDelinquent   291451.0       1.837729      8.809392     0.0      0.0   \n",
              "MonthsInRepayment  291451.0      60.805291     46.142599     1.0     34.0   \n",
              "\n",
              "                        50%       75%       max  \n",
              "CreditScore           717.0     753.0     849.0  \n",
              "MIP                     0.0      25.0      55.0  \n",
              "Units                   1.0       1.0       4.0  \n",
              "OCLTV                  80.0      90.0     110.0  \n",
              "DTI                    31.0      39.0      65.0  \n",
              "OrigUPB            117000.0  160000.0  497000.0  \n",
              "LTV                    80.0      90.0     103.0  \n",
              "OrigLoanTerm          360.0     360.0     361.0  \n",
              "EverDelinquent          0.0       0.0       1.0  \n",
              "MonthsDelinquent        0.0       0.0     180.0  \n",
              "MonthsInRepayment      48.0      63.0     212.0  "
            ],
            "text/html": [
              "\n",
              "  <div id=\"df-738b5635-b0d8-4f79-b7c1-f81546d57940\">\n",
              "    <div class=\"colab-df-container\">\n",
              "      <div>\n",
              "<style scoped>\n",
              "    .dataframe tbody tr th:only-of-type {\n",
              "        vertical-align: middle;\n",
              "    }\n",
              "\n",
              "    .dataframe tbody tr th {\n",
              "        vertical-align: top;\n",
              "    }\n",
              "\n",
              "    .dataframe thead th {\n",
              "        text-align: right;\n",
              "    }\n",
              "</style>\n",
              "<table border=\"1\" class=\"dataframe\">\n",
              "  <thead>\n",
              "    <tr style=\"text-align: right;\">\n",
              "      <th></th>\n",
              "      <th>count</th>\n",
              "      <th>mean</th>\n",
              "      <th>std</th>\n",
              "      <th>min</th>\n",
              "      <th>25%</th>\n",
              "      <th>50%</th>\n",
              "      <th>75%</th>\n",
              "      <th>max</th>\n",
              "    </tr>\n",
              "  </thead>\n",
              "  <tbody>\n",
              "    <tr>\n",
              "      <th>CreditScore</th>\n",
              "      <td>291451.0</td>\n",
              "      <td>708.936991</td>\n",
              "      <td>68.408791</td>\n",
              "      <td>0.0</td>\n",
              "      <td>675.0</td>\n",
              "      <td>717.0</td>\n",
              "      <td>753.0</td>\n",
              "      <td>849.0</td>\n",
              "    </tr>\n",
              "    <tr>\n",
              "      <th>MIP</th>\n",
              "      <td>291451.0</td>\n",
              "      <td>9.216685</td>\n",
              "      <td>12.648273</td>\n",
              "      <td>0.0</td>\n",
              "      <td>0.0</td>\n",
              "      <td>0.0</td>\n",
              "      <td>25.0</td>\n",
              "      <td>55.0</td>\n",
              "    </tr>\n",
              "    <tr>\n",
              "      <th>Units</th>\n",
              "      <td>291451.0</td>\n",
              "      <td>1.026022</td>\n",
              "      <td>0.202986</td>\n",
              "      <td>0.0</td>\n",
              "      <td>1.0</td>\n",
              "      <td>1.0</td>\n",
              "      <td>1.0</td>\n",
              "      <td>4.0</td>\n",
              "    </tr>\n",
              "    <tr>\n",
              "      <th>OCLTV</th>\n",
              "      <td>291451.0</td>\n",
              "      <td>76.960529</td>\n",
              "      <td>15.236154</td>\n",
              "      <td>0.0</td>\n",
              "      <td>70.0</td>\n",
              "      <td>80.0</td>\n",
              "      <td>90.0</td>\n",
              "      <td>110.0</td>\n",
              "    </tr>\n",
              "    <tr>\n",
              "      <th>DTI</th>\n",
              "      <td>291451.0</td>\n",
              "      <td>30.033453</td>\n",
              "      <td>13.203974</td>\n",
              "      <td>0.0</td>\n",
              "      <td>22.0</td>\n",
              "      <td>31.0</td>\n",
              "      <td>39.0</td>\n",
              "      <td>65.0</td>\n",
              "    </tr>\n",
              "    <tr>\n",
              "      <th>OrigUPB</th>\n",
              "      <td>291451.0</td>\n",
              "      <td>124940.387921</td>\n",
              "      <td>53657.440624</td>\n",
              "      <td>8000.0</td>\n",
              "      <td>83000.0</td>\n",
              "      <td>117000.0</td>\n",
              "      <td>160000.0</td>\n",
              "      <td>497000.0</td>\n",
              "    </tr>\n",
              "    <tr>\n",
              "      <th>LTV</th>\n",
              "      <td>291451.0</td>\n",
              "      <td>76.937986</td>\n",
              "      <td>15.225298</td>\n",
              "      <td>0.0</td>\n",
              "      <td>70.0</td>\n",
              "      <td>80.0</td>\n",
              "      <td>90.0</td>\n",
              "      <td>103.0</td>\n",
              "    </tr>\n",
              "    <tr>\n",
              "      <th>OrigLoanTerm</th>\n",
              "      <td>291451.0</td>\n",
              "      <td>359.835375</td>\n",
              "      <td>2.286939</td>\n",
              "      <td>301.0</td>\n",
              "      <td>360.0</td>\n",
              "      <td>360.0</td>\n",
              "      <td>360.0</td>\n",
              "      <td>361.0</td>\n",
              "    </tr>\n",
              "    <tr>\n",
              "      <th>EverDelinquent</th>\n",
              "      <td>291451.0</td>\n",
              "      <td>0.197848</td>\n",
              "      <td>0.398378</td>\n",
              "      <td>0.0</td>\n",
              "      <td>0.0</td>\n",
              "      <td>0.0</td>\n",
              "      <td>0.0</td>\n",
              "      <td>1.0</td>\n",
              "    </tr>\n",
              "    <tr>\n",
              "      <th>MonthsDelinquent</th>\n",
              "      <td>291451.0</td>\n",
              "      <td>1.837729</td>\n",
              "      <td>8.809392</td>\n",
              "      <td>0.0</td>\n",
              "      <td>0.0</td>\n",
              "      <td>0.0</td>\n",
              "      <td>0.0</td>\n",
              "      <td>180.0</td>\n",
              "    </tr>\n",
              "    <tr>\n",
              "      <th>MonthsInRepayment</th>\n",
              "      <td>291451.0</td>\n",
              "      <td>60.805291</td>\n",
              "      <td>46.142599</td>\n",
              "      <td>1.0</td>\n",
              "      <td>34.0</td>\n",
              "      <td>48.0</td>\n",
              "      <td>63.0</td>\n",
              "      <td>212.0</td>\n",
              "    </tr>\n",
              "  </tbody>\n",
              "</table>\n",
              "</div>\n",
              "      <button class=\"colab-df-convert\" onclick=\"convertToInteractive('df-738b5635-b0d8-4f79-b7c1-f81546d57940')\"\n",
              "              title=\"Convert this dataframe to an interactive table.\"\n",
              "              style=\"display:none;\">\n",
              "        \n",
              "  <svg xmlns=\"http://www.w3.org/2000/svg\" height=\"24px\"viewBox=\"0 0 24 24\"\n",
              "       width=\"24px\">\n",
              "    <path d=\"M0 0h24v24H0V0z\" fill=\"none\"/>\n",
              "    <path d=\"M18.56 5.44l.94 2.06.94-2.06 2.06-.94-2.06-.94-.94-2.06-.94 2.06-2.06.94zm-11 1L8.5 8.5l.94-2.06 2.06-.94-2.06-.94L8.5 2.5l-.94 2.06-2.06.94zm10 10l.94 2.06.94-2.06 2.06-.94-2.06-.94-.94-2.06-.94 2.06-2.06.94z\"/><path d=\"M17.41 7.96l-1.37-1.37c-.4-.4-.92-.59-1.43-.59-.52 0-1.04.2-1.43.59L10.3 9.45l-7.72 7.72c-.78.78-.78 2.05 0 2.83L4 21.41c.39.39.9.59 1.41.59.51 0 1.02-.2 1.41-.59l7.78-7.78 2.81-2.81c.8-.78.8-2.07 0-2.86zM5.41 20L4 18.59l7.72-7.72 1.47 1.35L5.41 20z\"/>\n",
              "  </svg>\n",
              "      </button>\n",
              "      \n",
              "  <style>\n",
              "    .colab-df-container {\n",
              "      display:flex;\n",
              "      flex-wrap:wrap;\n",
              "      gap: 12px;\n",
              "    }\n",
              "\n",
              "    .colab-df-convert {\n",
              "      background-color: #E8F0FE;\n",
              "      border: none;\n",
              "      border-radius: 50%;\n",
              "      cursor: pointer;\n",
              "      display: none;\n",
              "      fill: #1967D2;\n",
              "      height: 32px;\n",
              "      padding: 0 0 0 0;\n",
              "      width: 32px;\n",
              "    }\n",
              "\n",
              "    .colab-df-convert:hover {\n",
              "      background-color: #E2EBFA;\n",
              "      box-shadow: 0px 1px 2px rgba(60, 64, 67, 0.3), 0px 1px 3px 1px rgba(60, 64, 67, 0.15);\n",
              "      fill: #174EA6;\n",
              "    }\n",
              "\n",
              "    [theme=dark] .colab-df-convert {\n",
              "      background-color: #3B4455;\n",
              "      fill: #D2E3FC;\n",
              "    }\n",
              "\n",
              "    [theme=dark] .colab-df-convert:hover {\n",
              "      background-color: #434B5C;\n",
              "      box-shadow: 0px 1px 3px 1px rgba(0, 0, 0, 0.15);\n",
              "      filter: drop-shadow(0px 1px 2px rgba(0, 0, 0, 0.3));\n",
              "      fill: #FFFFFF;\n",
              "    }\n",
              "  </style>\n",
              "\n",
              "      <script>\n",
              "        const buttonEl =\n",
              "          document.querySelector('#df-738b5635-b0d8-4f79-b7c1-f81546d57940 button.colab-df-convert');\n",
              "        buttonEl.style.display =\n",
              "          google.colab.kernel.accessAllowed ? 'block' : 'none';\n",
              "\n",
              "        async function convertToInteractive(key) {\n",
              "          const element = document.querySelector('#df-738b5635-b0d8-4f79-b7c1-f81546d57940');\n",
              "          const dataTable =\n",
              "            await google.colab.kernel.invokeFunction('convertToInteractive',\n",
              "                                                     [key], {});\n",
              "          if (!dataTable) return;\n",
              "\n",
              "          const docLinkHtml = 'Like what you see? Visit the ' +\n",
              "            '<a target=\"_blank\" href=https://colab.research.google.com/notebooks/data_table.ipynb>data table notebook</a>'\n",
              "            + ' to learn more about interactive tables.';\n",
              "          element.innerHTML = '';\n",
              "          dataTable['output_type'] = 'display_data';\n",
              "          await google.colab.output.renderOutput(dataTable, element);\n",
              "          const docLink = document.createElement('div');\n",
              "          docLink.innerHTML = docLinkHtml;\n",
              "          element.appendChild(docLink);\n",
              "        }\n",
              "      </script>\n",
              "    </div>\n",
              "  </div>\n",
              "  "
            ]
          },
          "metadata": {},
          "execution_count": 13
        }
      ],
      "source": [
        "# checking at insights of the Numerical Data\n",
        "df[num_col].describe().transpose()"
      ]
    },
    {
      "cell_type": "code",
      "execution_count": null,
      "metadata": {
        "colab": {
          "base_uri": "https://localhost:8080/",
          "height": 664
        },
        "id": "LvyEvaqDtQVJ",
        "outputId": "01c0c0f9-560f-476a-9014-86583cbee550"
      },
      "outputs": [
        {
          "output_type": "display_data",
          "data": {
            "text/plain": [
              "<Figure size 1152x1008 with 2 Axes>"
            ],
            "image/png": "[encoded data removed]"
          },
          "metadata": {
            "needs_background": "light"
          }
        }
      ],
      "source": [
        "# checking for correlation between the features\n",
        "f, ax = plt.subplots(figsize=(16, 14))\n",
        "sns.heatmap(df.corr(), cmap='RdYlGn_r', linewidths=0.5, annot =True)\n",
        "plt.show()"
      ]
    },
    {
      "cell_type": "code",
      "execution_count": null,
      "metadata": {
        "colab": {
          "base_uri": "https://localhost:8080/",
          "height": 297
        },
        "id": "h4BdBxEntQYW",
        "outputId": "f65b9c59-0b7d-44cb-cb2f-fce2fd883ef4"
      },
      "outputs": [
        {
          "output_type": "display_data",
          "data": {
            "text/plain": [
              "<Figure size 1440x576 with 1 Axes>"
            ],
            "image/png": "[encoded data removed]"
          },
          "metadata": {
            "needs_background": "light"
          }
        }
      ],
      "source": [
        "# plotting boxplots for figuring out for outliers\n",
        "\n",
        "plt.figure(figsize=(20,8))\n",
        "df.boxplot(column = ['CreditScore','LTV','OCLTV','DTI','MIP','MonthsInRepayment','MonthsDelinquent','EverDelinquent','OrigInterestRate'])\n",
        "plt.show()"
      ]
    },
    {
      "cell_type": "markdown",
      "metadata": {
        "id": "VlzOMpb1w9Iy"
      },
      "source": [
        "# categorical Data Analysis"
      ]
    },
    {
      "cell_type": "code",
      "execution_count": null,
      "metadata": {
        "id": "epskRTWdtQii"
      },
      "outputs": [],
      "source": [
        "# checking for categorical columns\n",
        "cat= df.select_dtypes(include = 'object')"
      ]
    },
    {
      "cell_type": "code",
      "execution_count": null,
      "metadata": {
        "colab": {
          "base_uri": "https://localhost:8080/"
        },
        "id": "p_ztLre00mJr",
        "outputId": "f3d12de0-b742-4892-e34b-46305b37ae93"
      },
      "outputs": [
        {
          "output_type": "stream",
          "name": "stdout",
          "text": [
            "<class 'pandas.core.frame.DataFrame'>\n",
            "RangeIndex: 291451 entries, 0 to 291450\n",
            "Data columns (total 14 columns):\n",
            " #   Column              Non-Null Count   Dtype \n",
            "---  ------              --------------   ----- \n",
            " 0   FirstTimeHomebuyer  291451 non-null  object\n",
            " 1   MSA                 291451 non-null  object\n",
            " 2   Occupancy           291451 non-null  object\n",
            " 3   Channel             291451 non-null  object\n",
            " 4   PPM                 291451 non-null  object\n",
            " 5   ProductType         291451 non-null  object\n",
            " 6   PropertyState       291451 non-null  object\n",
            " 7   PropertyType        291451 non-null  object\n",
            " 8   PostalCode          291451 non-null  object\n",
            " 9   LoanSeqNum          291451 non-null  object\n",
            " 10  LoanPurpose         291451 non-null  object\n",
            " 11  NumBorrowers        291451 non-null  object\n",
            " 12  SellerName          266457 non-null  object\n",
            " 13  ServicerName        291451 non-null  object\n",
            "dtypes: object(14)\n",
            "memory usage: 31.1+ MB\n"
          ]
        }
      ],
      "source": [
        "# checking for insights of categorical columns\n",
        "cat.info()"
      ]
    },
    {
      "cell_type": "code",
      "execution_count": null,
      "metadata": {
        "colab": {
          "base_uri": "https://localhost:8080/",
          "height": 256
        },
        "id": "fcdaq55htQlp",
        "outputId": "a8c97b5a-8e60-497d-da84-f35080c131a4"
      },
      "outputs": [
        {
          "output_type": "execute_result",
          "data": {
            "text/plain": [
              "       FirstTimeHomebuyer     MSA Occupancy Channel     PPM ProductType  \\\n",
              "count              291451  291451    291451  291451  291451      291451   \n",
              "unique                  3     392         3       4       3           1   \n",
              "top                     N   X             O       T       N       FRM     \n",
              "freq               184154   39100    276131  167670  282125      291451   \n",
              "\n",
              "       PropertyState PropertyType PostalCode    LoanSeqNum LoanPurpose  \\\n",
              "count         291451       291451     291451        291451      291451   \n",
              "unique            53            7       1767        291451           3   \n",
              "top               CA           SF      94500  F199Q1268030           P   \n",
              "freq           43327       244923       2582             1      123404   \n",
              "\n",
              "       NumBorrowers SellerName          ServicerName  \n",
              "count        291451     266457                291451  \n",
              "unique            3         20                    20  \n",
              "top               2         Ot  Other servicers       \n",
              "freq         187335      76943                 64043  "
            ],
            "text/html": [
              "\n",
              "  <div id=\"df-e98d9dec-999c-4d52-b225-06eb82f33544\">\n",
              "    <div class=\"colab-df-container\">\n",
              "      <div>\n",
              "<style scoped>\n",
              "    .dataframe tbody tr th:only-of-type {\n",
              "        vertical-align: middle;\n",
              "    }\n",
              "\n",
              "    .dataframe tbody tr th {\n",
              "        vertical-align: top;\n",
              "    }\n",
              "\n",
              "    .dataframe thead th {\n",
              "        text-align: right;\n",
              "    }\n",
              "</style>\n",
              "<table border=\"1\" class=\"dataframe\">\n",
              "  <thead>\n",
              "    <tr style=\"text-align: right;\">\n",
              "      <th></th>\n",
              "      <th>FirstTimeHomebuyer</th>\n",
              "      <th>MSA</th>\n",
              "      <th>Occupancy</th>\n",
              "      <th>Channel</th>\n",
              "      <th>PPM</th>\n",
              "      <th>ProductType</th>\n",
              "      <th>PropertyState</th>\n",
              "      <th>PropertyType</th>\n",
              "      <th>PostalCode</th>\n",
              "      <th>LoanSeqNum</th>\n",
              "      <th>LoanPurpose</th>\n",
              "      <th>NumBorrowers</th>\n",
              "      <th>SellerName</th>\n",
              "      <th>ServicerName</th>\n",
              "    </tr>\n",
              "  </thead>\n",
              "  <tbody>\n",
              "    <tr>\n",
              "      <th>count</th>\n",
              "      <td>291451</td>\n",
              "      <td>291451</td>\n",
              "      <td>291451</td>\n",
              "      <td>291451</td>\n",
              "      <td>291451</td>\n",
              "      <td>291451</td>\n",
              "      <td>291451</td>\n",
              "      <td>291451</td>\n",
              "      <td>291451</td>\n",
              "      <td>291451</td>\n",
              "      <td>291451</td>\n",
              "      <td>291451</td>\n",
              "      <td>266457</td>\n",
              "      <td>291451</td>\n",
              "    </tr>\n",
              "    <tr>\n",
              "      <th>unique</th>\n",
              "      <td>3</td>\n",
              "      <td>392</td>\n",
              "      <td>3</td>\n",
              "      <td>4</td>\n",
              "      <td>3</td>\n",
              "      <td>1</td>\n",
              "      <td>53</td>\n",
              "      <td>7</td>\n",
              "      <td>1767</td>\n",
              "      <td>291451</td>\n",
              "      <td>3</td>\n",
              "      <td>3</td>\n",
              "      <td>20</td>\n",
              "      <td>20</td>\n",
              "    </tr>\n",
              "    <tr>\n",
              "      <th>top</th>\n",
              "      <td>N</td>\n",
              "      <td>X</td>\n",
              "      <td>O</td>\n",
              "      <td>T</td>\n",
              "      <td>N</td>\n",
              "      <td>FRM</td>\n",
              "      <td>CA</td>\n",
              "      <td>SF</td>\n",
              "      <td>94500</td>\n",
              "      <td>F199Q1268030</td>\n",
              "      <td>P</td>\n",
              "      <td>2</td>\n",
              "      <td>Ot</td>\n",
              "      <td>Other servicers</td>\n",
              "    </tr>\n",
              "    <tr>\n",
              "      <th>freq</th>\n",
              "      <td>184154</td>\n",
              "      <td>39100</td>\n",
              "      <td>276131</td>\n",
              "      <td>167670</td>\n",
              "      <td>282125</td>\n",
              "      <td>291451</td>\n",
              "      <td>43327</td>\n",
              "      <td>244923</td>\n",
              "      <td>2582</td>\n",
              "      <td>1</td>\n",
              "      <td>123404</td>\n",
              "      <td>187335</td>\n",
              "      <td>76943</td>\n",
              "      <td>64043</td>\n",
              "    </tr>\n",
              "  </tbody>\n",
              "</table>\n",
              "</div>\n",
              "      <button class=\"colab-df-convert\" onclick=\"convertToInteractive('df-e98d9dec-999c-4d52-b225-06eb82f33544')\"\n",
              "              title=\"Convert this dataframe to an interactive table.\"\n",
              "              style=\"display:none;\">\n",
              "        \n",
              "  <svg xmlns=\"http://www.w3.org/2000/svg\" height=\"24px\"viewBox=\"0 0 24 24\"\n",
              "       width=\"24px\">\n",
              "    <path d=\"M0 0h24v24H0V0z\" fill=\"none\"/>\n",
              "    <path d=\"M18.56 5.44l.94 2.06.94-2.06 2.06-.94-2.06-.94-.94-2.06-.94 2.06-2.06.94zm-11 1L8.5 8.5l.94-2.06 2.06-.94-2.06-.94L8.5 2.5l-.94 2.06-2.06.94zm10 10l.94 2.06.94-2.06 2.06-.94-2.06-.94-.94-2.06-.94 2.06-2.06.94z\"/><path d=\"M17.41 7.96l-1.37-1.37c-.4-.4-.92-.59-1.43-.59-.52 0-1.04.2-1.43.59L10.3 9.45l-7.72 7.72c-.78.78-.78 2.05 0 2.83L4 21.41c.39.39.9.59 1.41.59.51 0 1.02-.2 1.41-.59l7.78-7.78 2.81-2.81c.8-.78.8-2.07 0-2.86zM5.41 20L4 18.59l7.72-7.72 1.47 1.35L5.41 20z\"/>\n",
              "  </svg>\n",
              "      </button>\n",
              "      \n",
              "  <style>\n",
              "    .colab-df-container {\n",
              "      display:flex;\n",
              "      flex-wrap:wrap;\n",
              "      gap: 12px;\n",
              "    }\n",
              "\n",
              "    .colab-df-convert {\n",
              "      background-color: #E8F0FE;\n",
              "      border: none;\n",
              "      border-radius: 50%;\n",
              "      cursor: pointer;\n",
              "      display: none;\n",
              "      fill: #1967D2;\n",
              "      height: 32px;\n",
              "      padding: 0 0 0 0;\n",
              "      width: 32px;\n",
              "    }\n",
              "\n",
              "    .colab-df-convert:hover {\n",
              "      background-color: #E2EBFA;\n",
              "      box-shadow: 0px 1px 2px rgba(60, 64, 67, 0.3), 0px 1px 3px 1px rgba(60, 64, 67, 0.15);\n",
              "      fill: #174EA6;\n",
              "    }\n",
              "\n",
              "    [theme=dark] .colab-df-convert {\n",
              "      background-color: #3B4455;\n",
              "      fill: #D2E3FC;\n",
              "    }\n",
              "\n",
              "    [theme=dark] .colab-df-convert:hover {\n",
              "      background-color: #434B5C;\n",
              "      box-shadow: 0px 1px 3px 1px rgba(0, 0, 0, 0.15);\n",
              "      filter: drop-shadow(0px 1px 2px rgba(0, 0, 0, 0.3));\n",
              "      fill: #FFFFFF;\n",
              "    }\n",
              "  </style>\n",
              "\n",
              "      <script>\n",
              "        const buttonEl =\n",
              "          document.querySelector('#df-e98d9dec-999c-4d52-b225-06eb82f33544 button.colab-df-convert');\n",
              "        buttonEl.style.display =\n",
              "          google.colab.kernel.accessAllowed ? 'block' : 'none';\n",
              "\n",
              "        async function convertToInteractive(key) {\n",
              "          const element = document.querySelector('#df-e98d9dec-999c-4d52-b225-06eb82f33544');\n",
              "          const dataTable =\n",
              "            await google.colab.kernel.invokeFunction('convertToInteractive',\n",
              "                                                     [key], {});\n",
              "          if (!dataTable) return;\n",
              "\n",
              "          const docLinkHtml = 'Like what you see? Visit the ' +\n",
              "            '<a target=\"_blank\" href=https://colab.research.google.com/notebooks/data_table.ipynb>data table notebook</a>'\n",
              "            + ' to learn more about interactive tables.';\n",
              "          element.innerHTML = '';\n",
              "          dataTable['output_type'] = 'display_data';\n",
              "          await google.colab.output.renderOutput(dataTable, element);\n",
              "          const docLink = document.createElement('div');\n",
              "          docLink.innerHTML = docLinkHtml;\n",
              "          element.appendChild(docLink);\n",
              "        }\n",
              "      </script>\n",
              "    </div>\n",
              "  </div>\n",
              "  "
            ]
          },
          "metadata": {},
          "execution_count": 18
        }
      ],
      "source": [
        "# checking for insights of categorical columns\n",
        "cat.describe()"
      ]
    },
    {
      "cell_type": "code",
      "execution_count": null,
      "metadata": {
        "colab": {
          "base_uri": "https://localhost:8080/",
          "height": 1000
        },
        "id": "x1xPU6KDtQn0",
        "outputId": "3bcc9cc9-776f-439f-ca19-fdc74a9ecaea"
      },
      "outputs": [
        {
          "output_type": "display_data",
          "data": {
            "text/plain": [
              "<Figure size 360x432 with 1 Axes>"
            ],
            "image/png": "[encoded data removed]"
          },
          "metadata": {
            "needs_background": "light"
          }
        },
        {
          "output_type": "display_data",
          "data": {
            "text/plain": [
              "<Figure size 360x432 with 1 Axes>"
            ],
            "image/png": "[encoded data removed]"
          },
          "metadata": {
            "needs_background": "light"
          }
        },
        {
          "output_type": "display_data",
          "data": {
            "text/plain": [
              "<Figure size 360x432 with 1 Axes>"
            ],
            "image/png": "[encoded data removed]"
          },
          "metadata": {
            "needs_background": "light"
          }
        },
        {
          "output_type": "display_data",
          "data": {
            "text/plain": [
              "<Figure size 360x432 with 1 Axes>"
            ],
            "image/png": "[encoded data removed]"
          },
          "metadata": {
            "needs_background": "light"
          }
        },
        {
          "output_type": "display_data",
          "data": {
            "text/plain": [
              "<Figure size 360x432 with 1 Axes>"
            ],
            "image/png": "[encoded data removed]"
          },
          "metadata": {
            "needs_background": "light"
          }
        },
        {
          "output_type": "display_data",
          "data": {
            "text/plain": [
              "<Figure size 360x432 with 1 Axes>"
            ],
            "image/png": "[encoded data removed]"
          },
          "metadata": {
            "needs_background": "light"
          }
        },
        {
          "output_type": "display_data",
          "data": {
            "text/plain": [
              "<Figure size 360x432 with 1 Axes>"
            ],
            "image/png": "[encoded data removed]"
          },
          "metadata": {
            "needs_background": "light"
          }
        }
      ],
      "source": [
        "# using chart bots \n",
        "cat=['FirstTimeHomebuyer','Occupancy','Channel','PPM','PropertyType','LoanPurpose','EverDelinquent']\n",
        "\n",
        "for i in cat:\n",
        "  plt.figure( figsize=(5, 6) )\n",
        "  sns.countplot(df[i] )\n",
        "  plt.show()"
      ]
    },
    {
      "cell_type": "markdown",
      "metadata": {
        "id": "atRfhzzf-Lvm"
      },
      "source": [
        "# Creating New Columns"
      ]
    },
    {
      "cell_type": "code",
      "execution_count": null,
      "metadata": {
        "colab": {
          "base_uri": "https://localhost:8080/"
        },
        "id": "gA8elIimA-3M",
        "outputId": "d8e6b746-0bd1-4208-8db2-eb1ad17af326"
      },
      "outputs": [
        {
          "output_type": "stream",
          "name": "stdout",
          "text": [
            "count of zeros in the column of CreditScore: 1189\n",
            "Mean of the CreditScore : 708.9369911237224\n"
          ]
        }
      ],
      "source": [
        "# Arranging Credit Score into range values and assigning labels \n",
        "\n",
        "count=(df['CreditScore'] == 0).sum()\n",
        "print('count of zeros in the column of CreditScore:', count)\n",
        "print('Mean of the CreditScore :', (df['CreditScore'].mean()))\n",
        "\n",
        "# replacing the record '0'  with '850'\n",
        "df['CreditScore'] = df['CreditScore'].replace(0,708)"
      ]
    },
    {
      "cell_type": "code",
      "execution_count": null,
      "metadata": {
        "id": "R1GjeVLp8YTr"
      },
      "outputs": [],
      "source": [
        "# creating a new column 'creditrange'\n",
        "df['CreditRange'] = pd.cut(df['CreditScore'], bins = [ 0, 650, 700, 750, 900 ], labels = ['poor', 'fair', 'good', 'excellent'])"
      ]
    },
    {
      "cell_type": "code",
      "execution_count": null,
      "metadata": {
        "id": "7nGpB8IE8YW4"
      },
      "outputs": [],
      "source": [
        "# Creating a new column 'LTVRange'\n",
        "df['LTVRange'] = pd.cut(df['LTV'], bins = [ 0, 25, 50, 100 ], labels = ['low', 'medium', 'high'])"
      ]
    },
    {
      "cell_type": "code",
      "execution_count": null,
      "metadata": {
        "id": "OUaiy5BW8YaL"
      },
      "outputs": [],
      "source": [
        "# Creating a new column 'LoanTenure'\n",
        "df['RepayRange'] = pd.cut(df['MonthsInRepayment'], bins = [ 0, 48, 96, 144, 192, 240 ], labels = ['0-4yrs', '4-8yrs', '8-12yrs', '12-16yrs', '16-20yrs'])"
      ]
    },
    {
      "cell_type": "code",
      "execution_count": null,
      "metadata": {
        "id": "wTeE6s_0CjmV"
      },
      "outputs": [],
      "source": [
        "df['LoanTenure'] = (df['MaturityDate'] - df['FirstPaymentDate']).dt.days\n",
        "df = df.astype({\"LoanTenure\": np.float})\n",
        "df['LoanTenure'] = df['LoanTenure'].div(365)"
      ]
    },
    {
      "cell_type": "code",
      "execution_count": null,
      "metadata": {
        "id": "p-H7zndG8YdQ"
      },
      "outputs": [],
      "source": [
        "# Removed X values from FirstTimeHomeBuyer column\n",
        "df = df[df.FirstTimeHomebuyer != 'X']\n",
        "df.rename(columns={'FirstTimeHomebuyer':'Homebuyer'},inplace=True)"
      ]
    },
    {
      "cell_type": "markdown",
      "metadata": {
        "id": "pcfK4UygUbZx"
      },
      "source": [
        "# Feature Engineering"
      ]
    },
    {
      "cell_type": "code",
      "execution_count": null,
      "metadata": {
        "colab": {
          "base_uri": "https://localhost:8080/"
        },
        "id": "xaWtJKp38YrK",
        "outputId": "456c71cb-b104-4cd4-f46a-f141af55f983"
      },
      "outputs": [
        {
          "output_type": "stream",
          "name": "stdout",
          "text": [
            "<class 'pandas.core.frame.DataFrame'>\n",
            "Int64Index: 213436 entries, 0 to 291450\n",
            "Data columns (total 32 columns):\n",
            " #   Column             Non-Null Count   Dtype         \n",
            "---  ------             --------------   -----         \n",
            " 0   CreditScore        213436 non-null  int64         \n",
            " 1   FirstPaymentDate   213436 non-null  datetime64[ns]\n",
            " 2   Homebuyer          213436 non-null  object        \n",
            " 3   MaturityDate       213436 non-null  datetime64[ns]\n",
            " 4   MSA                213436 non-null  object        \n",
            " 5   MIP                213436 non-null  int64         \n",
            " 6   Units              213436 non-null  int64         \n",
            " 7   Occupancy          213436 non-null  object        \n",
            " 8   OCLTV              213436 non-null  int64         \n",
            " 9   DTI                213436 non-null  int64         \n",
            " 10  OrigUPB            213436 non-null  int64         \n",
            " 11  LTV                213436 non-null  int64         \n",
            " 12  OrigInterestRate   213436 non-null  float64       \n",
            " 13  Channel            213436 non-null  object        \n",
            " 14  PPM                213436 non-null  object        \n",
            " 15  ProductType        213436 non-null  object        \n",
            " 16  PropertyState      213436 non-null  object        \n",
            " 17  PropertyType       213436 non-null  object        \n",
            " 18  PostalCode         213436 non-null  object        \n",
            " 19  LoanSeqNum         213436 non-null  object        \n",
            " 20  LoanPurpose        213436 non-null  object        \n",
            " 21  OrigLoanTerm       213436 non-null  int64         \n",
            " 22  NumBorrowers       213436 non-null  object        \n",
            " 23  SellerName         197615 non-null  object        \n",
            " 24  ServicerName       213436 non-null  object        \n",
            " 25  EverDelinquent     213436 non-null  int64         \n",
            " 26  MonthsDelinquent   213436 non-null  int64         \n",
            " 27  MonthsInRepayment  213436 non-null  int64         \n",
            " 28  CreditRange        213436 non-null  category      \n",
            " 29  LTVRange           213432 non-null  category      \n",
            " 30  RepayRange         213436 non-null  category      \n",
            " 31  LoanTenure         213436 non-null  float64       \n",
            "dtypes: category(3), datetime64[ns](2), float64(2), int64(11), object(14)\n",
            "memory usage: 49.5+ MB\n"
          ]
        }
      ],
      "source": [
        "# checking dataset features for Feature Engineering\n",
        "df.info()"
      ]
    },
    {
      "cell_type": "code",
      "execution_count": null,
      "metadata": {
        "id": "-HOB3Vf_8YwW"
      },
      "outputs": [],
      "source": [
        "# Dropping the feature \n",
        "df = df.drop(['FirstPaymentDate','MaturityDate','OCLTV','PropertyState','PropertyType','PostalCode','ProductType','LoanSeqNum','SellerName','ServicerName','MonthsDelinquent'],axis = 1)"
      ]
    },
    {
      "cell_type": "code",
      "execution_count": null,
      "metadata": {
        "colab": {
          "base_uri": "https://localhost:8080/",
          "height": 205
        },
        "id": "KMcmIAnk8Yy5",
        "outputId": "987dc169-5be4-4f56-c034-947dfe38ddf0"
      },
      "outputs": [
        {
          "output_type": "execute_result",
          "data": {
            "text/plain": [
              "   CreditScore Homebuyer    MSA  MIP  Units Occupancy  DTI  OrigUPB  LTV  \\\n",
              "0          708         N  16974   25      1         O   27   117000   89   \n",
              "1          708         N  19740    0      1         O   17   109000   73   \n",
              "\n",
              "   OrigInterestRate  ... PPM LoanPurpose OrigLoanTerm  NumBorrowers  \\\n",
              "0              6.75  ...   N           P          360             2   \n",
              "1              6.50  ...   N           N          360             1   \n",
              "\n",
              "  EverDelinquent  MonthsInRepayment  CreditRange LTVRange RepayRange  \\\n",
              "0              0                 52         good     high     4-8yrs   \n",
              "1              0                144         good     high    8-12yrs   \n",
              "\n",
              "  LoanTenure  \n",
              "0  29.936986  \n",
              "1  29.936986  \n",
              "\n",
              "[2 rows x 21 columns]"
            ],
            "text/html": [
              "\n",
              "  <div id=\"df-8d41791f-a0d0-4bcd-8261-1828d27a6820\">\n",
              "    <div class=\"colab-df-container\">\n",
              "      <div>\n",
              "<style scoped>\n",
              "    .dataframe tbody tr th:only-of-type {\n",
              "        vertical-align: middle;\n",
              "    }\n",
              "\n",
              "    .dataframe tbody tr th {\n",
              "        vertical-align: top;\n",
              "    }\n",
              "\n",
              "    .dataframe thead th {\n",
              "        text-align: right;\n",
              "    }\n",
              "</style>\n",
              "<table border=\"1\" class=\"dataframe\">\n",
              "  <thead>\n",
              "    <tr style=\"text-align: right;\">\n",
              "      <th></th>\n",
              "      <th>CreditScore</th>\n",
              "      <th>Homebuyer</th>\n",
              "      <th>MSA</th>\n",
              "      <th>MIP</th>\n",
              "      <th>Units</th>\n",
              "      <th>Occupancy</th>\n",
              "      <th>DTI</th>\n",
              "      <th>OrigUPB</th>\n",
              "      <th>LTV</th>\n",
              "      <th>OrigInterestRate</th>\n",
              "      <th>...</th>\n",
              "      <th>PPM</th>\n",
              "      <th>LoanPurpose</th>\n",
              "      <th>OrigLoanTerm</th>\n",
              "      <th>NumBorrowers</th>\n",
              "      <th>EverDelinquent</th>\n",
              "      <th>MonthsInRepayment</th>\n",
              "      <th>CreditRange</th>\n",
              "      <th>LTVRange</th>\n",
              "      <th>RepayRange</th>\n",
              "      <th>LoanTenure</th>\n",
              "    </tr>\n",
              "  </thead>\n",
              "  <tbody>\n",
              "    <tr>\n",
              "      <th>0</th>\n",
              "      <td>708</td>\n",
              "      <td>N</td>\n",
              "      <td>16974</td>\n",
              "      <td>25</td>\n",
              "      <td>1</td>\n",
              "      <td>O</td>\n",
              "      <td>27</td>\n",
              "      <td>117000</td>\n",
              "      <td>89</td>\n",
              "      <td>6.75</td>\n",
              "      <td>...</td>\n",
              "      <td>N</td>\n",
              "      <td>P</td>\n",
              "      <td>360</td>\n",
              "      <td>2</td>\n",
              "      <td>0</td>\n",
              "      <td>52</td>\n",
              "      <td>good</td>\n",
              "      <td>high</td>\n",
              "      <td>4-8yrs</td>\n",
              "      <td>29.936986</td>\n",
              "    </tr>\n",
              "    <tr>\n",
              "      <th>1</th>\n",
              "      <td>708</td>\n",
              "      <td>N</td>\n",
              "      <td>19740</td>\n",
              "      <td>0</td>\n",
              "      <td>1</td>\n",
              "      <td>O</td>\n",
              "      <td>17</td>\n",
              "      <td>109000</td>\n",
              "      <td>73</td>\n",
              "      <td>6.50</td>\n",
              "      <td>...</td>\n",
              "      <td>N</td>\n",
              "      <td>N</td>\n",
              "      <td>360</td>\n",
              "      <td>1</td>\n",
              "      <td>0</td>\n",
              "      <td>144</td>\n",
              "      <td>good</td>\n",
              "      <td>high</td>\n",
              "      <td>8-12yrs</td>\n",
              "      <td>29.936986</td>\n",
              "    </tr>\n",
              "  </tbody>\n",
              "</table>\n",
              "<p>2 rows × 21 columns</p>\n",
              "</div>\n",
              "      <button class=\"colab-df-convert\" onclick=\"convertToInteractive('df-8d41791f-a0d0-4bcd-8261-1828d27a6820')\"\n",
              "              title=\"Convert this dataframe to an interactive table.\"\n",
              "              style=\"display:none;\">\n",
              "        \n",
              "  <svg xmlns=\"http://www.w3.org/2000/svg\" height=\"24px\"viewBox=\"0 0 24 24\"\n",
              "       width=\"24px\">\n",
              "    <path d=\"M0 0h24v24H0V0z\" fill=\"none\"/>\n",
              "    <path d=\"M18.56 5.44l.94 2.06.94-2.06 2.06-.94-2.06-.94-.94-2.06-.94 2.06-2.06.94zm-11 1L8.5 8.5l.94-2.06 2.06-.94-2.06-.94L8.5 2.5l-.94 2.06-2.06.94zm10 10l.94 2.06.94-2.06 2.06-.94-2.06-.94-.94-2.06-.94 2.06-2.06.94z\"/><path d=\"M17.41 7.96l-1.37-1.37c-.4-.4-.92-.59-1.43-.59-.52 0-1.04.2-1.43.59L10.3 9.45l-7.72 7.72c-.78.78-.78 2.05 0 2.83L4 21.41c.39.39.9.59 1.41.59.51 0 1.02-.2 1.41-.59l7.78-7.78 2.81-2.81c.8-.78.8-2.07 0-2.86zM5.41 20L4 18.59l7.72-7.72 1.47 1.35L5.41 20z\"/>\n",
              "  </svg>\n",
              "      </button>\n",
              "      \n",
              "  <style>\n",
              "    .colab-df-container {\n",
              "      display:flex;\n",
              "      flex-wrap:wrap;\n",
              "      gap: 12px;\n",
              "    }\n",
              "\n",
              "    .colab-df-convert {\n",
              "      background-color: #E8F0FE;\n",
              "      border: none;\n",
              "      border-radius: 50%;\n",
              "      cursor: pointer;\n",
              "      display: none;\n",
              "      fill: #1967D2;\n",
              "      height: 32px;\n",
              "      padding: 0 0 0 0;\n",
              "      width: 32px;\n",
              "    }\n",
              "\n",
              "    .colab-df-convert:hover {\n",
              "      background-color: #E2EBFA;\n",
              "      box-shadow: 0px 1px 2px rgba(60, 64, 67, 0.3), 0px 1px 3px 1px rgba(60, 64, 67, 0.15);\n",
              "      fill: #174EA6;\n",
              "    }\n",
              "\n",
              "    [theme=dark] .colab-df-convert {\n",
              "      background-color: #3B4455;\n",
              "      fill: #D2E3FC;\n",
              "    }\n",
              "\n",
              "    [theme=dark] .colab-df-convert:hover {\n",
              "      background-color: #434B5C;\n",
              "      box-shadow: 0px 1px 3px 1px rgba(0, 0, 0, 0.15);\n",
              "      filter: drop-shadow(0px 1px 2px rgba(0, 0, 0, 0.3));\n",
              "      fill: #FFFFFF;\n",
              "    }\n",
              "  </style>\n",
              "\n",
              "      <script>\n",
              "        const buttonEl =\n",
              "          document.querySelector('#df-8d41791f-a0d0-4bcd-8261-1828d27a6820 button.colab-df-convert');\n",
              "        buttonEl.style.display =\n",
              "          google.colab.kernel.accessAllowed ? 'block' : 'none';\n",
              "\n",
              "        async function convertToInteractive(key) {\n",
              "          const element = document.querySelector('#df-8d41791f-a0d0-4bcd-8261-1828d27a6820');\n",
              "          const dataTable =\n",
              "            await google.colab.kernel.invokeFunction('convertToInteractive',\n",
              "                                                     [key], {});\n",
              "          if (!dataTable) return;\n",
              "\n",
              "          const docLinkHtml = 'Like what you see? Visit the ' +\n",
              "            '<a target=\"_blank\" href=https://colab.research.google.com/notebooks/data_table.ipynb>data table notebook</a>'\n",
              "            + ' to learn more about interactive tables.';\n",
              "          element.innerHTML = '';\n",
              "          dataTable['output_type'] = 'display_data';\n",
              "          await google.colab.output.renderOutput(dataTable, element);\n",
              "          const docLink = document.createElement('div');\n",
              "          docLink.innerHTML = docLinkHtml;\n",
              "          element.appendChild(docLink);\n",
              "        }\n",
              "      </script>\n",
              "    </div>\n",
              "  </div>\n",
              "  "
            ]
          },
          "metadata": {},
          "execution_count": 28
        }
      ],
      "source": [
        "df.head(2)"
      ]
    },
    {
      "cell_type": "code",
      "execution_count": null,
      "metadata": {
        "id": "wguibBi58Y2o"
      },
      "outputs": [],
      "source": [
        "# Label encoding\n",
        "from sklearn.preprocessing import LabelEncoder\n",
        "le=LabelEncoder()"
      ]
    },
    {
      "cell_type": "code",
      "execution_count": null,
      "metadata": {
        "id": "qRhnqa2S8Y6K"
      },
      "outputs": [],
      "source": [
        "# Encoding categorical columns\n",
        "\n",
        "df['Homebuyer'] = le.fit_transform(df['Homebuyer'])\n",
        "df['CreditRange'] = le.fit_transform(df['CreditRange'])\n",
        "df['RepayRange'] = le.fit_transform(df['RepayRange'])\n",
        "df['LTVRange'] = le.fit_transform(df['LTVRange'])"
      ]
    },
    {
      "cell_type": "code",
      "execution_count": null,
      "metadata": {
        "id": "3GKS5XZpeAA0"
      },
      "outputs": [],
      "source": [
        "# Spliting the data set setting the Target Variable\n",
        "\n",
        "X=df.drop([\"EverDelinquent\"],axis=1)\n",
        "y=df['EverDelinquent']\n",
        "\n",
        "#Label encoding for categoricals\n",
        "for colname in X.select_dtypes(\"object\"):\n",
        "    X[colname], _ = X[colname].factorize()\n",
        "discrete_features = X.dtypes == int\n"
      ]
    },
    {
      "cell_type": "code",
      "execution_count": null,
      "metadata": {
        "colab": {
          "base_uri": "https://localhost:8080/"
        },
        "id": "l_JzDqHc8ZDU",
        "outputId": "e960660b-aed1-461b-e408-d579d1adb47a"
      },
      "outputs": [
        {
          "output_type": "execute_result",
          "data": {
            "text/plain": [
              "CreditRange          0.040446\n",
              "CreditScore          0.035267\n",
              "Units                0.034806\n",
              "OrigLoanTerm         0.034256\n",
              "MonthsInRepayment    0.030828\n",
              "RepayRange           0.030483\n",
              "Channel              0.008035\n",
              "LoanTenure           0.007296\n",
              "NumBorrowers         0.006625\n",
              "OrigInterestRate     0.006159\n",
              "LoanPurpose          0.005995\n",
              "MIP                  0.005862\n",
              "LTV                  0.005555\n",
              "MSA                  0.005222\n",
              "DTI                  0.003104\n",
              "OrigUPB              0.002534\n",
              "Occupancy            0.000669\n",
              "PPM                  0.000472\n",
              "LTVRange             0.000430\n",
              "Homebuyer            0.000415\n",
              "Name: MI Scores, dtype: float64"
            ]
          },
          "metadata": {},
          "execution_count": 32
        }
      ],
      "source": [
        "# Calculating MI scores for data set Features\n",
        "\n",
        "from sklearn.feature_selection import mutual_info_classif\n",
        "\n",
        "mi_scores = mutual_info_classif(X, y)\n",
        "mi_scores = pd.Series(mi_scores,name=\"MI Scores\", index=X.columns)\n",
        "mi_scores = mi_scores.sort_values(ascending=False)\n",
        "mi_scores"
      ]
    },
    {
      "cell_type": "code",
      "execution_count": null,
      "metadata": {
        "colab": {
          "base_uri": "https://localhost:8080/",
          "height": 367
        },
        "id": "q5NCwHUOgbhL",
        "outputId": "eb03f84c-1eb0-49a6-8a37-4c816f1033b6"
      },
      "outputs": [
        {
          "output_type": "execute_result",
          "data": {
            "text/plain": [
              "<matplotlib.axes._subplots.AxesSubplot at 0x7fc4905665b0>"
            ]
          },
          "metadata": {},
          "execution_count": 33
        },
        {
          "output_type": "display_data",
          "data": {
            "text/plain": [
              "<Figure size 1440x576 with 1 Axes>"
            ],
            "image/png": "[encoded data removed]"
          },
          "metadata": {
            "needs_background": "light"
          }
        }
      ],
      "source": [
        "# checking MI score\n",
        "mi_scores.sort_values(ascending=False).plot.bar(figsize=(20, 8))"
      ]
    },
    {
      "cell_type": "code",
      "execution_count": null,
      "metadata": {
        "id": "baLz36BTgbn5"
      },
      "outputs": [],
      "source": [
        "# implementing statistical method to select independent features which have strong relationship with dependent feature.\n",
        "\n",
        "from sklearn.feature_selection import SelectKBest\n",
        "from sklearn.feature_selection import chi2\n",
        "bestfeatures = SelectKBest(score_func=chi2,k=10)\n",
        "fit = bestfeatures.fit(X,y)\n",
        "dfscore = pd.DataFrame(fit.scores_)\n",
        "dfcolumns = pd.DataFrame(X.columns)\n",
        "featureScores = pd.concat([dfcolumns,dfscore],axis=1)\n",
        "featureScores.columns =['Specs', 'Score']"
      ]
    },
    {
      "cell_type": "code",
      "execution_count": null,
      "metadata": {
        "colab": {
          "base_uri": "https://localhost:8080/",
          "height": 677
        },
        "id": "j45E-L5ZgbrR",
        "outputId": "c204c6a0-b1c4-479a-9975-d620720074a2"
      },
      "outputs": [
        {
          "output_type": "execute_result",
          "data": {
            "text/plain": [
              "                Specs         Score\n",
              "0         CreditScore  5.358081e+04\n",
              "1           Homebuyer  4.973148e+00\n",
              "2                 MSA  1.930419e+02\n",
              "3                 MIP  1.552051e+04\n",
              "4               Units  6.685963e-01\n",
              "5           Occupancy  2.222850e+00\n",
              "6                 DTI  2.017332e+03\n",
              "7             OrigUPB  2.057233e+07\n",
              "8                 LTV  3.223347e+03\n",
              "9    OrigInterestRate  1.366548e+01\n",
              "10            Channel  1.455845e+02\n",
              "11                PPM  6.324052e+01\n",
              "12        LoanPurpose  3.124530e+01\n",
              "13       OrigLoanTerm  4.300257e-01\n",
              "14       NumBorrowers  7.259915e+02\n",
              "15  MonthsInRepayment  3.885664e+05\n",
              "16        CreditRange  4.515960e+03\n",
              "17           LTVRange  6.053757e+02\n",
              "18         RepayRange  5.944551e+03\n",
              "19         LoanTenure  3.591759e-02"
            ],
            "text/html": [
              "\n",
              "  <div id=\"df-1d2a342f-1a7b-4669-ac9d-a24e803b3d6c\">\n",
              "    <div class=\"colab-df-container\">\n",
              "      <div>\n",
              "<style scoped>\n",
              "    .dataframe tbody tr th:only-of-type {\n",
              "        vertical-align: middle;\n",
              "    }\n",
              "\n",
              "    .dataframe tbody tr th {\n",
              "        vertical-align: top;\n",
              "    }\n",
              "\n",
              "    .dataframe thead th {\n",
              "        text-align: right;\n",
              "    }\n",
              "</style>\n",
              "<table border=\"1\" class=\"dataframe\">\n",
              "  <thead>\n",
              "    <tr style=\"text-align: right;\">\n",
              "      <th></th>\n",
              "      <th>Specs</th>\n",
              "      <th>Score</th>\n",
              "    </tr>\n",
              "  </thead>\n",
              "  <tbody>\n",
              "    <tr>\n",
              "      <th>0</th>\n",
              "      <td>CreditScore</td>\n",
              "      <td>5.358081e+04</td>\n",
              "    </tr>\n",
              "    <tr>\n",
              "      <th>1</th>\n",
              "      <td>Homebuyer</td>\n",
              "      <td>4.973148e+00</td>\n",
              "    </tr>\n",
              "    <tr>\n",
              "      <th>2</th>\n",
              "      <td>MSA</td>\n",
              "      <td>1.930419e+02</td>\n",
              "    </tr>\n",
              "    <tr>\n",
              "      <th>3</th>\n",
              "      <td>MIP</td>\n",
              "      <td>1.552051e+04</td>\n",
              "    </tr>\n",
              "    <tr>\n",
              "      <th>4</th>\n",
              "      <td>Units</td>\n",
              "      <td>6.685963e-01</td>\n",
              "    </tr>\n",
              "    <tr>\n",
              "      <th>5</th>\n",
              "      <td>Occupancy</td>\n",
              "      <td>2.222850e+00</td>\n",
              "    </tr>\n",
              "    <tr>\n",
              "      <th>6</th>\n",
              "      <td>DTI</td>\n",
              "      <td>2.017332e+03</td>\n",
              "    </tr>\n",
              "    <tr>\n",
              "      <th>7</th>\n",
              "      <td>OrigUPB</td>\n",
              "      <td>2.057233e+07</td>\n",
              "    </tr>\n",
              "    <tr>\n",
              "      <th>8</th>\n",
              "      <td>LTV</td>\n",
              "      <td>3.223347e+03</td>\n",
              "    </tr>\n",
              "    <tr>\n",
              "      <th>9</th>\n",
              "      <td>OrigInterestRate</td>\n",
              "      <td>1.366548e+01</td>\n",
              "    </tr>\n",
              "    <tr>\n",
              "      <th>10</th>\n",
              "      <td>Channel</td>\n",
              "      <td>1.455845e+02</td>\n",
              "    </tr>\n",
              "    <tr>\n",
              "      <th>11</th>\n",
              "      <td>PPM</td>\n",
              "      <td>6.324052e+01</td>\n",
              "    </tr>\n",
              "    <tr>\n",
              "      <th>12</th>\n",
              "      <td>LoanPurpose</td>\n",
              "      <td>3.124530e+01</td>\n",
              "    </tr>\n",
              "    <tr>\n",
              "      <th>13</th>\n",
              "      <td>OrigLoanTerm</td>\n",
              "      <td>4.300257e-01</td>\n",
              "    </tr>\n",
              "    <tr>\n",
              "      <th>14</th>\n",
              "      <td>NumBorrowers</td>\n",
              "      <td>7.259915e+02</td>\n",
              "    </tr>\n",
              "    <tr>\n",
              "      <th>15</th>\n",
              "      <td>MonthsInRepayment</td>\n",
              "      <td>3.885664e+05</td>\n",
              "    </tr>\n",
              "    <tr>\n",
              "      <th>16</th>\n",
              "      <td>CreditRange</td>\n",
              "      <td>4.515960e+03</td>\n",
              "    </tr>\n",
              "    <tr>\n",
              "      <th>17</th>\n",
              "      <td>LTVRange</td>\n",
              "      <td>6.053757e+02</td>\n",
              "    </tr>\n",
              "    <tr>\n",
              "      <th>18</th>\n",
              "      <td>RepayRange</td>\n",
              "      <td>5.944551e+03</td>\n",
              "    </tr>\n",
              "    <tr>\n",
              "      <th>19</th>\n",
              "      <td>LoanTenure</td>\n",
              "      <td>3.591759e-02</td>\n",
              "    </tr>\n",
              "  </tbody>\n",
              "</table>\n",
              "</div>\n",
              "      <button class=\"colab-df-convert\" onclick=\"convertToInteractive('df-1d2a342f-1a7b-4669-ac9d-a24e803b3d6c')\"\n",
              "              title=\"Convert this dataframe to an interactive table.\"\n",
              "              style=\"display:none;\">\n",
              "        \n",
              "  <svg xmlns=\"http://www.w3.org/2000/svg\" height=\"24px\"viewBox=\"0 0 24 24\"\n",
              "       width=\"24px\">\n",
              "    <path d=\"M0 0h24v24H0V0z\" fill=\"none\"/>\n",
              "    <path d=\"M18.56 5.44l.94 2.06.94-2.06 2.06-.94-2.06-.94-.94-2.06-.94 2.06-2.06.94zm-11 1L8.5 8.5l.94-2.06 2.06-.94-2.06-.94L8.5 2.5l-.94 2.06-2.06.94zm10 10l.94 2.06.94-2.06 2.06-.94-2.06-.94-.94-2.06-.94 2.06-2.06.94z\"/><path d=\"M17.41 7.96l-1.37-1.37c-.4-.4-.92-.59-1.43-.59-.52 0-1.04.2-1.43.59L10.3 9.45l-7.72 7.72c-.78.78-.78 2.05 0 2.83L4 21.41c.39.39.9.59 1.41.59.51 0 1.02-.2 1.41-.59l7.78-7.78 2.81-2.81c.8-.78.8-2.07 0-2.86zM5.41 20L4 18.59l7.72-7.72 1.47 1.35L5.41 20z\"/>\n",
              "  </svg>\n",
              "      </button>\n",
              "      \n",
              "  <style>\n",
              "    .colab-df-container {\n",
              "      display:flex;\n",
              "      flex-wrap:wrap;\n",
              "      gap: 12px;\n",
              "    }\n",
              "\n",
              "    .colab-df-convert {\n",
              "      background-color: #E8F0FE;\n",
              "      border: none;\n",
              "      border-radius: 50%;\n",
              "      cursor: pointer;\n",
              "      display: none;\n",
              "      fill: #1967D2;\n",
              "      height: 32px;\n",
              "      padding: 0 0 0 0;\n",
              "      width: 32px;\n",
              "    }\n",
              "\n",
              "    .colab-df-convert:hover {\n",
              "      background-color: #E2EBFA;\n",
              "      box-shadow: 0px 1px 2px rgba(60, 64, 67, 0.3), 0px 1px 3px 1px rgba(60, 64, 67, 0.15);\n",
              "      fill: #174EA6;\n",
              "    }\n",
              "\n",
              "    [theme=dark] .colab-df-convert {\n",
              "      background-color: #3B4455;\n",
              "      fill: #D2E3FC;\n",
              "    }\n",
              "\n",
              "    [theme=dark] .colab-df-convert:hover {\n",
              "      background-color: #434B5C;\n",
              "      box-shadow: 0px 1px 3px 1px rgba(0, 0, 0, 0.15);\n",
              "      filter: drop-shadow(0px 1px 2px rgba(0, 0, 0, 0.3));\n",
              "      fill: #FFFFFF;\n",
              "    }\n",
              "  </style>\n",
              "\n",
              "      <script>\n",
              "        const buttonEl =\n",
              "          document.querySelector('#df-1d2a342f-1a7b-4669-ac9d-a24e803b3d6c button.colab-df-convert');\n",
              "        buttonEl.style.display =\n",
              "          google.colab.kernel.accessAllowed ? 'block' : 'none';\n",
              "\n",
              "        async function convertToInteractive(key) {\n",
              "          const element = document.querySelector('#df-1d2a342f-1a7b-4669-ac9d-a24e803b3d6c');\n",
              "          const dataTable =\n",
              "            await google.colab.kernel.invokeFunction('convertToInteractive',\n",
              "                                                     [key], {});\n",
              "          if (!dataTable) return;\n",
              "\n",
              "          const docLinkHtml = 'Like what you see? Visit the ' +\n",
              "            '<a target=\"_blank\" href=https://colab.research.google.com/notebooks/data_table.ipynb>data table notebook</a>'\n",
              "            + ' to learn more about interactive tables.';\n",
              "          element.innerHTML = '';\n",
              "          dataTable['output_type'] = 'display_data';\n",
              "          await google.colab.output.renderOutput(dataTable, element);\n",
              "          const docLink = document.createElement('div');\n",
              "          docLink.innerHTML = docLinkHtml;\n",
              "          element.appendChild(docLink);\n",
              "        }\n",
              "      </script>\n",
              "    </div>\n",
              "  </div>\n",
              "  "
            ]
          },
          "metadata": {},
          "execution_count": 35
        }
      ],
      "source": [
        "featureScores"
      ]
    },
    {
      "cell_type": "code",
      "execution_count": null,
      "metadata": {
        "colab": {
          "base_uri": "https://localhost:8080/"
        },
        "id": "tFTA9w7nhDS_",
        "outputId": "23fb11a6-4599-4a32-92f6-165d0039de08"
      },
      "outputs": [
        {
          "output_type": "execute_result",
          "data": {
            "text/plain": [
              "ExtraTreesClassifier()"
            ]
          },
          "metadata": {},
          "execution_count": 36
        }
      ],
      "source": [
        "# This method also helps in finding importance of each independent with the dependent feature\n",
        "\n",
        "from sklearn.ensemble import ExtraTreesClassifier\n",
        "import matplotlib.pyplot as plt\n",
        "model=ExtraTreesClassifier()\n",
        "model.fit(X,y)"
      ]
    },
    {
      "cell_type": "code",
      "execution_count": null,
      "metadata": {
        "colab": {
          "base_uri": "https://localhost:8080/",
          "height": 265
        },
        "id": "dFkxBsVhhDWK",
        "outputId": "cb63743e-857c-4814-ca09-db653fe02608"
      },
      "outputs": [
        {
          "output_type": "display_data",
          "data": {
            "text/plain": [
              "<Figure size 432x288 with 1 Axes>"
            ],
            "image/png": "[encoded data removed]"
          },
          "metadata": {
            "needs_background": "light"
          }
        }
      ],
      "source": [
        "feat_importances = pd.Series(model.feature_importances_,index=X.columns)\n",
        "feat_importances.nlargest(10).plot(kind = 'barh')\n",
        "plt.show()"
      ]
    },
    {
      "cell_type": "code",
      "execution_count": null,
      "metadata": {
        "id": "DURxyYNQtgVZ"
      },
      "outputs": [],
      "source": [
        "# Dropping Less important Features\n",
        "df = df.drop(['CreditScore','MSA','Occupancy','Channel','PPM','LoanPurpose','NumBorrowers'],axis = 1)\n"
      ]
    },
    {
      "cell_type": "code",
      "execution_count": null,
      "metadata": {
        "colab": {
          "base_uri": "https://localhost:8080/"
        },
        "id": "Ua3gtmO5ycj_",
        "outputId": "63b0c8fe-d828-4f67-ad36-72286d9570f6"
      },
      "outputs": [
        {
          "output_type": "stream",
          "name": "stdout",
          "text": [
            "Earlier shape of data:  (213436, 14)\n",
            "shape after transformation:  (213436, 14)\n"
          ]
        }
      ],
      "source": [
        "# Removing features with 0 variance\n",
        "\n",
        "from sklearn.feature_selection import VarianceThreshold\n",
        "varselector=VarianceThreshold(threshold=0)\n",
        "varselector.fit(df)\n",
        "print(\"Earlier shape of data: \",df.shape)\n",
        "print(\"shape after transformation: \",varselector.transform(df).shape)"
      ]
    },
    {
      "cell_type": "code",
      "execution_count": null,
      "metadata": {
        "id": "W-O2MwcXhDer"
      },
      "outputs": [],
      "source": [
        "# splitting Dataset into Train and Test Data\n",
        "\n",
        "from sklearn.model_selection import train_test_split  \n",
        "X=df.drop([\"EverDelinquent\"],axis=1)\n",
        "y=df['EverDelinquent']\n",
        "X_train, X_test, y_train, y_test = train_test_split(X, y, test_size = 0.2, random_state = 42)  "
      ]
    },
    {
      "cell_type": "code",
      "execution_count": null,
      "metadata": {
        "colab": {
          "base_uri": "https://localhost:8080/"
        },
        "id": "aVG5pPgghDi5",
        "outputId": "d3f03f16-5e61-433f-bfbd-b681ca06eda3"
      },
      "outputs": [
        {
          "output_type": "stream",
          "name": "stdout",
          "text": [
            "Before Over Sampling shape of X_train : (170748, 13)\n",
            "Before Over Sampling shape of y_train : (170748,)\n",
            "Before Over Sampling shape of X_test : (42688, 13)\n",
            "Before Over Sampling shape of y_test : (42688,)\n"
          ]
        }
      ],
      "source": [
        "# checking shape of the data\n",
        "print(\"Before Over Sampling shape of X_train :\" ,X_train.shape)\n",
        "print(\"Before Over Sampling shape of y_train :\" ,y_train.shape)\n",
        "print(\"Before Over Sampling shape of X_test :\" ,X_test.shape)\n",
        "print(\"Before Over Sampling shape of y_test :\" ,y_test.shape)"
      ]
    },
    {
      "cell_type": "code",
      "execution_count": null,
      "metadata": {
        "id": "8XLSlClthDlq"
      },
      "outputs": [],
      "source": [
        "#Applying SMOTE for handling imbalance data\n",
        "from imblearn.over_sampling import SMOTE\n",
        "smote = SMOTE()"
      ]
    },
    {
      "cell_type": "code",
      "execution_count": null,
      "metadata": {
        "id": "ODJJ71H5hDoU"
      },
      "outputs": [],
      "source": [
        "x_train_sm,y_train_sm = smote.fit_resample(X_train,y_train)\n",
        "x_test_sm,y_test_sm = smote.fit_resample(X_test,y_test)"
      ]
    },
    {
      "cell_type": "code",
      "execution_count": null,
      "metadata": {
        "colab": {
          "base_uri": "https://localhost:8080/"
        },
        "id": "-4XvUyp-hDq0",
        "outputId": "eb547785-795d-43dc-8cc2-b359964a4b18"
      },
      "outputs": [
        {
          "output_type": "stream",
          "name": "stdout",
          "text": [
            "After Implementing Smote shape of X_train : (274704, 13)\n",
            "After Implementing Smote shape of y_train : (274704,)\n",
            " '1': 137352\n",
            " '0': 137352\n"
          ]
        }
      ],
      "source": [
        "print(\"After Implementing Smote shape of X_train :\", x_train_sm.shape)\n",
        "print(\"After Implementing Smote shape of y_train :\",y_train_sm.shape)\n",
        "print(\" '1': {}\".format(sum(y_train_sm == 1)))  \n",
        "print(\" '0': {}\".format(sum(y_train_sm == 0)))"
      ]
    },
    {
      "cell_type": "code",
      "execution_count": null,
      "metadata": {
        "colab": {
          "base_uri": "https://localhost:8080/"
        },
        "id": "kkCcfzwT20G7",
        "outputId": "8d8ca155-c82c-4836-f3d3-5ba49f36babe"
      },
      "outputs": [
        {
          "output_type": "stream",
          "name": "stdout",
          "text": [
            "After Implementing Smote shape of X_test : (68844, 13)\n",
            "After Implementing Smote shape of y_test : (68844,)\n",
            " '1': 34422\n",
            " '0': 34422\n"
          ]
        }
      ],
      "source": [
        "print(\"After Implementing Smote shape of X_test :\", x_test_sm.shape)\n",
        "print(\"After Implementing Smote shape of y_test :\",y_test_sm.shape)\n",
        "print(\" '1': {}\".format(sum(y_test_sm == 1)))  \n",
        "print(\" '0': {}\".format(sum(y_test_sm == 0)))"
      ]
    },
    {
      "cell_type": "code",
      "execution_count": null,
      "metadata": {
        "id": "wtv3S04chDtS"
      },
      "outputs": [],
      "source": [
        "#Normalizing data by rescaling the features\n",
        "from sklearn.preprocessing import MinMaxScaler\n",
        "scaler = MinMaxScaler()\n",
        "scaler.fit(x_train_sm,x_test_sm)\n",
        "X_train_scl = scaler.transform(x_train_sm)\n",
        "X_test_scl = scaler.transform(x_test_sm)"
      ]
    },
    {
      "cell_type": "markdown",
      "metadata": {
        "id": "lM6DeGZ40MUl"
      },
      "source": [
        "# PCA Implementation"
      ]
    },
    {
      "cell_type": "code",
      "execution_count": null,
      "metadata": {
        "id": "0947y20mhDzI"
      },
      "outputs": [],
      "source": [
        "from sklearn.decomposition import PCA\n",
        "pca = PCA(n_components = 8)"
      ]
    },
    {
      "cell_type": "code",
      "execution_count": null,
      "metadata": {
        "id": "eN5xpj_jhD2f"
      },
      "outputs": [],
      "source": [
        "pca_features = pca.fit_transform(X_train_scl)"
      ]
    },
    {
      "cell_type": "code",
      "execution_count": null,
      "metadata": {
        "colab": {
          "base_uri": "https://localhost:8080/"
        },
        "id": "LS4vnX0OhD5l",
        "outputId": "97f93615-8945-4e5e-a5d4-67fe415e4b99"
      },
      "outputs": [
        {
          "output_type": "execute_result",
          "data": {
            "text/plain": [
              "(274704, 13)"
            ]
          },
          "metadata": {},
          "execution_count": 49
        }
      ],
      "source": [
        "x_train_sm.shape"
      ]
    },
    {
      "cell_type": "code",
      "execution_count": null,
      "metadata": {
        "colab": {
          "base_uri": "https://localhost:8080/"
        },
        "id": "Vu4BTScdhD8r",
        "outputId": "d568fd2b-be8c-4cdb-b4f0-d1fdbaa0f7fb"
      },
      "outputs": [
        {
          "output_type": "execute_result",
          "data": {
            "text/plain": [
              "(274704, 8)"
            ]
          },
          "metadata": {},
          "execution_count": 50
        }
      ],
      "source": [
        "pca_features.shape"
      ]
    },
    {
      "cell_type": "code",
      "execution_count": null,
      "metadata": {
        "colab": {
          "base_uri": "https://localhost:8080/",
          "height": 351
        },
        "id": "2VP79bNRhD_g",
        "outputId": "6ab9ce6a-1205-4841-f1ef-521d69605ba7"
      },
      "outputs": [
        {
          "output_type": "execute_result",
          "data": {
            "text/plain": [
              "Text(0, 0.5, 'second principal component')"
            ]
          },
          "metadata": {},
          "execution_count": 51
        },
        {
          "output_type": "display_data",
          "data": {
            "text/plain": [
              "<Figure size 504x360 with 1 Axes>"
            ],
            "image/png": "[encoded data removed]"
          },
          "metadata": {
            "needs_background": "light"
          }
        }
      ],
      "source": [
        "plt.figure(figsize=(7,5))\n",
        "plt.scatter(pca_features[:,0],pca_features[:,1], c=[y_train_sm])\n",
        "plt.xlabel('First Principal component')\n",
        "plt.ylabel('second principal component')"
      ]
    },
    {
      "cell_type": "code",
      "execution_count": null,
      "metadata": {
        "colab": {
          "base_uri": "https://localhost:8080/"
        },
        "id": "6Z3FUEyl0jym",
        "outputId": "8a350644-c946-44bb-bdf6-79ad452ec999"
      },
      "outputs": [
        {
          "output_type": "execute_result",
          "data": {
            "text/plain": [
              "98.4245786253299"
            ]
          },
          "metadata": {},
          "execution_count": 52
        }
      ],
      "source": [
        "sum(pca.explained_variance_ratio_)*100"
      ]
    },
    {
      "cell_type": "code",
      "execution_count": null,
      "metadata": {
        "colab": {
          "base_uri": "https://localhost:8080/",
          "height": 312
        },
        "id": "LF72Dnpu0j2g",
        "outputId": "7acffbe5-7e0b-4617-b39f-66dcfdc79ccc"
      },
      "outputs": [
        {
          "output_type": "execute_result",
          "data": {
            "text/plain": [
              "Text(0.5, 0, 'Principal Components')"
            ]
          },
          "metadata": {},
          "execution_count": 53
        },
        {
          "output_type": "display_data",
          "data": {
            "text/plain": [
              "<Figure size 432x288 with 1 Axes>"
            ],
            "image/png": "[encoded data removed]"
          },
          "metadata": {
            "needs_background": "light"
          }
        }
      ],
      "source": [
        "fig, ax = plt.subplots(nrows=1, ncols=1)\n",
        "ax.bar(\n",
        "    x = np.arange(pca.n_components_) + 1,\n",
        "    height = pca.explained_variance_ratio_, \n",
        "    color= \"blue\"\n",
        ")\n",
        " \n",
        "for x, y in zip(np.arange(len(df.columns)) + 1, \n",
        "                pca.explained_variance_ratio_):\n",
        "    label = round(y, 2)\n",
        "    ax.annotate(\n",
        "        label,\n",
        "        (x,y),\n",
        "        textcoords=\"offset points\",\n",
        "        xytext=(0,10),\n",
        "        ha='center'\n",
        "    )\n",
        " \n",
        "ax.set_xticks(np.arange(pca.n_components_) + 1)\n",
        "ax.set_ylim(0, 1.1)\n",
        "ax.set_title('PCA Explained Variance Ratio')\n",
        "ax.set_xlabel('Principal Components')"
      ]
    },
    {
      "cell_type": "code",
      "execution_count": null,
      "metadata": {
        "colab": {
          "base_uri": "https://localhost:8080/",
          "height": 279
        },
        "id": "4e91vhz00j9u",
        "outputId": "7594afea-0b39-4f39-8421-cf91897542e3"
      },
      "outputs": [
        {
          "output_type": "display_data",
          "data": {
            "text/plain": [
              "<Figure size 432x288 with 1 Axes>"
            ],
            "image/png": "[encoded data removed]"
          },
          "metadata": {
            "needs_background": "light"
          }
        }
      ],
      "source": [
        "# You must normalize the data before applying the fit method\n",
        "df_normalized=(df - df.mean()) / df.std()\n",
        "pca = PCA(n_components=df.shape[1])\n",
        "pca.fit(df_normalized)\n",
        "\n",
        "# Reformat and view results\n",
        "loadings = pd.DataFrame(pca.components_.T,\n",
        "columns=['PC%s' % _ for _ in range(len(df_normalized.columns))],\n",
        "index=df.columns)\n",
        "#print(loadings)\n",
        "\n",
        "import matplotlib.pyplot as plot\n",
        "plot.plot(pca.explained_variance_ratio_)\n",
        "plot.ylabel('Explained Variance')\n",
        "plot.xlabel('Components')\n",
        "plot.show()"
      ]
    },
    {
      "cell_type": "markdown",
      "metadata": {
        "id": "kuxSevy_TV-r"
      },
      "source": [
        "# Applying Random Forest Classifier Model"
      ]
    },
    {
      "cell_type": "code",
      "execution_count": null,
      "metadata": {
        "id": "_KXjjbCT0kTm"
      },
      "outputs": [],
      "source": [
        "#pca = PCA(n_components = 8)\n",
        "#train_features = pca.fit_transform(X_train_sclsmt)"
      ]
    },
    {
      "cell_type": "code",
      "execution_count": null,
      "metadata": {
        "colab": {
          "base_uri": "https://localhost:8080/"
        },
        "id": "nk26DJRn0kY9",
        "outputId": "255181b6-6b38-43d2-a455-ffa2ab848fd3"
      },
      "outputs": [
        {
          "output_type": "execute_result",
          "data": {
            "text/plain": [
              "RandomForestClassifier(max_samples=0.75, random_state=42)"
            ]
          },
          "metadata": {},
          "execution_count": 55
        }
      ],
      "source": [
        "from sklearn.ensemble import RandomForestClassifier \n",
        "\n",
        "rfc = RandomForestClassifier(max_samples = 0.75, random_state=42)\n",
        "rfc.fit(X_train_scl,y_train_sm)"
      ]
    },
    {
      "cell_type": "code",
      "execution_count": null,
      "metadata": {
        "id": "F6ei2zUfte4q"
      },
      "outputs": [],
      "source": [
        "# Applying RandomForest Classifier on Test Data\n",
        "y_pred = rfc.predict(X_test_scl)"
      ]
    },
    {
      "cell_type": "code",
      "execution_count": null,
      "metadata": {
        "colab": {
          "base_uri": "https://localhost:8080/"
        },
        "id": "Xgr5-CEQ0ktH",
        "outputId": "699ae5b0-9d94-46e9-b70d-f254ff9f6cf7"
      },
      "outputs": [
        {
          "output_type": "stream",
          "name": "stdout",
          "text": [
            "Accuracy %: 84.60287025739352\n"
          ]
        }
      ],
      "source": [
        "# Checking for Accuracy of the Test Data\n",
        "\n",
        "from sklearn import metrics\n",
        "print(\"Accuracy %:\",metrics.accuracy_score(y_test_sm, y_pred)*100)"
      ]
    },
    {
      "cell_type": "code",
      "execution_count": null,
      "metadata": {
        "colab": {
          "base_uri": "https://localhost:8080/",
          "height": 296
        },
        "id": "zKWa7hNFxMkX",
        "outputId": "cddec231-3a64-4391-85ef-bbe00c8b7f46"
      },
      "outputs": [
        {
          "output_type": "execute_result",
          "data": {
            "text/plain": [
              "<sklearn.metrics._plot.confusion_matrix.ConfusionMatrixDisplay at 0x7fc4edd70280>"
            ]
          },
          "metadata": {},
          "execution_count": 58
        },
        {
          "output_type": "display_data",
          "data": {
            "text/plain": [
              "<Figure size 432x288 with 2 Axes>"
            ],
            "image/png": "[encoded data removed]"
          },
          "metadata": {
            "needs_background": "light"
          }
        }
      ],
      "source": [
        "# Checking out for the Confusion Matrix\n",
        "\n",
        "from sklearn.metrics import confusion_matrix, plot_confusion_matrix\n",
        "plot_confusion_matrix(rfc,X_test_scl,y_test_sm)\n"
      ]
    },
    {
      "cell_type": "code",
      "execution_count": null,
      "metadata": {
        "colab": {
          "base_uri": "https://localhost:8080/"
        },
        "id": "o-o_lbrqlJfA",
        "outputId": "0e5dd75f-1aa9-4e7d-b15e-2e18f91450bb"
      },
      "outputs": [
        {
          "output_type": "execute_result",
          "data": {
            "text/plain": [
              "0.8460287025739353"
            ]
          },
          "metadata": {},
          "execution_count": 59
        }
      ],
      "source": [
        "# checking for the performance of RandomForestClassifier through Roc_curve,AUC\n",
        "from sklearn.metrics import roc_curve, auc\n",
        "false_positive_rate,true_positive_rate, thresholds =roc_curve(y_test_sm,y_pred)\n",
        "roc_auc = auc(false_positive_rate, true_positive_rate)\n",
        "roc_auc"
      ]
    },
    {
      "cell_type": "code",
      "execution_count": null,
      "metadata": {
        "colab": {
          "base_uri": "https://localhost:8080/"
        },
        "id": "_Eup6EkMyAsi",
        "outputId": "05356639-5d5b-45a3-9411-e9a2212d8813"
      },
      "outputs": [
        {
          "output_type": "stream",
          "name": "stdout",
          "text": [
            "              precision    recall  f1-score   support\n",
            "\n",
            "           0       0.80      0.93      0.86     34422\n",
            "           1       0.91      0.77      0.83     34422\n",
            "\n",
            "    accuracy                           0.85     68844\n",
            "   macro avg       0.86      0.85      0.85     68844\n",
            "weighted avg       0.86      0.85      0.85     68844\n",
            "\n"
          ]
        }
      ],
      "source": [
        "# Priniting Classification Report\n",
        "from sklearn.metrics import classification_report\n",
        "print(classification_report(y_test_sm, y_pred))"
      ]
    },
    {
      "cell_type": "code",
      "execution_count": null,
      "metadata": {
        "colab": {
          "base_uri": "https://localhost:8080/",
          "height": 280
        },
        "id": "__OMxU7WlJiV",
        "outputId": "e0d080fb-1c81-4721-d326-5bc3d6d9e25c"
      },
      "outputs": [
        {
          "output_type": "display_data",
          "data": {
            "text/plain": [
              "<Figure size 432x288 with 1 Axes>"
            ],
            "image/png": "[encoded data removed]"
          },
          "metadata": {
            "needs_background": "light"
          }
        }
      ],
      "source": [
        "# checking at the output of Test and Train of RandonForestClassifier\n",
        "n_estimators = [1,2,4,8,16,32,64,100]\n",
        "train_results = []\n",
        "test_results = []\n",
        "\n",
        "for estimator in n_estimators:\n",
        "  rf= RandomForestClassifier(n_estimators = estimator, n_jobs=-1)\n",
        "  rf.fit(X_train_scl,y_train_sm)\n",
        "  \n",
        "  train_pred = rf.predict(X_train_scl)\n",
        "  false_positive_rate,true_positive_rate, thresholds = roc_curve(y_train_sm,train_pred)\n",
        "  \n",
        "  roc_auc = auc(false_positive_rate,true_positive_rate)\n",
        "  train_results.append(roc_auc)\n",
        "  \n",
        "  y_pred = rf.predict(X_test_scl)\n",
        "  false_positive_rate,true_positive_rate, thresholds = roc_curve(y_test_sm,y_pred)\n",
        "\n",
        "  roc_auc = auc(false_positive_rate,true_positive_rate)\n",
        "  test_results.append(roc_auc)\n",
        "\n",
        "from matplotlib.legend_handler import HandlerLine2D\n",
        "line1, = plt.plot(n_estimators, train_results, \"b\" , label = \"Train AUC\" )\n",
        "line1, = plt.plot(n_estimators, test_results, \"r\" , label = \"Test AUC\" )\n",
        "plt.legend(handler_map={line1: HandlerLine2D(numpoints=2)})\n",
        "plt.ylabel(\"AUC score\")\n",
        "plt.xlabel(\"n_estimators\")\n",
        "plt.show()"
      ]
    },
    {
      "cell_type": "markdown",
      "source": [
        "Applying Hyperparametric Tuning"
      ],
      "metadata": {
        "id": "C9aH34i3EllZ"
      }
    },
    {
      "cell_type": "code",
      "source": [
        "# Checking at the default parameters used in RandomForestClassifier\n",
        "print(rfc.get_params())"
      ],
      "metadata": {
        "colab": {
          "base_uri": "https://localhost:8080/"
        },
        "id": "fJ5z5UtuRoYJ",
        "outputId": "0ec59d7e-2781-4fb9-e454-2670fd578443"
      },
      "execution_count": null,
      "outputs": [
        {
          "output_type": "stream",
          "name": "stdout",
          "text": [
            "{'bootstrap': True, 'ccp_alpha': 0.0, 'class_weight': None, 'criterion': 'gini', 'max_depth': None, 'max_features': 'auto', 'max_leaf_nodes': None, 'max_samples': 0.75, 'min_impurity_decrease': 0.0, 'min_samples_leaf': 1, 'min_samples_split': 2, 'min_weight_fraction_leaf': 0.0, 'n_estimators': 100, 'n_jobs': None, 'oob_score': False, 'random_state': 42, 'verbose': 0, 'warm_start': False}\n"
          ]
        }
      ]
    },
    {
      "cell_type": "code",
      "source": [
        "# Defining new parameter for RandomForestClassifer for Hyperparameter Tuning\n",
        "n_estimators =  [25, 50, 100, 100]\n",
        "max_features = [0.2,0.6,1.0]\n",
        "max_depth = [3, 6, None]\n",
        "max_samples = [0.5,0.75,1.0]\n",
        "min_samples_split =[2,5]\n",
        "min_samples_leaf = [1,2]\n"
      ],
      "metadata": {
        "id": "3s_PriBbEtLa"
      },
      "execution_count": null,
      "outputs": []
    },
    {
      "cell_type": "code",
      "source": [
        "# setting the parameters for Hyperparameter Tuning\n",
        "param_grid = { 'n_estimators': n_estimators,\n",
        "               'max_features': max_features,\n",
        "               'max_depth': max_depth,\n",
        "               'max_samples': max_samples,\n",
        "               'min_samples_split': min_samples_split,\n",
        "               'min_samples_leaf': min_samples_leaf\n",
        "               }\n",
        "\n",
        "print(param_grid)"
      ],
      "metadata": {
        "id": "V9SMiElmEtO4",
        "colab": {
          "base_uri": "https://localhost:8080/"
        },
        "outputId": "ca06a9dc-94ac-4e5e-b9ec-fcef11c2c350"
      },
      "execution_count": null,
      "outputs": [
        {
          "output_type": "stream",
          "name": "stdout",
          "text": [
            "{'n_estimators': [25, 50, 100, 100], 'max_features': [0.2, 0.6, 1.0], 'max_depth': [3, 6, None], 'max_samples': [0.5, 0.75, 1.0], 'min_samples_split': [2, 5], 'min_samples_leaf': [1, 2]}\n"
          ]
        }
      ]
    },
    {
      "cell_type": "code",
      "source": [
        "# Using RandomizedSearch for Hyperparamter tuning for RandomForestClassifier\n",
        "\n",
        "from sklearn.model_selection import RandomizedSearchCV\n",
        "\n",
        "rfc_grid = RandomizedSearchCV(estimator= rfc,\n",
        "                              param_distributions=param_grid,\n",
        "                              cv=3,\n",
        "                              verbose=2,\n",
        "                              n_jobs = -1)"
      ],
      "metadata": {
        "id": "EooFi8foEtSU"
      },
      "execution_count": null,
      "outputs": []
    },
    {
      "cell_type": "code",
      "source": [
        "# Fitting the grid parameter on Train data\n",
        "rfc_grid.fit(X_train_scl,y_train_sm)"
      ],
      "metadata": {
        "id": "m0C7k9xFEtWf",
        "colab": {
          "base_uri": "https://localhost:8080/"
        },
        "outputId": "fc35c8a9-74aa-4e75-ae96-75883169490e"
      },
      "execution_count": null,
      "outputs": [
        {
          "metadata": {
            "tags": null
          },
          "name": "stdout",
          "output_type": "stream",
          "text": [
            "Fitting 3 folds for each of 10 candidates, totalling 30 fits\n"
          ]
        },
        {
          "output_type": "execute_result",
          "data": {
            "text/plain": [
              "RandomizedSearchCV(cv=3,\n",
              "                   estimator=RandomForestClassifier(max_samples=0.75,\n",
              "                                                    random_state=42),\n",
              "                   n_jobs=-1,\n",
              "                   param_distributions={'max_depth': [3, 6, None],\n",
              "                                        'max_features': [0.2, 0.6, 1.0],\n",
              "                                        'max_samples': [0.5, 0.75, 1.0],\n",
              "                                        'min_samples_leaf': [1, 2],\n",
              "                                        'min_samples_split': [2, 5],\n",
              "                                        'n_estimators': [25, 50, 100, 100]},\n",
              "                   verbose=2)"
            ]
          },
          "metadata": {},
          "execution_count": 66
        }
      ]
    },
    {
      "cell_type": "code",
      "source": [
        "# Fitting the grid parameter on Test data\n",
        "y_pred_rfc_grid = rfc_grid.predict(X_test_scl)"
      ],
      "metadata": {
        "id": "1PO3uDMBEtaF"
      },
      "execution_count": null,
      "outputs": []
    },
    {
      "cell_type": "code",
      "source": [
        "# checking for the Accuracy after implementing Hyperparameter Tuning\n",
        "from sklearn import metrics\n",
        "print(\"Accuracy %:\",metrics.accuracy_score(y_test_sm, y_pred_rfc_grid)*100)"
      ],
      "metadata": {
        "id": "O1DxE0a2Etdo",
        "colab": {
          "base_uri": "https://localhost:8080/"
        },
        "outputId": "20a42958-5ab0-41ad-cec8-0316419c410c"
      },
      "execution_count": null,
      "outputs": [
        {
          "output_type": "stream",
          "name": "stdout",
          "text": [
            "Accuracy %: 85.35674859101738\n"
          ]
        }
      ]
    },
    {
      "cell_type": "markdown",
      "source": [
        "# By implementation of Hyperparameter tuning the Random Forest classfier Accuracy is 85%"
      ],
      "metadata": {
        "id": "oJqwdlHYpxdL"
      }
    },
    {
      "cell_type": "markdown",
      "metadata": {
        "id": "wppVThOdYNT1"
      },
      "source": [
        "# 2nd Model: Implementing SVC Model"
      ]
    },
    {
      "cell_type": "code",
      "execution_count": null,
      "metadata": {
        "id": "OUpJxvetz4Qd"
      },
      "outputs": [],
      "source": [
        "# Scaling the data for further process\n",
        "scaler = MinMaxScaler()\n",
        "scaler.fit(x_train_sm,x_test_sm)\n",
        "X_train_scl = scaler.transform(x_train_sm)\n",
        "X_test_scl = scaler.transform(x_test_sm)"
      ]
    },
    {
      "cell_type": "code",
      "execution_count": null,
      "metadata": {
        "id": "rnYF9tGsbnJA"
      },
      "outputs": [],
      "source": [
        "# rescaling the data for SVC model\n",
        "from sklearn import preprocessing\n",
        "\n",
        "X_train_svm = preprocessing.scale(X_train_scl)\n",
        "\n",
        "X_test_svm = preprocessing.scale(X_test_scl)"
      ]
    },
    {
      "cell_type": "code",
      "execution_count": null,
      "metadata": {
        "id": "Ksb1kHDOC2sF"
      },
      "outputs": [],
      "source": [
        "# Defining \"Support vector classifier\"\n",
        "C=1\n",
        "from sklearn.svm import SVC \n",
        "svc = SVC(C=C , cache_size=200, class_weight=None, coef0=0.0,\n",
        "  decision_function_shape='ovo', degree=3, gamma='auto', kernel='linear',\n",
        "  max_iter=-1, probability=False, random_state=95, shrinking=True,\n",
        "  tol=1, verbose=False)\n"
      ]
    },
    {
      "cell_type": "code",
      "source": [
        "# Fitting the Svm model on Training Data\n",
        "svc.fit(X_train_svm[:68844], y_train_sm[:68844])"
      ],
      "metadata": {
        "colab": {
          "base_uri": "https://localhost:8080/"
        },
        "id": "hl41tqTLohsX",
        "outputId": "c4550869-f8a9-4b1d-d708-400e970b44e6"
      },
      "execution_count": null,
      "outputs": [
        {
          "output_type": "execute_result",
          "data": {
            "text/plain": [
              "SVC(C=1, decision_function_shape='ovo', gamma='auto', kernel='linear',\n",
              "    random_state=95, tol=1)"
            ]
          },
          "metadata": {},
          "execution_count": 73
        }
      ]
    },
    {
      "cell_type": "code",
      "execution_count": null,
      "metadata": {
        "id": "-3inEToElJos"
      },
      "outputs": [],
      "source": [
        "# Predicting the Test set results\n",
        "y_pred_svm = svc.predict(X_test_svm[:68844])"
      ]
    },
    {
      "cell_type": "code",
      "execution_count": null,
      "metadata": {
        "id": "jkwd0v6qlJrn",
        "colab": {
          "base_uri": "https://localhost:8080/"
        },
        "outputId": "047e8486-b783-4372-e7cb-37317128db99"
      },
      "outputs": [
        {
          "output_type": "execute_result",
          "data": {
            "text/plain": [
              "array([[    0, 34422],\n",
              "       [    0, 34422]])"
            ]
          },
          "metadata": {},
          "execution_count": 75
        }
      ],
      "source": [
        "# Making the Confusion Matrix\n",
        "from sklearn.metrics import confusion_matrix \n",
        "confusion_matrix(y_test_sm[:68844],y_pred_svm[:68844],labels = [1,0])"
      ]
    },
    {
      "cell_type": "code",
      "execution_count": null,
      "metadata": {
        "colab": {
          "base_uri": "https://localhost:8080/"
        },
        "id": "nf8VtQlulJur",
        "outputId": "8ab6aeba-9e50-44e1-809c-0ed094aff39d"
      },
      "outputs": [
        {
          "output_type": "stream",
          "name": "stdout",
          "text": [
            "Accuracy os SVC model % : 50.0\n"
          ]
        }
      ],
      "source": [
        "# checking for Accuracy of SVC model\n",
        "\n",
        "from sklearn import metrics\n",
        "print(\"Accuracy os SVC model % :\",metrics.accuracy_score(y_test_sm[:68844],y_pred_svm[:68844])*100)\n",
        "#print(f'Test Accuracy for svm: {svc.score(y_test_sm[:68844],y_pred_svm[:68844]) * 100:.2f}')"
      ]
    },
    {
      "cell_type": "markdown",
      "source": [
        "Hyperparametric Tuning"
      ],
      "metadata": {
        "id": "7iKlGPQL5Cqr"
      }
    },
    {
      "cell_type": "code",
      "execution_count": null,
      "metadata": {
        "id": "7MqAgK9hkF8U"
      },
      "outputs": [],
      "source": [
        "# Defining GridSearchCV for Hyperparameter Tuning on SVC model\n",
        "from sklearn.model_selection import GridSearchCV"
      ]
    },
    {
      "cell_type": "code",
      "execution_count": null,
      "metadata": {
        "id": "o5pb4Dc3kGDT",
        "colab": {
          "base_uri": "https://localhost:8080/"
        },
        "outputId": "ae8bb56f-c65e-4d41-e31e-de3ed20c6eac"
      },
      "outputs": [
        {
          "metadata": {
            "tags": null
          },
          "name": "stdout",
          "output_type": "stream",
          "text": [
            "Fitting 5 folds for each of 15 candidates, totalling 75 fits\n"
          ]
        }
      ],
      "source": [
        "# Defining grid parameters for Hyperparametric Tuning\n",
        "parameters = [{'C':[1,10,100], 'kernel': ['linear'] ,'gamma': [0.1, 0.2, 0.3, 0.4, 0.5]}]\n",
        "grid = GridSearchCV(estimator = svc,\n",
        "                    param_grid = parameters,\n",
        "                    refit=True, \n",
        "                    scoring = 'accuracy',\n",
        "                    n_jobs = -1,\n",
        "                    verbose=2)\n",
        "grid = grid.fit(X_train_svm[:5000], y_train_sm[:5000])\n"
      ]
    },
    {
      "cell_type": "code",
      "execution_count": null,
      "metadata": {
        "id": "bnJu5UhLkGIY"
      },
      "outputs": [],
      "source": [
        "# checking at the Accuracy of Training data \n",
        "accuracy = grid.best_score_"
      ]
    },
    {
      "cell_type": "code",
      "execution_count": null,
      "metadata": {
        "id": "CY8tiko1kGMk",
        "colab": {
          "base_uri": "https://localhost:8080/"
        },
        "outputId": "dcf25ef6-fc1e-429c-9e80-d104c1057702"
      },
      "outputs": [
        {
          "output_type": "execute_result",
          "data": {
            "text/plain": [
              "0.813"
            ]
          },
          "metadata": {},
          "execution_count": 81
        }
      ],
      "source": [
        "accuracy"
      ]
    },
    {
      "cell_type": "code",
      "execution_count": null,
      "metadata": {
        "id": "JJViQpLykGPG",
        "colab": {
          "base_uri": "https://localhost:8080/"
        },
        "outputId": "f9ed0ef5-51b0-4eb7-f9d3-7028b534d2d1"
      },
      "outputs": [
        {
          "output_type": "execute_result",
          "data": {
            "text/plain": [
              "{'C': 1, 'gamma': 0.1, 'kernel': 'linear'}"
            ]
          },
          "metadata": {},
          "execution_count": 82
        }
      ],
      "source": [
        "# Getting the best parameters for Hyperparameter tuning\n",
        "grid.best_params_"
      ]
    },
    {
      "cell_type": "code",
      "source": [
        "# Applying the Hyper parameters to the SVC model \n",
        "svc_grid = SVC(kernel = 'linear', gamma=0.1)\n",
        "svc_grid.fit(X_train_svm[:5000], y_train_sm[:5000])"
      ],
      "metadata": {
        "colab": {
          "base_uri": "https://localhost:8080/"
        },
        "id": "bZQEMJG3C9pL",
        "outputId": "bad9d86f-e160-45c1-d6b7-6dbb811de847"
      },
      "execution_count": null,
      "outputs": [
        {
          "output_type": "execute_result",
          "data": {
            "text/plain": [
              "SVC(gamma=0.1, kernel='linear')"
            ]
          },
          "metadata": {},
          "execution_count": 83
        }
      ]
    },
    {
      "cell_type": "code",
      "source": [
        "# Applying the grid parameters on Test Data\n",
        "y_pred_svm_grid = svc_grid.predict(X_test_svm[:5000])"
      ],
      "metadata": {
        "id": "TvDnYVYgC9s0"
      },
      "execution_count": null,
      "outputs": []
    },
    {
      "cell_type": "code",
      "source": [
        "# Making the Confusion Matrix\n",
        "from sklearn.metrics import confusion_matrix\n",
        "confusion_matrix(y_test_sm[:5000],y_pred_svm_grid[:5000],labels = [1,0])"
      ],
      "metadata": {
        "id": "hoBaS9wwC9w7",
        "colab": {
          "base_uri": "https://localhost:8080/"
        },
        "outputId": "bbd9ecaa-713e-438b-a45a-60fd1fa87b1f"
      },
      "execution_count": null,
      "outputs": [
        {
          "output_type": "execute_result",
          "data": {
            "text/plain": [
              "array([[   0,  943],\n",
              "       [   0, 4057]])"
            ]
          },
          "metadata": {},
          "execution_count": 87
        }
      ]
    },
    {
      "cell_type": "code",
      "source": [
        "# Checking for Accuracy after implementing Hyperparameter tuning\n",
        "from sklearn.metrics import accuracy_score\n",
        "accuracy=accuracy_score(y_test_sm[:5000], y_pred_svm[:5000])\n",
        "accuracy"
      ],
      "metadata": {
        "colab": {
          "base_uri": "https://localhost:8080/"
        },
        "id": "5mJrstfoC90i",
        "outputId": "213c0676-d944-4a5f-8462-ac8924c787ef"
      },
      "execution_count": null,
      "outputs": [
        {
          "output_type": "execute_result",
          "data": {
            "text/plain": [
              "0.8114"
            ]
          },
          "metadata": {},
          "execution_count": 88
        }
      ]
    },
    {
      "cell_type": "markdown",
      "source": [
        "# By implementing Hyperparameter tuning svc model got the accuracy of 81%"
      ],
      "metadata": {
        "id": "iQAnnGcytgQr"
      }
    },
    {
      "cell_type": "markdown",
      "source": [
        "# Notes:\n",
        "-- RandomForestClassifer gave the good accuracy score of 85% after implementing Hyperparameter tuning and it was able to train on entire dataset.\n",
        "--SVC model gave a accuracy score of 81% after implementing hyperparameter tuning, and it was not possible to train on  entire data set,so trained on part of the dataset.\n",
        "--Hence RandomForestClassifeir is the best suitable model for further process."
      ],
      "metadata": {
        "id": "I5Abr9sUz3Lx"
      }
    },
    {
      "cell_type": "code",
      "source": [],
      "metadata": {
        "id": "xGr_tfSctwZ5"
      },
      "execution_count": null,
      "outputs": []
    },
    {
      "cell_type": "code",
      "source": [],
      "metadata": {
        "id": "GbIAPZHPtweJ"
      },
      "execution_count": null,
      "outputs": []
    },
    {
      "cell_type": "code",
      "source": [],
      "metadata": {
        "id": "sb7xDCZetwp_"
      },
      "execution_count": null,
      "outputs": []
    },
    {
      "cell_type": "code",
      "source": [],
      "metadata": {
        "id": "D2p5ZZaaC-Jx"
      },
      "execution_count": null,
      "outputs": []
    }
  ],
  "metadata": {
    "colab": {
      "provenance": []
    },
    "gpuClass": "standard",
    "kernelspec": {
      "display_name": "Python 3",
      "name": "python3"
    },
    "language_info": {
      "name": "python"
    }
  },
  "nbformat": 4,
  "nbformat_minor": 0
}