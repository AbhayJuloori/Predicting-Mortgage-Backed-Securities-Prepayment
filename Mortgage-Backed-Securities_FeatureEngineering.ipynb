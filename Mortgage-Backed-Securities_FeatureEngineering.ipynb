{
  "nbformat": 4,
  "nbformat_minor": 0,
  "metadata": {
    "colab": {
      "provenance": []
    },
    "kernelspec": {
      "name": "python3",
      "display_name": "Python 3"
    },
    "language_info": {
      "name": "python"
    },
    "gpuClass": "standard"
  },
  "cells": [
    {
      "cell_type": "code",
      "execution_count": 1,
      "metadata": {
        "id": "i7khYoF_jQpX"
      },
      "outputs": [],
      "source": [
        "import numpy as np\n",
        "import pandas as pd\n",
        "import matplotlib.pyplot as plt\n",
        "import seaborn as sns\n",
        "%matplotlib inline\n",
        "from datetime import datetime"
      ]
    },
    {
      "cell_type": "code",
      "source": [
        "df=pd.read_csv(\"/content/drive/MyDrive/Data Sets/LoanExport.csv\")"
      ],
      "metadata": {
        "colab": {
          "base_uri": "https://localhost:8080/"
        },
        "id": "5spDJ5lVjjXJ",
        "outputId": "d0240bd4-a05a-43a3-c037-46698ef0800e"
      },
      "execution_count": 2,
      "outputs": [
        {
          "output_type": "stream",
          "name": "stderr",
          "text": [
            "/usr/local/lib/python3.8/dist-packages/IPython/core/interactiveshell.py:3326: DtypeWarning: Columns (18) have mixed types.Specify dtype option on import or set low_memory=False.\n",
            "  exec(code_obj, self.user_global_ns, self.user_ns)\n"
          ]
        }
      ]
    },
    {
      "cell_type": "code",
      "source": [
        "df.shape"
      ],
      "metadata": {
        "colab": {
          "base_uri": "https://localhost:8080/"
        },
        "id": "PkA_LVXSHxLC",
        "outputId": "842e4ed1-2e9e-4754-fbb7-75e0d3fc0568"
      },
      "execution_count": 3,
      "outputs": [
        {
          "output_type": "execute_result",
          "data": {
            "text/plain": [
              "(291451, 28)"
            ]
          },
          "metadata": {},
          "execution_count": 3
        }
      ]
    },
    {
      "cell_type": "code",
      "source": [
        "df.head()"
      ],
      "metadata": {
        "colab": {
          "base_uri": "https://localhost:8080/",
          "height": 299
        },
        "id": "7qpLrnRAj26w",
        "outputId": "9a1fa549-3622-4122-d267-ae927307e754"
      },
      "execution_count": 4,
      "outputs": [
        {
          "output_type": "execute_result",
          "data": {
            "text/plain": [
              "   CreditScore  FirstPaymentDate FirstTimeHomebuyer  MaturityDate    MSA  MIP  \\\n",
              "0            0            199902                  N        202901  16974   25   \n",
              "1            0            199902                  N        202901  19740    0   \n",
              "2            0            199902                  N        202901  29940    0   \n",
              "3            0            199902                  N        202901  31084    0   \n",
              "4            0            199902                  N        202901  35644    0   \n",
              "\n",
              "   Units Occupancy  OCLTV  DTI  ...  PostalCode    LoanSeqNum  LoanPurpose  \\\n",
              "0      1         O     89   27  ...       60400  F199Q1268030            P   \n",
              "1      1         O     73   17  ...       80200  F199Q1015092            N   \n",
              "2      1         O     75   16  ...       66000  F199Q1266886            N   \n",
              "3      1         O     76   14  ...       90700  F199Q1178167            N   \n",
              "4      1         O     78   18  ...        7600  F199Q1178517            N   \n",
              "\n",
              "  OrigLoanTerm NumBorrowers SellerName          ServicerName EverDelinquent  \\\n",
              "0          360            2         FL  WASHINGTONMUTUALBANK              0   \n",
              "1          360            1         FT  CHASEHOMEFINANCELLC               0   \n",
              "2          360            2         FL  WASHINGTONMUTUALBANK              0   \n",
              "3          360            2         GM  GMACMTGECORP                      0   \n",
              "4          360            2         GM  GMACMTGECORP                      0   \n",
              "\n",
              "  MonthsDelinquent MonthsInRepayment  \n",
              "0                0                52  \n",
              "1                0               144  \n",
              "2                0                67  \n",
              "3                0                35  \n",
              "4                0                54  \n",
              "\n",
              "[5 rows x 28 columns]"
            ],
            "text/html": [
              "\n",
              "  <div id=\"df-3bf57bda-0813-4dda-a4b1-f6645aafeb8b\">\n",
              "    <div class=\"colab-df-container\">\n",
              "      <div>\n",
              "<style scoped>\n",
              "    .dataframe tbody tr th:only-of-type {\n",
              "        vertical-align: middle;\n",
              "    }\n",
              "\n",
              "    .dataframe tbody tr th {\n",
              "        vertical-align: top;\n",
              "    }\n",
              "\n",
              "    .dataframe thead th {\n",
              "        text-align: right;\n",
              "    }\n",
              "</style>\n",
              "<table border=\"1\" class=\"dataframe\">\n",
              "  <thead>\n",
              "    <tr style=\"text-align: right;\">\n",
              "      <th></th>\n",
              "      <th>CreditScore</th>\n",
              "      <th>FirstPaymentDate</th>\n",
              "      <th>FirstTimeHomebuyer</th>\n",
              "      <th>MaturityDate</th>\n",
              "      <th>MSA</th>\n",
              "      <th>MIP</th>\n",
              "      <th>Units</th>\n",
              "      <th>Occupancy</th>\n",
              "      <th>OCLTV</th>\n",
              "      <th>DTI</th>\n",
              "      <th>...</th>\n",
              "      <th>PostalCode</th>\n",
              "      <th>LoanSeqNum</th>\n",
              "      <th>LoanPurpose</th>\n",
              "      <th>OrigLoanTerm</th>\n",
              "      <th>NumBorrowers</th>\n",
              "      <th>SellerName</th>\n",
              "      <th>ServicerName</th>\n",
              "      <th>EverDelinquent</th>\n",
              "      <th>MonthsDelinquent</th>\n",
              "      <th>MonthsInRepayment</th>\n",
              "    </tr>\n",
              "  </thead>\n",
              "  <tbody>\n",
              "    <tr>\n",
              "      <th>0</th>\n",
              "      <td>0</td>\n",
              "      <td>199902</td>\n",
              "      <td>N</td>\n",
              "      <td>202901</td>\n",
              "      <td>16974</td>\n",
              "      <td>25</td>\n",
              "      <td>1</td>\n",
              "      <td>O</td>\n",
              "      <td>89</td>\n",
              "      <td>27</td>\n",
              "      <td>...</td>\n",
              "      <td>60400</td>\n",
              "      <td>F199Q1268030</td>\n",
              "      <td>P</td>\n",
              "      <td>360</td>\n",
              "      <td>2</td>\n",
              "      <td>FL</td>\n",
              "      <td>WASHINGTONMUTUALBANK</td>\n",
              "      <td>0</td>\n",
              "      <td>0</td>\n",
              "      <td>52</td>\n",
              "    </tr>\n",
              "    <tr>\n",
              "      <th>1</th>\n",
              "      <td>0</td>\n",
              "      <td>199902</td>\n",
              "      <td>N</td>\n",
              "      <td>202901</td>\n",
              "      <td>19740</td>\n",
              "      <td>0</td>\n",
              "      <td>1</td>\n",
              "      <td>O</td>\n",
              "      <td>73</td>\n",
              "      <td>17</td>\n",
              "      <td>...</td>\n",
              "      <td>80200</td>\n",
              "      <td>F199Q1015092</td>\n",
              "      <td>N</td>\n",
              "      <td>360</td>\n",
              "      <td>1</td>\n",
              "      <td>FT</td>\n",
              "      <td>CHASEHOMEFINANCELLC</td>\n",
              "      <td>0</td>\n",
              "      <td>0</td>\n",
              "      <td>144</td>\n",
              "    </tr>\n",
              "    <tr>\n",
              "      <th>2</th>\n",
              "      <td>0</td>\n",
              "      <td>199902</td>\n",
              "      <td>N</td>\n",
              "      <td>202901</td>\n",
              "      <td>29940</td>\n",
              "      <td>0</td>\n",
              "      <td>1</td>\n",
              "      <td>O</td>\n",
              "      <td>75</td>\n",
              "      <td>16</td>\n",
              "      <td>...</td>\n",
              "      <td>66000</td>\n",
              "      <td>F199Q1266886</td>\n",
              "      <td>N</td>\n",
              "      <td>360</td>\n",
              "      <td>2</td>\n",
              "      <td>FL</td>\n",
              "      <td>WASHINGTONMUTUALBANK</td>\n",
              "      <td>0</td>\n",
              "      <td>0</td>\n",
              "      <td>67</td>\n",
              "    </tr>\n",
              "    <tr>\n",
              "      <th>3</th>\n",
              "      <td>0</td>\n",
              "      <td>199902</td>\n",
              "      <td>N</td>\n",
              "      <td>202901</td>\n",
              "      <td>31084</td>\n",
              "      <td>0</td>\n",
              "      <td>1</td>\n",
              "      <td>O</td>\n",
              "      <td>76</td>\n",
              "      <td>14</td>\n",
              "      <td>...</td>\n",
              "      <td>90700</td>\n",
              "      <td>F199Q1178167</td>\n",
              "      <td>N</td>\n",
              "      <td>360</td>\n",
              "      <td>2</td>\n",
              "      <td>GM</td>\n",
              "      <td>GMACMTGECORP</td>\n",
              "      <td>0</td>\n",
              "      <td>0</td>\n",
              "      <td>35</td>\n",
              "    </tr>\n",
              "    <tr>\n",
              "      <th>4</th>\n",
              "      <td>0</td>\n",
              "      <td>199902</td>\n",
              "      <td>N</td>\n",
              "      <td>202901</td>\n",
              "      <td>35644</td>\n",
              "      <td>0</td>\n",
              "      <td>1</td>\n",
              "      <td>O</td>\n",
              "      <td>78</td>\n",
              "      <td>18</td>\n",
              "      <td>...</td>\n",
              "      <td>7600</td>\n",
              "      <td>F199Q1178517</td>\n",
              "      <td>N</td>\n",
              "      <td>360</td>\n",
              "      <td>2</td>\n",
              "      <td>GM</td>\n",
              "      <td>GMACMTGECORP</td>\n",
              "      <td>0</td>\n",
              "      <td>0</td>\n",
              "      <td>54</td>\n",
              "    </tr>\n",
              "  </tbody>\n",
              "</table>\n",
              "<p>5 rows × 28 columns</p>\n",
              "</div>\n",
              "      <button class=\"colab-df-convert\" onclick=\"convertToInteractive('df-3bf57bda-0813-4dda-a4b1-f6645aafeb8b')\"\n",
              "              title=\"Convert this dataframe to an interactive table.\"\n",
              "              style=\"display:none;\">\n",
              "        \n",
              "  <svg xmlns=\"http://www.w3.org/2000/svg\" height=\"24px\"viewBox=\"0 0 24 24\"\n",
              "       width=\"24px\">\n",
              "    <path d=\"M0 0h24v24H0V0z\" fill=\"none\"/>\n",
              "    <path d=\"M18.56 5.44l.94 2.06.94-2.06 2.06-.94-2.06-.94-.94-2.06-.94 2.06-2.06.94zm-11 1L8.5 8.5l.94-2.06 2.06-.94-2.06-.94L8.5 2.5l-.94 2.06-2.06.94zm10 10l.94 2.06.94-2.06 2.06-.94-2.06-.94-.94-2.06-.94 2.06-2.06.94z\"/><path d=\"M17.41 7.96l-1.37-1.37c-.4-.4-.92-.59-1.43-.59-.52 0-1.04.2-1.43.59L10.3 9.45l-7.72 7.72c-.78.78-.78 2.05 0 2.83L4 21.41c.39.39.9.59 1.41.59.51 0 1.02-.2 1.41-.59l7.78-7.78 2.81-2.81c.8-.78.8-2.07 0-2.86zM5.41 20L4 18.59l7.72-7.72 1.47 1.35L5.41 20z\"/>\n",
              "  </svg>\n",
              "      </button>\n",
              "      \n",
              "  <style>\n",
              "    .colab-df-container {\n",
              "      display:flex;\n",
              "      flex-wrap:wrap;\n",
              "      gap: 12px;\n",
              "    }\n",
              "\n",
              "    .colab-df-convert {\n",
              "      background-color: #E8F0FE;\n",
              "      border: none;\n",
              "      border-radius: 50%;\n",
              "      cursor: pointer;\n",
              "      display: none;\n",
              "      fill: #1967D2;\n",
              "      height: 32px;\n",
              "      padding: 0 0 0 0;\n",
              "      width: 32px;\n",
              "    }\n",
              "\n",
              "    .colab-df-convert:hover {\n",
              "      background-color: #E2EBFA;\n",
              "      box-shadow: 0px 1px 2px rgba(60, 64, 67, 0.3), 0px 1px 3px 1px rgba(60, 64, 67, 0.15);\n",
              "      fill: #174EA6;\n",
              "    }\n",
              "\n",
              "    [theme=dark] .colab-df-convert {\n",
              "      background-color: #3B4455;\n",
              "      fill: #D2E3FC;\n",
              "    }\n",
              "\n",
              "    [theme=dark] .colab-df-convert:hover {\n",
              "      background-color: #434B5C;\n",
              "      box-shadow: 0px 1px 3px 1px rgba(0, 0, 0, 0.15);\n",
              "      filter: drop-shadow(0px 1px 2px rgba(0, 0, 0, 0.3));\n",
              "      fill: #FFFFFF;\n",
              "    }\n",
              "  </style>\n",
              "\n",
              "      <script>\n",
              "        const buttonEl =\n",
              "          document.querySelector('#df-3bf57bda-0813-4dda-a4b1-f6645aafeb8b button.colab-df-convert');\n",
              "        buttonEl.style.display =\n",
              "          google.colab.kernel.accessAllowed ? 'block' : 'none';\n",
              "\n",
              "        async function convertToInteractive(key) {\n",
              "          const element = document.querySelector('#df-3bf57bda-0813-4dda-a4b1-f6645aafeb8b');\n",
              "          const dataTable =\n",
              "            await google.colab.kernel.invokeFunction('convertToInteractive',\n",
              "                                                     [key], {});\n",
              "          if (!dataTable) return;\n",
              "\n",
              "          const docLinkHtml = 'Like what you see? Visit the ' +\n",
              "            '<a target=\"_blank\" href=https://colab.research.google.com/notebooks/data_table.ipynb>data table notebook</a>'\n",
              "            + ' to learn more about interactive tables.';\n",
              "          element.innerHTML = '';\n",
              "          dataTable['output_type'] = 'display_data';\n",
              "          await google.colab.output.renderOutput(dataTable, element);\n",
              "          const docLink = document.createElement('div');\n",
              "          docLink.innerHTML = docLinkHtml;\n",
              "          element.appendChild(docLink);\n",
              "        }\n",
              "      </script>\n",
              "    </div>\n",
              "  </div>\n",
              "  "
            ]
          },
          "metadata": {},
          "execution_count": 4
        }
      ]
    },
    {
      "cell_type": "code",
      "source": [
        "df.isnull().sum()"
      ],
      "metadata": {
        "colab": {
          "base_uri": "https://localhost:8080/"
        },
        "id": "N_tVLHWBQzh9",
        "outputId": "03931ee7-7862-4e5f-ee5d-6a646dde7efd"
      },
      "execution_count": 5,
      "outputs": [
        {
          "output_type": "execute_result",
          "data": {
            "text/plain": [
              "CreditScore               0\n",
              "FirstPaymentDate          0\n",
              "FirstTimeHomebuyer        0\n",
              "MaturityDate              0\n",
              "MSA                       0\n",
              "MIP                       0\n",
              "Units                     0\n",
              "Occupancy                 0\n",
              "OCLTV                     0\n",
              "DTI                       0\n",
              "OrigUPB                   0\n",
              "LTV                       0\n",
              "OrigInterestRate          0\n",
              "Channel                   0\n",
              "PPM                       0\n",
              "ProductType               0\n",
              "PropertyState             0\n",
              "PropertyType              0\n",
              "PostalCode                0\n",
              "LoanSeqNum                0\n",
              "LoanPurpose               0\n",
              "OrigLoanTerm              0\n",
              "NumBorrowers              0\n",
              "SellerName            24994\n",
              "ServicerName              0\n",
              "EverDelinquent            0\n",
              "MonthsDelinquent          0\n",
              "MonthsInRepayment         0\n",
              "dtype: int64"
            ]
          },
          "metadata": {},
          "execution_count": 5
        }
      ]
    },
    {
      "cell_type": "markdown",
      "source": [
        "*The seller name is not very important for model building and would most likely be droped, so no need to deal with null values*"
      ],
      "metadata": {
        "id": "sHg3uK2sq8tM"
      }
    },
    {
      "cell_type": "code",
      "source": [
        "df.dtypes"
      ],
      "metadata": {
        "colab": {
          "base_uri": "https://localhost:8080/"
        },
        "id": "asK35RcQj38H",
        "outputId": "c30059ae-93f4-426c-9955-f8fe67c7141d"
      },
      "execution_count": 6,
      "outputs": [
        {
          "output_type": "execute_result",
          "data": {
            "text/plain": [
              "CreditScore             int64\n",
              "FirstPaymentDate        int64\n",
              "FirstTimeHomebuyer     object\n",
              "MaturityDate            int64\n",
              "MSA                    object\n",
              "MIP                     int64\n",
              "Units                   int64\n",
              "Occupancy              object\n",
              "OCLTV                   int64\n",
              "DTI                     int64\n",
              "OrigUPB                 int64\n",
              "LTV                     int64\n",
              "OrigInterestRate      float64\n",
              "Channel                object\n",
              "PPM                    object\n",
              "ProductType            object\n",
              "PropertyState          object\n",
              "PropertyType           object\n",
              "PostalCode             object\n",
              "LoanSeqNum             object\n",
              "LoanPurpose            object\n",
              "OrigLoanTerm            int64\n",
              "NumBorrowers           object\n",
              "SellerName             object\n",
              "ServicerName           object\n",
              "EverDelinquent          int64\n",
              "MonthsDelinquent        int64\n",
              "MonthsInRepayment       int64\n",
              "dtype: object"
            ]
          },
          "metadata": {},
          "execution_count": 6
        }
      ]
    },
    {
      "cell_type": "code",
      "source": [
        "df.info()"
      ],
      "metadata": {
        "colab": {
          "base_uri": "https://localhost:8080/"
        },
        "id": "awxsUYiyEABg",
        "outputId": "92aff1e7-8474-4916-88f6-59b639266361"
      },
      "execution_count": 7,
      "outputs": [
        {
          "output_type": "stream",
          "name": "stdout",
          "text": [
            "<class 'pandas.core.frame.DataFrame'>\n",
            "RangeIndex: 291451 entries, 0 to 291450\n",
            "Data columns (total 28 columns):\n",
            " #   Column              Non-Null Count   Dtype  \n",
            "---  ------              --------------   -----  \n",
            " 0   CreditScore         291451 non-null  int64  \n",
            " 1   FirstPaymentDate    291451 non-null  int64  \n",
            " 2   FirstTimeHomebuyer  291451 non-null  object \n",
            " 3   MaturityDate        291451 non-null  int64  \n",
            " 4   MSA                 291451 non-null  object \n",
            " 5   MIP                 291451 non-null  int64  \n",
            " 6   Units               291451 non-null  int64  \n",
            " 7   Occupancy           291451 non-null  object \n",
            " 8   OCLTV               291451 non-null  int64  \n",
            " 9   DTI                 291451 non-null  int64  \n",
            " 10  OrigUPB             291451 non-null  int64  \n",
            " 11  LTV                 291451 non-null  int64  \n",
            " 12  OrigInterestRate    291451 non-null  float64\n",
            " 13  Channel             291451 non-null  object \n",
            " 14  PPM                 291451 non-null  object \n",
            " 15  ProductType         291451 non-null  object \n",
            " 16  PropertyState       291451 non-null  object \n",
            " 17  PropertyType        291451 non-null  object \n",
            " 18  PostalCode          291451 non-null  object \n",
            " 19  LoanSeqNum          291451 non-null  object \n",
            " 20  LoanPurpose         291451 non-null  object \n",
            " 21  OrigLoanTerm        291451 non-null  int64  \n",
            " 22  NumBorrowers        291451 non-null  object \n",
            " 23  SellerName          266457 non-null  object \n",
            " 24  ServicerName        291451 non-null  object \n",
            " 25  EverDelinquent      291451 non-null  int64  \n",
            " 26  MonthsDelinquent    291451 non-null  int64  \n",
            " 27  MonthsInRepayment   291451 non-null  int64  \n",
            "dtypes: float64(1), int64(13), object(14)\n",
            "memory usage: 62.3+ MB\n"
          ]
        }
      ]
    },
    {
      "cell_type": "code",
      "source": [
        "df.describe()"
      ],
      "metadata": {
        "colab": {
          "base_uri": "https://localhost:8080/",
          "height": 364
        },
        "id": "IvY3joa7EID0",
        "outputId": "cc319df9-2874-4e10-eaef-1358476296a8"
      },
      "execution_count": 8,
      "outputs": [
        {
          "output_type": "execute_result",
          "data": {
            "text/plain": [
              "         CreditScore  FirstPaymentDate   MaturityDate            MIP  \\\n",
              "count  291451.000000     291451.000000  291451.000000  291451.000000   \n",
              "mean      708.936991     199904.760553  202902.367043       9.216685   \n",
              "std        68.408791         13.821228      16.090508      12.648273   \n",
              "min         0.000000     199901.000000  202402.000000       0.000000   \n",
              "25%       675.000000     199903.000000  202902.000000       0.000000   \n",
              "50%       717.000000     199904.000000  202903.000000       0.000000   \n",
              "75%       753.000000     199905.000000  202904.000000      25.000000   \n",
              "max       849.000000     201303.000000  204302.000000      55.000000   \n",
              "\n",
              "               Units          OCLTV            DTI        OrigUPB  \\\n",
              "count  291451.000000  291451.000000  291451.000000  291451.000000   \n",
              "mean        1.026022      76.960529      30.033453  124940.387921   \n",
              "std         0.202986      15.236154      13.203974   53657.440624   \n",
              "min         0.000000       0.000000       0.000000    8000.000000   \n",
              "25%         1.000000      70.000000      22.000000   83000.000000   \n",
              "50%         1.000000      80.000000      31.000000  117000.000000   \n",
              "75%         1.000000      90.000000      39.000000  160000.000000   \n",
              "max         4.000000     110.000000      65.000000  497000.000000   \n",
              "\n",
              "                 LTV  OrigInterestRate   OrigLoanTerm  EverDelinquent  \\\n",
              "count  291451.000000     291451.000000  291451.000000   291451.000000   \n",
              "mean       76.937986          6.926547     359.835375        0.197848   \n",
              "std        15.225298          0.343541       2.286939        0.398378   \n",
              "min         0.000000          4.000000     301.000000        0.000000   \n",
              "25%        70.000000          6.750000     360.000000        0.000000   \n",
              "50%        80.000000          6.875000     360.000000        0.000000   \n",
              "75%        90.000000          7.125000     360.000000        0.000000   \n",
              "max       103.000000         12.350000     361.000000        1.000000   \n",
              "\n",
              "       MonthsDelinquent  MonthsInRepayment  \n",
              "count     291451.000000      291451.000000  \n",
              "mean           1.837729          60.805291  \n",
              "std            8.809392          46.142599  \n",
              "min            0.000000           1.000000  \n",
              "25%            0.000000          34.000000  \n",
              "50%            0.000000          48.000000  \n",
              "75%            0.000000          63.000000  \n",
              "max          180.000000         212.000000  "
            ],
            "text/html": [
              "\n",
              "  <div id=\"df-5b1a9a54-9726-42b5-a94f-a059e8e53bcd\">\n",
              "    <div class=\"colab-df-container\">\n",
              "      <div>\n",
              "<style scoped>\n",
              "    .dataframe tbody tr th:only-of-type {\n",
              "        vertical-align: middle;\n",
              "    }\n",
              "\n",
              "    .dataframe tbody tr th {\n",
              "        vertical-align: top;\n",
              "    }\n",
              "\n",
              "    .dataframe thead th {\n",
              "        text-align: right;\n",
              "    }\n",
              "</style>\n",
              "<table border=\"1\" class=\"dataframe\">\n",
              "  <thead>\n",
              "    <tr style=\"text-align: right;\">\n",
              "      <th></th>\n",
              "      <th>CreditScore</th>\n",
              "      <th>FirstPaymentDate</th>\n",
              "      <th>MaturityDate</th>\n",
              "      <th>MIP</th>\n",
              "      <th>Units</th>\n",
              "      <th>OCLTV</th>\n",
              "      <th>DTI</th>\n",
              "      <th>OrigUPB</th>\n",
              "      <th>LTV</th>\n",
              "      <th>OrigInterestRate</th>\n",
              "      <th>OrigLoanTerm</th>\n",
              "      <th>EverDelinquent</th>\n",
              "      <th>MonthsDelinquent</th>\n",
              "      <th>MonthsInRepayment</th>\n",
              "    </tr>\n",
              "  </thead>\n",
              "  <tbody>\n",
              "    <tr>\n",
              "      <th>count</th>\n",
              "      <td>291451.000000</td>\n",
              "      <td>291451.000000</td>\n",
              "      <td>291451.000000</td>\n",
              "      <td>291451.000000</td>\n",
              "      <td>291451.000000</td>\n",
              "      <td>291451.000000</td>\n",
              "      <td>291451.000000</td>\n",
              "      <td>291451.000000</td>\n",
              "      <td>291451.000000</td>\n",
              "      <td>291451.000000</td>\n",
              "      <td>291451.000000</td>\n",
              "      <td>291451.000000</td>\n",
              "      <td>291451.000000</td>\n",
              "      <td>291451.000000</td>\n",
              "    </tr>\n",
              "    <tr>\n",
              "      <th>mean</th>\n",
              "      <td>708.936991</td>\n",
              "      <td>199904.760553</td>\n",
              "      <td>202902.367043</td>\n",
              "      <td>9.216685</td>\n",
              "      <td>1.026022</td>\n",
              "      <td>76.960529</td>\n",
              "      <td>30.033453</td>\n",
              "      <td>124940.387921</td>\n",
              "      <td>76.937986</td>\n",
              "      <td>6.926547</td>\n",
              "      <td>359.835375</td>\n",
              "      <td>0.197848</td>\n",
              "      <td>1.837729</td>\n",
              "      <td>60.805291</td>\n",
              "    </tr>\n",
              "    <tr>\n",
              "      <th>std</th>\n",
              "      <td>68.408791</td>\n",
              "      <td>13.821228</td>\n",
              "      <td>16.090508</td>\n",
              "      <td>12.648273</td>\n",
              "      <td>0.202986</td>\n",
              "      <td>15.236154</td>\n",
              "      <td>13.203974</td>\n",
              "      <td>53657.440624</td>\n",
              "      <td>15.225298</td>\n",
              "      <td>0.343541</td>\n",
              "      <td>2.286939</td>\n",
              "      <td>0.398378</td>\n",
              "      <td>8.809392</td>\n",
              "      <td>46.142599</td>\n",
              "    </tr>\n",
              "    <tr>\n",
              "      <th>min</th>\n",
              "      <td>0.000000</td>\n",
              "      <td>199901.000000</td>\n",
              "      <td>202402.000000</td>\n",
              "      <td>0.000000</td>\n",
              "      <td>0.000000</td>\n",
              "      <td>0.000000</td>\n",
              "      <td>0.000000</td>\n",
              "      <td>8000.000000</td>\n",
              "      <td>0.000000</td>\n",
              "      <td>4.000000</td>\n",
              "      <td>301.000000</td>\n",
              "      <td>0.000000</td>\n",
              "      <td>0.000000</td>\n",
              "      <td>1.000000</td>\n",
              "    </tr>\n",
              "    <tr>\n",
              "      <th>25%</th>\n",
              "      <td>675.000000</td>\n",
              "      <td>199903.000000</td>\n",
              "      <td>202902.000000</td>\n",
              "      <td>0.000000</td>\n",
              "      <td>1.000000</td>\n",
              "      <td>70.000000</td>\n",
              "      <td>22.000000</td>\n",
              "      <td>83000.000000</td>\n",
              "      <td>70.000000</td>\n",
              "      <td>6.750000</td>\n",
              "      <td>360.000000</td>\n",
              "      <td>0.000000</td>\n",
              "      <td>0.000000</td>\n",
              "      <td>34.000000</td>\n",
              "    </tr>\n",
              "    <tr>\n",
              "      <th>50%</th>\n",
              "      <td>717.000000</td>\n",
              "      <td>199904.000000</td>\n",
              "      <td>202903.000000</td>\n",
              "      <td>0.000000</td>\n",
              "      <td>1.000000</td>\n",
              "      <td>80.000000</td>\n",
              "      <td>31.000000</td>\n",
              "      <td>117000.000000</td>\n",
              "      <td>80.000000</td>\n",
              "      <td>6.875000</td>\n",
              "      <td>360.000000</td>\n",
              "      <td>0.000000</td>\n",
              "      <td>0.000000</td>\n",
              "      <td>48.000000</td>\n",
              "    </tr>\n",
              "    <tr>\n",
              "      <th>75%</th>\n",
              "      <td>753.000000</td>\n",
              "      <td>199905.000000</td>\n",
              "      <td>202904.000000</td>\n",
              "      <td>25.000000</td>\n",
              "      <td>1.000000</td>\n",
              "      <td>90.000000</td>\n",
              "      <td>39.000000</td>\n",
              "      <td>160000.000000</td>\n",
              "      <td>90.000000</td>\n",
              "      <td>7.125000</td>\n",
              "      <td>360.000000</td>\n",
              "      <td>0.000000</td>\n",
              "      <td>0.000000</td>\n",
              "      <td>63.000000</td>\n",
              "    </tr>\n",
              "    <tr>\n",
              "      <th>max</th>\n",
              "      <td>849.000000</td>\n",
              "      <td>201303.000000</td>\n",
              "      <td>204302.000000</td>\n",
              "      <td>55.000000</td>\n",
              "      <td>4.000000</td>\n",
              "      <td>110.000000</td>\n",
              "      <td>65.000000</td>\n",
              "      <td>497000.000000</td>\n",
              "      <td>103.000000</td>\n",
              "      <td>12.350000</td>\n",
              "      <td>361.000000</td>\n",
              "      <td>1.000000</td>\n",
              "      <td>180.000000</td>\n",
              "      <td>212.000000</td>\n",
              "    </tr>\n",
              "  </tbody>\n",
              "</table>\n",
              "</div>\n",
              "      <button class=\"colab-df-convert\" onclick=\"convertToInteractive('df-5b1a9a54-9726-42b5-a94f-a059e8e53bcd')\"\n",
              "              title=\"Convert this dataframe to an interactive table.\"\n",
              "              style=\"display:none;\">\n",
              "        \n",
              "  <svg xmlns=\"http://www.w3.org/2000/svg\" height=\"24px\"viewBox=\"0 0 24 24\"\n",
              "       width=\"24px\">\n",
              "    <path d=\"M0 0h24v24H0V0z\" fill=\"none\"/>\n",
              "    <path d=\"M18.56 5.44l.94 2.06.94-2.06 2.06-.94-2.06-.94-.94-2.06-.94 2.06-2.06.94zm-11 1L8.5 8.5l.94-2.06 2.06-.94-2.06-.94L8.5 2.5l-.94 2.06-2.06.94zm10 10l.94 2.06.94-2.06 2.06-.94-2.06-.94-.94-2.06-.94 2.06-2.06.94z\"/><path d=\"M17.41 7.96l-1.37-1.37c-.4-.4-.92-.59-1.43-.59-.52 0-1.04.2-1.43.59L10.3 9.45l-7.72 7.72c-.78.78-.78 2.05 0 2.83L4 21.41c.39.39.9.59 1.41.59.51 0 1.02-.2 1.41-.59l7.78-7.78 2.81-2.81c.8-.78.8-2.07 0-2.86zM5.41 20L4 18.59l7.72-7.72 1.47 1.35L5.41 20z\"/>\n",
              "  </svg>\n",
              "      </button>\n",
              "      \n",
              "  <style>\n",
              "    .colab-df-container {\n",
              "      display:flex;\n",
              "      flex-wrap:wrap;\n",
              "      gap: 12px;\n",
              "    }\n",
              "\n",
              "    .colab-df-convert {\n",
              "      background-color: #E8F0FE;\n",
              "      border: none;\n",
              "      border-radius: 50%;\n",
              "      cursor: pointer;\n",
              "      display: none;\n",
              "      fill: #1967D2;\n",
              "      height: 32px;\n",
              "      padding: 0 0 0 0;\n",
              "      width: 32px;\n",
              "    }\n",
              "\n",
              "    .colab-df-convert:hover {\n",
              "      background-color: #E2EBFA;\n",
              "      box-shadow: 0px 1px 2px rgba(60, 64, 67, 0.3), 0px 1px 3px 1px rgba(60, 64, 67, 0.15);\n",
              "      fill: #174EA6;\n",
              "    }\n",
              "\n",
              "    [theme=dark] .colab-df-convert {\n",
              "      background-color: #3B4455;\n",
              "      fill: #D2E3FC;\n",
              "    }\n",
              "\n",
              "    [theme=dark] .colab-df-convert:hover {\n",
              "      background-color: #434B5C;\n",
              "      box-shadow: 0px 1px 3px 1px rgba(0, 0, 0, 0.15);\n",
              "      filter: drop-shadow(0px 1px 2px rgba(0, 0, 0, 0.3));\n",
              "      fill: #FFFFFF;\n",
              "    }\n",
              "  </style>\n",
              "\n",
              "      <script>\n",
              "        const buttonEl =\n",
              "          document.querySelector('#df-5b1a9a54-9726-42b5-a94f-a059e8e53bcd button.colab-df-convert');\n",
              "        buttonEl.style.display =\n",
              "          google.colab.kernel.accessAllowed ? 'block' : 'none';\n",
              "\n",
              "        async function convertToInteractive(key) {\n",
              "          const element = document.querySelector('#df-5b1a9a54-9726-42b5-a94f-a059e8e53bcd');\n",
              "          const dataTable =\n",
              "            await google.colab.kernel.invokeFunction('convertToInteractive',\n",
              "                                                     [key], {});\n",
              "          if (!dataTable) return;\n",
              "\n",
              "          const docLinkHtml = 'Like what you see? Visit the ' +\n",
              "            '<a target=\"_blank\" href=https://colab.research.google.com/notebooks/data_table.ipynb>data table notebook</a>'\n",
              "            + ' to learn more about interactive tables.';\n",
              "          element.innerHTML = '';\n",
              "          dataTable['output_type'] = 'display_data';\n",
              "          await google.colab.output.renderOutput(dataTable, element);\n",
              "          const docLink = document.createElement('div');\n",
              "          docLink.innerHTML = docLinkHtml;\n",
              "          element.appendChild(docLink);\n",
              "        }\n",
              "      </script>\n",
              "    </div>\n",
              "  </div>\n",
              "  "
            ]
          },
          "metadata": {},
          "execution_count": 8
        }
      ]
    },
    {
      "cell_type": "code",
      "source": [
        "df.duplicated().sum()"
      ],
      "metadata": {
        "colab": {
          "base_uri": "https://localhost:8080/"
        },
        "id": "d29YnNpYEoe3",
        "outputId": "e1ff161a-48db-4855-cf68-a85de20534b2"
      },
      "execution_count": 9,
      "outputs": [
        {
          "output_type": "execute_result",
          "data": {
            "text/plain": [
              "0"
            ]
          },
          "metadata": {},
          "execution_count": 9
        }
      ]
    },
    {
      "cell_type": "markdown",
      "source": [
        "*No Duplicates*"
      ],
      "metadata": {
        "id": "TSFSrtGaE6Qq"
      }
    },
    {
      "cell_type": "code",
      "source": [
        "df['FirstPaymentDate'].unique()"
      ],
      "metadata": {
        "colab": {
          "base_uri": "https://localhost:8080/"
        },
        "id": "t7snvokPKh4T",
        "outputId": "36f55294-2ef8-4795-f690-1eaeb57cef19"
      },
      "execution_count": 10,
      "outputs": [
        {
          "output_type": "execute_result",
          "data": {
            "text/plain": [
              "array([199902, 199903, 199904, 199905, 199906, 199907, 199908, 199909,\n",
              "       199910, 199911, 199912, 200001, 200004, 200005, 200006, 200105,\n",
              "       200009, 200204, 200303, 200212, 200007, 200003, 200206, 200002,\n",
              "       200008, 200106, 200011, 200103, 200202, 200101, 200304, 200010,\n",
              "       200112, 200102, 200308, 200107, 200210, 200104, 200110, 200108,\n",
              "       200309, 200305, 200201, 200109, 200111, 200312, 200405, 200209,\n",
              "       199901, 200301, 200208, 200012, 200203, 200306, 200307, 200302,\n",
              "       200205, 200207, 200211, 200401, 201111, 201303, 200310, 200311,\n",
              "       200403, 200404])"
            ]
          },
          "metadata": {},
          "execution_count": 10
        }
      ]
    },
    {
      "cell_type": "code",
      "source": [
        "df['FirstPaymentDate'] = pd.to_datetime(df['FirstPaymentDate'], format='%Y%m')"
      ],
      "metadata": {
        "id": "NUbPi134kEBx"
      },
      "execution_count": 11,
      "outputs": []
    },
    {
      "cell_type": "code",
      "source": [
        "df['MaturityDate'] = pd.to_datetime(df['MaturityDate'], format='%Y%m')"
      ],
      "metadata": {
        "id": "TDeLhPXKNzCU"
      },
      "execution_count": 12,
      "outputs": []
    },
    {
      "cell_type": "code",
      "source": [
        "df"
      ],
      "metadata": {
        "colab": {
          "base_uri": "https://localhost:8080/",
          "height": 487
        },
        "id": "-XWXI1y2JD-T",
        "outputId": "fdbc4692-45b6-4f35-9a66-75ab6129aef9"
      },
      "execution_count": 13,
      "outputs": [
        {
          "output_type": "execute_result",
          "data": {
            "text/plain": [
              "        CreditScore FirstPaymentDate FirstTimeHomebuyer MaturityDate    MSA  \\\n",
              "0                 0       1999-02-01                  N   2029-01-01  16974   \n",
              "1                 0       1999-02-01                  N   2029-01-01  19740   \n",
              "2                 0       1999-02-01                  N   2029-01-01  29940   \n",
              "3                 0       1999-02-01                  N   2029-01-01  31084   \n",
              "4                 0       1999-02-01                  N   2029-01-01  35644   \n",
              "...             ...              ...                ...          ...    ...   \n",
              "291446          839       1999-03-01                  N   2029-02-01  37964   \n",
              "291447          840       2002-10-01                  N   2029-04-01  35644   \n",
              "291448          840       2003-04-01                  N   2029-04-01  42044   \n",
              "291449          845       1999-04-01                  N   2029-03-01  37964   \n",
              "291450          849       1999-03-01                  N   2029-02-01  37964   \n",
              "\n",
              "        MIP  Units Occupancy  OCLTV  DTI  ...  PostalCode    LoanSeqNum  \\\n",
              "0        25      1         O     89   27  ...       60400  F199Q1268030   \n",
              "1         0      1         O     73   17  ...       80200  F199Q1015092   \n",
              "2         0      1         O     75   16  ...       66000  F199Q1266886   \n",
              "3         0      1         O     76   14  ...       90700  F199Q1178167   \n",
              "4         0      1         O     78   18  ...        7600  F199Q1178517   \n",
              "...     ...    ...       ...    ...  ...  ...         ...           ...   \n",
              "291446    0      1         O     60   32  ...       19400  F199Q1220925   \n",
              "291447    0      1         O     73    0  ...       11600  F199Q1401332   \n",
              "291448    0      1         O     73   31  ...       92800  F199Q1401282   \n",
              "291449    0      1         I     80   54  ...       19300  F199Q1220924   \n",
              "291450    0      1         O     47   29  ...       18900  F199Q1220923   \n",
              "\n",
              "        LoanPurpose OrigLoanTerm NumBorrowers SellerName  \\\n",
              "0                 P          360            2         FL   \n",
              "1                 N          360            1         FT   \n",
              "2                 N          360            2         FL   \n",
              "3                 N          360            2         GM   \n",
              "4                 N          360            2         GM   \n",
              "...             ...          ...          ...        ...   \n",
              "291446            N          360            2         Ot   \n",
              "291447            P          319            2         Ot   \n",
              "291448            N          313            1         Ot   \n",
              "291449            P          360            2         Ot   \n",
              "291450            P          360            2         Ot   \n",
              "\n",
              "                ServicerName EverDelinquent MonthsDelinquent MonthsInRepayment  \n",
              "0       WASHINGTONMUTUALBANK              0                0                52  \n",
              "1       CHASEHOMEFINANCELLC               0                0               144  \n",
              "2       WASHINGTONMUTUALBANK              0                0                67  \n",
              "3       GMACMTGECORP                      0                0                35  \n",
              "4       GMACMTGECORP                      0                0                54  \n",
              "...                      ...            ...              ...               ...  \n",
              "291446  Other servicers                   0                0                12  \n",
              "291447  Other servicers                   0                0                53  \n",
              "291448  Other servicers                   0                0                38  \n",
              "291449  Other servicers                   0                0                32  \n",
              "291450  Other servicers                   0                0                29  \n",
              "\n",
              "[291451 rows x 28 columns]"
            ],
            "text/html": [
              "\n",
              "  <div id=\"df-205172a2-d7e5-4036-bce1-9ae3775f418a\">\n",
              "    <div class=\"colab-df-container\">\n",
              "      <div>\n",
              "<style scoped>\n",
              "    .dataframe tbody tr th:only-of-type {\n",
              "        vertical-align: middle;\n",
              "    }\n",
              "\n",
              "    .dataframe tbody tr th {\n",
              "        vertical-align: top;\n",
              "    }\n",
              "\n",
              "    .dataframe thead th {\n",
              "        text-align: right;\n",
              "    }\n",
              "</style>\n",
              "<table border=\"1\" class=\"dataframe\">\n",
              "  <thead>\n",
              "    <tr style=\"text-align: right;\">\n",
              "      <th></th>\n",
              "      <th>CreditScore</th>\n",
              "      <th>FirstPaymentDate</th>\n",
              "      <th>FirstTimeHomebuyer</th>\n",
              "      <th>MaturityDate</th>\n",
              "      <th>MSA</th>\n",
              "      <th>MIP</th>\n",
              "      <th>Units</th>\n",
              "      <th>Occupancy</th>\n",
              "      <th>OCLTV</th>\n",
              "      <th>DTI</th>\n",
              "      <th>...</th>\n",
              "      <th>PostalCode</th>\n",
              "      <th>LoanSeqNum</th>\n",
              "      <th>LoanPurpose</th>\n",
              "      <th>OrigLoanTerm</th>\n",
              "      <th>NumBorrowers</th>\n",
              "      <th>SellerName</th>\n",
              "      <th>ServicerName</th>\n",
              "      <th>EverDelinquent</th>\n",
              "      <th>MonthsDelinquent</th>\n",
              "      <th>MonthsInRepayment</th>\n",
              "    </tr>\n",
              "  </thead>\n",
              "  <tbody>\n",
              "    <tr>\n",
              "      <th>0</th>\n",
              "      <td>0</td>\n",
              "      <td>1999-02-01</td>\n",
              "      <td>N</td>\n",
              "      <td>2029-01-01</td>\n",
              "      <td>16974</td>\n",
              "      <td>25</td>\n",
              "      <td>1</td>\n",
              "      <td>O</td>\n",
              "      <td>89</td>\n",
              "      <td>27</td>\n",
              "      <td>...</td>\n",
              "      <td>60400</td>\n",
              "      <td>F199Q1268030</td>\n",
              "      <td>P</td>\n",
              "      <td>360</td>\n",
              "      <td>2</td>\n",
              "      <td>FL</td>\n",
              "      <td>WASHINGTONMUTUALBANK</td>\n",
              "      <td>0</td>\n",
              "      <td>0</td>\n",
              "      <td>52</td>\n",
              "    </tr>\n",
              "    <tr>\n",
              "      <th>1</th>\n",
              "      <td>0</td>\n",
              "      <td>1999-02-01</td>\n",
              "      <td>N</td>\n",
              "      <td>2029-01-01</td>\n",
              "      <td>19740</td>\n",
              "      <td>0</td>\n",
              "      <td>1</td>\n",
              "      <td>O</td>\n",
              "      <td>73</td>\n",
              "      <td>17</td>\n",
              "      <td>...</td>\n",
              "      <td>80200</td>\n",
              "      <td>F199Q1015092</td>\n",
              "      <td>N</td>\n",
              "      <td>360</td>\n",
              "      <td>1</td>\n",
              "      <td>FT</td>\n",
              "      <td>CHASEHOMEFINANCELLC</td>\n",
              "      <td>0</td>\n",
              "      <td>0</td>\n",
              "      <td>144</td>\n",
              "    </tr>\n",
              "    <tr>\n",
              "      <th>2</th>\n",
              "      <td>0</td>\n",
              "      <td>1999-02-01</td>\n",
              "      <td>N</td>\n",
              "      <td>2029-01-01</td>\n",
              "      <td>29940</td>\n",
              "      <td>0</td>\n",
              "      <td>1</td>\n",
              "      <td>O</td>\n",
              "      <td>75</td>\n",
              "      <td>16</td>\n",
              "      <td>...</td>\n",
              "      <td>66000</td>\n",
              "      <td>F199Q1266886</td>\n",
              "      <td>N</td>\n",
              "      <td>360</td>\n",
              "      <td>2</td>\n",
              "      <td>FL</td>\n",
              "      <td>WASHINGTONMUTUALBANK</td>\n",
              "      <td>0</td>\n",
              "      <td>0</td>\n",
              "      <td>67</td>\n",
              "    </tr>\n",
              "    <tr>\n",
              "      <th>3</th>\n",
              "      <td>0</td>\n",
              "      <td>1999-02-01</td>\n",
              "      <td>N</td>\n",
              "      <td>2029-01-01</td>\n",
              "      <td>31084</td>\n",
              "      <td>0</td>\n",
              "      <td>1</td>\n",
              "      <td>O</td>\n",
              "      <td>76</td>\n",
              "      <td>14</td>\n",
              "      <td>...</td>\n",
              "      <td>90700</td>\n",
              "      <td>F199Q1178167</td>\n",
              "      <td>N</td>\n",
              "      <td>360</td>\n",
              "      <td>2</td>\n",
              "      <td>GM</td>\n",
              "      <td>GMACMTGECORP</td>\n",
              "      <td>0</td>\n",
              "      <td>0</td>\n",
              "      <td>35</td>\n",
              "    </tr>\n",
              "    <tr>\n",
              "      <th>4</th>\n",
              "      <td>0</td>\n",
              "      <td>1999-02-01</td>\n",
              "      <td>N</td>\n",
              "      <td>2029-01-01</td>\n",
              "      <td>35644</td>\n",
              "      <td>0</td>\n",
              "      <td>1</td>\n",
              "      <td>O</td>\n",
              "      <td>78</td>\n",
              "      <td>18</td>\n",
              "      <td>...</td>\n",
              "      <td>7600</td>\n",
              "      <td>F199Q1178517</td>\n",
              "      <td>N</td>\n",
              "      <td>360</td>\n",
              "      <td>2</td>\n",
              "      <td>GM</td>\n",
              "      <td>GMACMTGECORP</td>\n",
              "      <td>0</td>\n",
              "      <td>0</td>\n",
              "      <td>54</td>\n",
              "    </tr>\n",
              "    <tr>\n",
              "      <th>...</th>\n",
              "      <td>...</td>\n",
              "      <td>...</td>\n",
              "      <td>...</td>\n",
              "      <td>...</td>\n",
              "      <td>...</td>\n",
              "      <td>...</td>\n",
              "      <td>...</td>\n",
              "      <td>...</td>\n",
              "      <td>...</td>\n",
              "      <td>...</td>\n",
              "      <td>...</td>\n",
              "      <td>...</td>\n",
              "      <td>...</td>\n",
              "      <td>...</td>\n",
              "      <td>...</td>\n",
              "      <td>...</td>\n",
              "      <td>...</td>\n",
              "      <td>...</td>\n",
              "      <td>...</td>\n",
              "      <td>...</td>\n",
              "      <td>...</td>\n",
              "    </tr>\n",
              "    <tr>\n",
              "      <th>291446</th>\n",
              "      <td>839</td>\n",
              "      <td>1999-03-01</td>\n",
              "      <td>N</td>\n",
              "      <td>2029-02-01</td>\n",
              "      <td>37964</td>\n",
              "      <td>0</td>\n",
              "      <td>1</td>\n",
              "      <td>O</td>\n",
              "      <td>60</td>\n",
              "      <td>32</td>\n",
              "      <td>...</td>\n",
              "      <td>19400</td>\n",
              "      <td>F199Q1220925</td>\n",
              "      <td>N</td>\n",
              "      <td>360</td>\n",
              "      <td>2</td>\n",
              "      <td>Ot</td>\n",
              "      <td>Other servicers</td>\n",
              "      <td>0</td>\n",
              "      <td>0</td>\n",
              "      <td>12</td>\n",
              "    </tr>\n",
              "    <tr>\n",
              "      <th>291447</th>\n",
              "      <td>840</td>\n",
              "      <td>2002-10-01</td>\n",
              "      <td>N</td>\n",
              "      <td>2029-04-01</td>\n",
              "      <td>35644</td>\n",
              "      <td>0</td>\n",
              "      <td>1</td>\n",
              "      <td>O</td>\n",
              "      <td>73</td>\n",
              "      <td>0</td>\n",
              "      <td>...</td>\n",
              "      <td>11600</td>\n",
              "      <td>F199Q1401332</td>\n",
              "      <td>P</td>\n",
              "      <td>319</td>\n",
              "      <td>2</td>\n",
              "      <td>Ot</td>\n",
              "      <td>Other servicers</td>\n",
              "      <td>0</td>\n",
              "      <td>0</td>\n",
              "      <td>53</td>\n",
              "    </tr>\n",
              "    <tr>\n",
              "      <th>291448</th>\n",
              "      <td>840</td>\n",
              "      <td>2003-04-01</td>\n",
              "      <td>N</td>\n",
              "      <td>2029-04-01</td>\n",
              "      <td>42044</td>\n",
              "      <td>0</td>\n",
              "      <td>1</td>\n",
              "      <td>O</td>\n",
              "      <td>73</td>\n",
              "      <td>31</td>\n",
              "      <td>...</td>\n",
              "      <td>92800</td>\n",
              "      <td>F199Q1401282</td>\n",
              "      <td>N</td>\n",
              "      <td>313</td>\n",
              "      <td>1</td>\n",
              "      <td>Ot</td>\n",
              "      <td>Other servicers</td>\n",
              "      <td>0</td>\n",
              "      <td>0</td>\n",
              "      <td>38</td>\n",
              "    </tr>\n",
              "    <tr>\n",
              "      <th>291449</th>\n",
              "      <td>845</td>\n",
              "      <td>1999-04-01</td>\n",
              "      <td>N</td>\n",
              "      <td>2029-03-01</td>\n",
              "      <td>37964</td>\n",
              "      <td>0</td>\n",
              "      <td>1</td>\n",
              "      <td>I</td>\n",
              "      <td>80</td>\n",
              "      <td>54</td>\n",
              "      <td>...</td>\n",
              "      <td>19300</td>\n",
              "      <td>F199Q1220924</td>\n",
              "      <td>P</td>\n",
              "      <td>360</td>\n",
              "      <td>2</td>\n",
              "      <td>Ot</td>\n",
              "      <td>Other servicers</td>\n",
              "      <td>0</td>\n",
              "      <td>0</td>\n",
              "      <td>32</td>\n",
              "    </tr>\n",
              "    <tr>\n",
              "      <th>291450</th>\n",
              "      <td>849</td>\n",
              "      <td>1999-03-01</td>\n",
              "      <td>N</td>\n",
              "      <td>2029-02-01</td>\n",
              "      <td>37964</td>\n",
              "      <td>0</td>\n",
              "      <td>1</td>\n",
              "      <td>O</td>\n",
              "      <td>47</td>\n",
              "      <td>29</td>\n",
              "      <td>...</td>\n",
              "      <td>18900</td>\n",
              "      <td>F199Q1220923</td>\n",
              "      <td>P</td>\n",
              "      <td>360</td>\n",
              "      <td>2</td>\n",
              "      <td>Ot</td>\n",
              "      <td>Other servicers</td>\n",
              "      <td>0</td>\n",
              "      <td>0</td>\n",
              "      <td>29</td>\n",
              "    </tr>\n",
              "  </tbody>\n",
              "</table>\n",
              "<p>291451 rows × 28 columns</p>\n",
              "</div>\n",
              "      <button class=\"colab-df-convert\" onclick=\"convertToInteractive('df-205172a2-d7e5-4036-bce1-9ae3775f418a')\"\n",
              "              title=\"Convert this dataframe to an interactive table.\"\n",
              "              style=\"display:none;\">\n",
              "        \n",
              "  <svg xmlns=\"http://www.w3.org/2000/svg\" height=\"24px\"viewBox=\"0 0 24 24\"\n",
              "       width=\"24px\">\n",
              "    <path d=\"M0 0h24v24H0V0z\" fill=\"none\"/>\n",
              "    <path d=\"M18.56 5.44l.94 2.06.94-2.06 2.06-.94-2.06-.94-.94-2.06-.94 2.06-2.06.94zm-11 1L8.5 8.5l.94-2.06 2.06-.94-2.06-.94L8.5 2.5l-.94 2.06-2.06.94zm10 10l.94 2.06.94-2.06 2.06-.94-2.06-.94-.94-2.06-.94 2.06-2.06.94z\"/><path d=\"M17.41 7.96l-1.37-1.37c-.4-.4-.92-.59-1.43-.59-.52 0-1.04.2-1.43.59L10.3 9.45l-7.72 7.72c-.78.78-.78 2.05 0 2.83L4 21.41c.39.39.9.59 1.41.59.51 0 1.02-.2 1.41-.59l7.78-7.78 2.81-2.81c.8-.78.8-2.07 0-2.86zM5.41 20L4 18.59l7.72-7.72 1.47 1.35L5.41 20z\"/>\n",
              "  </svg>\n",
              "      </button>\n",
              "      \n",
              "  <style>\n",
              "    .colab-df-container {\n",
              "      display:flex;\n",
              "      flex-wrap:wrap;\n",
              "      gap: 12px;\n",
              "    }\n",
              "\n",
              "    .colab-df-convert {\n",
              "      background-color: #E8F0FE;\n",
              "      border: none;\n",
              "      border-radius: 50%;\n",
              "      cursor: pointer;\n",
              "      display: none;\n",
              "      fill: #1967D2;\n",
              "      height: 32px;\n",
              "      padding: 0 0 0 0;\n",
              "      width: 32px;\n",
              "    }\n",
              "\n",
              "    .colab-df-convert:hover {\n",
              "      background-color: #E2EBFA;\n",
              "      box-shadow: 0px 1px 2px rgba(60, 64, 67, 0.3), 0px 1px 3px 1px rgba(60, 64, 67, 0.15);\n",
              "      fill: #174EA6;\n",
              "    }\n",
              "\n",
              "    [theme=dark] .colab-df-convert {\n",
              "      background-color: #3B4455;\n",
              "      fill: #D2E3FC;\n",
              "    }\n",
              "\n",
              "    [theme=dark] .colab-df-convert:hover {\n",
              "      background-color: #434B5C;\n",
              "      box-shadow: 0px 1px 3px 1px rgba(0, 0, 0, 0.15);\n",
              "      filter: drop-shadow(0px 1px 2px rgba(0, 0, 0, 0.3));\n",
              "      fill: #FFFFFF;\n",
              "    }\n",
              "  </style>\n",
              "\n",
              "      <script>\n",
              "        const buttonEl =\n",
              "          document.querySelector('#df-205172a2-d7e5-4036-bce1-9ae3775f418a button.colab-df-convert');\n",
              "        buttonEl.style.display =\n",
              "          google.colab.kernel.accessAllowed ? 'block' : 'none';\n",
              "\n",
              "        async function convertToInteractive(key) {\n",
              "          const element = document.querySelector('#df-205172a2-d7e5-4036-bce1-9ae3775f418a');\n",
              "          const dataTable =\n",
              "            await google.colab.kernel.invokeFunction('convertToInteractive',\n",
              "                                                     [key], {});\n",
              "          if (!dataTable) return;\n",
              "\n",
              "          const docLinkHtml = 'Like what you see? Visit the ' +\n",
              "            '<a target=\"_blank\" href=https://colab.research.google.com/notebooks/data_table.ipynb>data table notebook</a>'\n",
              "            + ' to learn more about interactive tables.';\n",
              "          element.innerHTML = '';\n",
              "          dataTable['output_type'] = 'display_data';\n",
              "          await google.colab.output.renderOutput(dataTable, element);\n",
              "          const docLink = document.createElement('div');\n",
              "          docLink.innerHTML = docLinkHtml;\n",
              "          element.appendChild(docLink);\n",
              "        }\n",
              "      </script>\n",
              "    </div>\n",
              "  </div>\n",
              "  "
            ]
          },
          "metadata": {},
          "execution_count": 13
        }
      ]
    },
    {
      "cell_type": "markdown",
      "source": [
        "*Dates changed to respective formats*\n",
        "\n",
        "*We might not use these columns though*"
      ],
      "metadata": {
        "id": "Kon5XYSMFIQd"
      }
    },
    {
      "cell_type": "code",
      "source": [
        "def plot_cat(col):\n",
        "  sns.barplot(data=df,x=df[col].value_counts().values,y=df[col].value_counts().index)\n",
        "  plt.title(str.title(col))\n",
        "  plt.xlabel(\"Count\")\n",
        "  plt.xticks(rotation=45)\n",
        "  plt.show()"
      ],
      "metadata": {
        "id": "PuAo4fRhvjLW"
      },
      "execution_count": 14,
      "outputs": []
    },
    {
      "cell_type": "code",
      "source": [
        "def plot_out(col):\n",
        "  fig,ax=plt.subplots(1,2,figsize=(15,5))\n",
        "  sns.boxplot(df[col],ax=ax[0],showfliers=False)\n",
        "  sns.distplot(df[col],ax=ax[1],kde=False,bins=40)\n",
        "  plt.title(f'{col} distribution')"
      ],
      "metadata": {
        "id": "YVx0CmKjxH8f"
      },
      "execution_count": 15,
      "outputs": []
    },
    {
      "cell_type": "code",
      "source": [
        "for i in [\"CreditScore\",\"MIP\",\"Units\",\"OCLTV\",\"DTI\",\"OrigUPB\",\"LTV\",\"OrigInterestRate\",\"OrigLoanTerm\",\"EverDelinquent\",\"MonthsDelinquent\",\"MonthsInRepayment\"]:\n",
        "  plot_out(i)"
      ],
      "metadata": {
        "colab": {
          "base_uri": "https://localhost:8080/",
          "height": 1000
        },
        "id": "8emjSLi7xrmJ",
        "outputId": "b795a86a-204a-4aec-c8a1-26c6c4c9fe6a"
      },
      "execution_count": 16,
      "outputs": [
        {
          "output_type": "stream",
          "name": "stderr",
          "text": [
            "/usr/local/lib/python3.8/dist-packages/seaborn/_decorators.py:36: FutureWarning: Pass the following variable as a keyword arg: x. From version 0.12, the only valid positional argument will be `data`, and passing other arguments without an explicit keyword will result in an error or misinterpretation.\n",
            "  warnings.warn(\n",
            "/usr/local/lib/python3.8/dist-packages/seaborn/distributions.py:2619: FutureWarning: `distplot` is a deprecated function and will be removed in a future version. Please adapt your code to use either `displot` (a figure-level function with similar flexibility) or `histplot` (an axes-level function for histograms).\n",
            "  warnings.warn(msg, FutureWarning)\n",
            "/usr/local/lib/python3.8/dist-packages/seaborn/_decorators.py:36: FutureWarning: Pass the following variable as a keyword arg: x. From version 0.12, the only valid positional argument will be `data`, and passing other arguments without an explicit keyword will result in an error or misinterpretation.\n",
            "  warnings.warn(\n",
            "/usr/local/lib/python3.8/dist-packages/seaborn/distributions.py:2619: FutureWarning: `distplot` is a deprecated function and will be removed in a future version. Please adapt your code to use either `displot` (a figure-level function with similar flexibility) or `histplot` (an axes-level function for histograms).\n",
            "  warnings.warn(msg, FutureWarning)\n",
            "/usr/local/lib/python3.8/dist-packages/seaborn/_decorators.py:36: FutureWarning: Pass the following variable as a keyword arg: x. From version 0.12, the only valid positional argument will be `data`, and passing other arguments without an explicit keyword will result in an error or misinterpretation.\n",
            "  warnings.warn(\n",
            "/usr/local/lib/python3.8/dist-packages/seaborn/distributions.py:2619: FutureWarning: `distplot` is a deprecated function and will be removed in a future version. Please adapt your code to use either `displot` (a figure-level function with similar flexibility) or `histplot` (an axes-level function for histograms).\n",
            "  warnings.warn(msg, FutureWarning)\n",
            "/usr/local/lib/python3.8/dist-packages/seaborn/_decorators.py:36: FutureWarning: Pass the following variable as a keyword arg: x. From version 0.12, the only valid positional argument will be `data`, and passing other arguments without an explicit keyword will result in an error or misinterpretation.\n",
            "  warnings.warn(\n",
            "/usr/local/lib/python3.8/dist-packages/seaborn/distributions.py:2619: FutureWarning: `distplot` is a deprecated function and will be removed in a future version. Please adapt your code to use either `displot` (a figure-level function with similar flexibility) or `histplot` (an axes-level function for histograms).\n",
            "  warnings.warn(msg, FutureWarning)\n",
            "/usr/local/lib/python3.8/dist-packages/seaborn/_decorators.py:36: FutureWarning: Pass the following variable as a keyword arg: x. From version 0.12, the only valid positional argument will be `data`, and passing other arguments without an explicit keyword will result in an error or misinterpretation.\n",
            "  warnings.warn(\n",
            "/usr/local/lib/python3.8/dist-packages/seaborn/distributions.py:2619: FutureWarning: `distplot` is a deprecated function and will be removed in a future version. Please adapt your code to use either `displot` (a figure-level function with similar flexibility) or `histplot` (an axes-level function for histograms).\n",
            "  warnings.warn(msg, FutureWarning)\n",
            "/usr/local/lib/python3.8/dist-packages/seaborn/_decorators.py:36: FutureWarning: Pass the following variable as a keyword arg: x. From version 0.12, the only valid positional argument will be `data`, and passing other arguments without an explicit keyword will result in an error or misinterpretation.\n",
            "  warnings.warn(\n",
            "/usr/local/lib/python3.8/dist-packages/seaborn/distributions.py:2619: FutureWarning: `distplot` is a deprecated function and will be removed in a future version. Please adapt your code to use either `displot` (a figure-level function with similar flexibility) or `histplot` (an axes-level function for histograms).\n",
            "  warnings.warn(msg, FutureWarning)\n",
            "/usr/local/lib/python3.8/dist-packages/seaborn/_decorators.py:36: FutureWarning: Pass the following variable as a keyword arg: x. From version 0.12, the only valid positional argument will be `data`, and passing other arguments without an explicit keyword will result in an error or misinterpretation.\n",
            "  warnings.warn(\n",
            "/usr/local/lib/python3.8/dist-packages/seaborn/distributions.py:2619: FutureWarning: `distplot` is a deprecated function and will be removed in a future version. Please adapt your code to use either `displot` (a figure-level function with similar flexibility) or `histplot` (an axes-level function for histograms).\n",
            "  warnings.warn(msg, FutureWarning)\n",
            "/usr/local/lib/python3.8/dist-packages/seaborn/_decorators.py:36: FutureWarning: Pass the following variable as a keyword arg: x. From version 0.12, the only valid positional argument will be `data`, and passing other arguments without an explicit keyword will result in an error or misinterpretation.\n",
            "  warnings.warn(\n",
            "/usr/local/lib/python3.8/dist-packages/seaborn/distributions.py:2619: FutureWarning: `distplot` is a deprecated function and will be removed in a future version. Please adapt your code to use either `displot` (a figure-level function with similar flexibility) or `histplot` (an axes-level function for histograms).\n",
            "  warnings.warn(msg, FutureWarning)\n",
            "/usr/local/lib/python3.8/dist-packages/seaborn/_decorators.py:36: FutureWarning: Pass the following variable as a keyword arg: x. From version 0.12, the only valid positional argument will be `data`, and passing other arguments without an explicit keyword will result in an error or misinterpretation.\n",
            "  warnings.warn(\n",
            "/usr/local/lib/python3.8/dist-packages/seaborn/distributions.py:2619: FutureWarning: `distplot` is a deprecated function and will be removed in a future version. Please adapt your code to use either `displot` (a figure-level function with similar flexibility) or `histplot` (an axes-level function for histograms).\n",
            "  warnings.warn(msg, FutureWarning)\n",
            "/usr/local/lib/python3.8/dist-packages/seaborn/_decorators.py:36: FutureWarning: Pass the following variable as a keyword arg: x. From version 0.12, the only valid positional argument will be `data`, and passing other arguments without an explicit keyword will result in an error or misinterpretation.\n",
            "  warnings.warn(\n",
            "/usr/local/lib/python3.8/dist-packages/seaborn/distributions.py:2619: FutureWarning: `distplot` is a deprecated function and will be removed in a future version. Please adapt your code to use either `displot` (a figure-level function with similar flexibility) or `histplot` (an axes-level function for histograms).\n",
            "  warnings.warn(msg, FutureWarning)\n",
            "/usr/local/lib/python3.8/dist-packages/seaborn/_decorators.py:36: FutureWarning: Pass the following variable as a keyword arg: x. From version 0.12, the only valid positional argument will be `data`, and passing other arguments without an explicit keyword will result in an error or misinterpretation.\n",
            "  warnings.warn(\n",
            "/usr/local/lib/python3.8/dist-packages/seaborn/distributions.py:2619: FutureWarning: `distplot` is a deprecated function and will be removed in a future version. Please adapt your code to use either `displot` (a figure-level function with similar flexibility) or `histplot` (an axes-level function for histograms).\n",
            "  warnings.warn(msg, FutureWarning)\n",
            "/usr/local/lib/python3.8/dist-packages/seaborn/_decorators.py:36: FutureWarning: Pass the following variable as a keyword arg: x. From version 0.12, the only valid positional argument will be `data`, and passing other arguments without an explicit keyword will result in an error or misinterpretation.\n",
            "  warnings.warn(\n",
            "/usr/local/lib/python3.8/dist-packages/seaborn/distributions.py:2619: FutureWarning: `distplot` is a deprecated function and will be removed in a future version. Please adapt your code to use either `displot` (a figure-level function with similar flexibility) or `histplot` (an axes-level function for histograms).\n",
            "  warnings.warn(msg, FutureWarning)\n"
          ]
        },
        {
          "output_type": "display_data",
          "data": {
            "text/plain": [
              "<Figure size 1080x360 with 2 Axes>"
            ],
            "image/png": "[encoded data removed]"
          },
          "metadata": {
            "needs_background": "light"
          }
        },
        {
          "output_type": "display_data",
          "data": {
            "text/plain": [
              "<Figure size 1080x360 with 2 Axes>"
            ],
            "image/png": "[encoded data removed]"
          },
          "metadata": {
            "needs_background": "light"
          }
        },
        {
          "output_type": "display_data",
          "data": {
            "text/plain": [
              "<Figure size 1080x360 with 2 Axes>"
            ],
            "image/png": "[encoded data removed]"
          },
          "metadata": {
            "needs_background": "light"
          }
        },
        {
          "output_type": "display_data",
          "data": {
            "text/plain": [
              "<Figure size 1080x360 with 2 Axes>"
            ],
            "image/png": "[encoded data removed]"
          },
          "metadata": {
            "needs_background": "light"
          }
        },
        {
          "output_type": "display_data",
          "data": {
            "text/plain": [
              "<Figure size 1080x360 with 2 Axes>"
            ],
            "image/png": "[encoded data removed]"
          },
          "metadata": {
            "needs_background": "light"
          }
        },
        {
          "output_type": "display_data",
          "data": {
            "text/plain": [
              "<Figure size 1080x360 with 2 Axes>"
            ],
            "image/png": "[encoded data removed]"
          },
          "metadata": {
            "needs_background": "light"
          }
        },
        {
          "output_type": "display_data",
          "data": {
            "text/plain": [
              "<Figure size 1080x360 with 2 Axes>"
            ],
            "image/png": "[encoded data removed]"
          },
          "metadata": {
            "needs_background": "light"
          }
        },
        {
          "output_type": "display_data",
          "data": {
            "text/plain": [
              "<Figure size 1080x360 with 2 Axes>"
            ],
            "image/png": "[encoded data removed]"
          },
          "metadata": {
            "needs_background": "light"
          }
        },
        {
          "output_type": "display_data",
          "data": {
            "text/plain": [
              "<Figure size 1080x360 with 2 Axes>"
            ],
            "image/png": "[encoded data removed]"
          },
          "metadata": {
            "needs_background": "light"
          }
        },
        {
          "output_type": "display_data",
          "data": {
            "text/plain": [
              "<Figure size 1080x360 with 2 Axes>"
            ],
            "image/png": "[encoded data removed]"
          },
          "metadata": {
            "needs_background": "light"
          }
        },
        {
          "output_type": "display_data",
          "data": {
            "text/plain": [
              "<Figure size 1080x360 with 2 Axes>"
            ],
            "image/png": "[encoded data removed]"
          },
          "metadata": {
            "needs_background": "light"
          }
        },
        {
          "output_type": "display_data",
          "data": {
            "text/plain": [
              "<Figure size 1080x360 with 2 Axes>"
            ],
            "image/png": "[encoded data removed]"
          },
          "metadata": {
            "needs_background": "light"
          }
        }
      ]
    },
    {
      "cell_type": "code",
      "source": [
        "df.columns"
      ],
      "metadata": {
        "colab": {
          "base_uri": "https://localhost:8080/"
        },
        "id": "L_onNNVBFhMj",
        "outputId": "2c02cda0-a265-4408-d639-d2824b50271e"
      },
      "execution_count": 17,
      "outputs": [
        {
          "output_type": "execute_result",
          "data": {
            "text/plain": [
              "Index(['CreditScore', 'FirstPaymentDate', 'FirstTimeHomebuyer', 'MaturityDate',\n",
              "       'MSA', 'MIP', 'Units', 'Occupancy', 'OCLTV', 'DTI', 'OrigUPB', 'LTV',\n",
              "       'OrigInterestRate', 'Channel', 'PPM', 'ProductType', 'PropertyState',\n",
              "       'PropertyType', 'PostalCode', 'LoanSeqNum', 'LoanPurpose',\n",
              "       'OrigLoanTerm', 'NumBorrowers', 'SellerName', 'ServicerName',\n",
              "       'EverDelinquent', 'MonthsDelinquent', 'MonthsInRepayment'],\n",
              "      dtype='object')"
            ]
          },
          "metadata": {},
          "execution_count": 17
        }
      ]
    },
    {
      "cell_type": "code",
      "source": [
        "plt.figure(figsize=(12,10))\n",
        "cor = df.corr()\n",
        "sns.heatmap(cor, annot=True, cmap=plt.cm.Reds)\n",
        "plt.show()"
      ],
      "metadata": {
        "colab": {
          "base_uri": "https://localhost:8080/",
          "height": 688
        },
        "id": "UgeJjl5-LhVy",
        "outputId": "09d0546a-32c7-4dfa-84a1-ea034d60cb51"
      },
      "execution_count": 18,
      "outputs": [
        {
          "output_type": "display_data",
          "data": {
            "text/plain": [
              "<Figure size 864x720 with 2 Axes>"
            ],
            "image/png": "[encoded data removed]"
          },
          "metadata": {
            "needs_background": "light"
          }
        }
      ]
    },
    {
      "cell_type": "code",
      "source": [
        "a=df['FirstTimeHomebuyer'].value_counts()"
      ],
      "metadata": {
        "id": "WY8WuPXiNhwP"
      },
      "execution_count": 19,
      "outputs": []
    },
    {
      "cell_type": "code",
      "source": [
        "plot_cat(\"FirstTimeHomebuyer\")"
      ],
      "metadata": {
        "colab": {
          "base_uri": "https://localhost:8080/",
          "height": 319
        },
        "id": "L6SfRyHS2J9b",
        "outputId": "90fd47ec-9238-465f-d614-eae49d94c847"
      },
      "execution_count": 20,
      "outputs": [
        {
          "output_type": "display_data",
          "data": {
            "text/plain": [
              "<Figure size 432x288 with 1 Axes>"
            ],
            "image/png": "[encoded data removed]"
          },
          "metadata": {
            "needs_background": "light"
          }
        }
      ]
    },
    {
      "cell_type": "markdown",
      "source": [
        "*First time home buyer*"
      ],
      "metadata": {
        "id": "mg5-dC34GA2Y"
      }
    },
    {
      "cell_type": "code",
      "source": [
        "df['MSA'].value_counts()"
      ],
      "metadata": {
        "colab": {
          "base_uri": "https://localhost:8080/"
        },
        "id": "7O5Q5RQvFWCn",
        "outputId": "c93759f6-9cef-4427-8781-87f905b33b5b"
      },
      "execution_count": 21,
      "outputs": [
        {
          "output_type": "execute_result",
          "data": {
            "text/plain": [
              "X        39100\n",
              "31084     9338\n",
              "16974     8771\n",
              "12060     6985\n",
              "47644     6673\n",
              "         ...  \n",
              "21940        3\n",
              "49500        2\n",
              "25020        1\n",
              "10380        1\n",
              "32420        1\n",
              "Name: MSA, Length: 392, dtype: int64"
            ]
          },
          "metadata": {},
          "execution_count": 21
        }
      ]
    },
    {
      "cell_type": "code",
      "source": [
        "df[\"MSA\"].replace(\"X    \",\"X\",inplace=True)"
      ],
      "metadata": {
        "id": "SsPcZ2EdnR7-"
      },
      "execution_count": 22,
      "outputs": []
    },
    {
      "cell_type": "code",
      "source": [
        "plot_cat(\"MSA\")"
      ],
      "metadata": {
        "colab": {
          "base_uri": "https://localhost:8080/",
          "height": 315
        },
        "id": "aARYco_jwRBI",
        "outputId": "7ca50313-5c0f-45db-d7d0-11f6046ba99e"
      },
      "execution_count": 23,
      "outputs": [
        {
          "output_type": "display_data",
          "data": {
            "text/plain": [
              "<Figure size 432x288 with 1 Axes>"
            ],
            "image/png": "[encoded data removed]"
          },
          "metadata": {
            "needs_background": "light"
          }
        }
      ]
    },
    {
      "cell_type": "markdown",
      "source": [
        "*Ideally we would like to change its dtype to numeric but hold of for now as \"X\" is present in it* "
      ],
      "metadata": {
        "id": "AOTaEKe8rklK"
      }
    },
    {
      "cell_type": "markdown",
      "source": [
        "*Marketing Services Agreements*"
      ],
      "metadata": {
        "id": "rarFTvyG47X5"
      }
    },
    {
      "cell_type": "code",
      "source": [
        "df['MIP'].value_counts()"
      ],
      "metadata": {
        "colab": {
          "base_uri": "https://localhost:8080/"
        },
        "id": "ZAnWUeJ5Gtw4",
        "outputId": "7e96fca3-7f71-4341-f0ce-cab82256e545"
      },
      "execution_count": 24,
      "outputs": [
        {
          "output_type": "execute_result",
          "data": {
            "text/plain": [
              "0     184511\n",
              "25     42441\n",
              "30     41869\n",
              "12     13294\n",
              "18      3005\n",
              "17      2739\n",
              "35      1290\n",
              "36       748\n",
              "29       640\n",
              "20       497\n",
              "14       166\n",
              "27        66\n",
              "22        45\n",
              "6         32\n",
              "33        24\n",
              "32         9\n",
              "28         9\n",
              "15         7\n",
              "50         7\n",
              "47         7\n",
              "26         7\n",
              "24         6\n",
              "16         5\n",
              "1          5\n",
              "13         4\n",
              "52         3\n",
              "10         3\n",
              "37         3\n",
              "55         1\n",
              "21         1\n",
              "23         1\n",
              "19         1\n",
              "45         1\n",
              "7          1\n",
              "9          1\n",
              "11         1\n",
              "4          1\n",
              "Name: MIP, dtype: int64"
            ]
          },
          "metadata": {},
          "execution_count": 24
        }
      ]
    },
    {
      "cell_type": "code",
      "source": [
        "sns.boxplot(x='MIP',data=df)"
      ],
      "metadata": {
        "colab": {
          "base_uri": "https://localhost:8080/",
          "height": 296
        },
        "id": "pm-_FJFF4eYR",
        "outputId": "8d59a327-77ae-48e1-f8a9-37736472584d"
      },
      "execution_count": 25,
      "outputs": [
        {
          "output_type": "execute_result",
          "data": {
            "text/plain": [
              "<matplotlib.axes._subplots.AxesSubplot at 0x7ff5bec011f0>"
            ]
          },
          "metadata": {},
          "execution_count": 25
        },
        {
          "output_type": "display_data",
          "data": {
            "text/plain": [
              "<Figure size 432x288 with 1 Axes>"
            ],
            "image/png": "[encoded data removed]"
          },
          "metadata": {
            "needs_background": "light"
          }
        }
      ]
    },
    {
      "cell_type": "markdown",
      "source": [
        "*Mortgage insurance premium*"
      ],
      "metadata": {
        "id": "D0znAqMB4hM5"
      }
    },
    {
      "cell_type": "code",
      "source": [
        "df['Units'].value_counts()"
      ],
      "metadata": {
        "colab": {
          "base_uri": "https://localhost:8080/"
        },
        "id": "B-jTNYTMHtXY",
        "outputId": "f7ccdf12-b6eb-4fd4-f185-18810f1cd9d2"
      },
      "execution_count": 26,
      "outputs": [
        {
          "output_type": "execute_result",
          "data": {
            "text/plain": [
              "1    285598\n",
              "2      4690\n",
              "3       587\n",
              "4       574\n",
              "0         2\n",
              "Name: Units, dtype: int64"
            ]
          },
          "metadata": {},
          "execution_count": 26
        }
      ]
    },
    {
      "cell_type": "code",
      "source": [
        "df[\"Units\"].replace(0,1,inplace=True)"
      ],
      "metadata": {
        "id": "fOYsZQBzvFGu"
      },
      "execution_count": 27,
      "outputs": []
    },
    {
      "cell_type": "code",
      "source": [
        "sns.boxplot(x='Units',data=df)"
      ],
      "metadata": {
        "colab": {
          "base_uri": "https://localhost:8080/",
          "height": 296
        },
        "id": "KES5HXM4J8x2",
        "outputId": "681fee10-f33d-4b29-9d63-3fd6511255c2"
      },
      "execution_count": 28,
      "outputs": [
        {
          "output_type": "execute_result",
          "data": {
            "text/plain": [
              "<matplotlib.axes._subplots.AxesSubplot at 0x7ff5beb93250>"
            ]
          },
          "metadata": {},
          "execution_count": 28
        },
        {
          "output_type": "display_data",
          "data": {
            "text/plain": [
              "<Figure size 432x288 with 1 Axes>"
            ],
            "image/png": "[encoded data removed]"
          },
          "metadata": {
            "needs_background": "light"
          }
        }
      ]
    },
    {
      "cell_type": "markdown",
      "source": [
        "*Units*"
      ],
      "metadata": {
        "id": "g2WHgX_g4V_y"
      }
    },
    {
      "cell_type": "code",
      "source": [
        "df['Occupancy'].value_counts()"
      ],
      "metadata": {
        "colab": {
          "base_uri": "https://localhost:8080/"
        },
        "id": "VIRYwhgeIICw",
        "outputId": "85e98cf1-e715-4dde-81fd-271673b8d1d2"
      },
      "execution_count": 29,
      "outputs": [
        {
          "output_type": "execute_result",
          "data": {
            "text/plain": [
              "O    276131\n",
              "I      8734\n",
              "S      6586\n",
              "Name: Occupancy, dtype: int64"
            ]
          },
          "metadata": {},
          "execution_count": 29
        }
      ]
    },
    {
      "cell_type": "code",
      "source": [
        "plot_cat(\"Occupancy\")"
      ],
      "metadata": {
        "colab": {
          "base_uri": "https://localhost:8080/",
          "height": 319
        },
        "id": "NNNw1ay41W8P",
        "outputId": "019a867d-5ac0-42d2-8e45-c3d9899b5622"
      },
      "execution_count": 30,
      "outputs": [
        {
          "output_type": "display_data",
          "data": {
            "text/plain": [
              "<Figure size 432x288 with 1 Axes>"
            ],
            "image/png": "[encoded data removed]"
          },
          "metadata": {
            "needs_background": "light"
          }
        }
      ]
    },
    {
      "cell_type": "markdown",
      "source": [
        "*Occupancy*"
      ],
      "metadata": {
        "id": "OW_4o1-u4Tpm"
      }
    },
    {
      "cell_type": "code",
      "source": [
        "df['OrigInterestRate'].value_counts()"
      ],
      "metadata": {
        "colab": {
          "base_uri": "https://localhost:8080/"
        },
        "id": "FU3R3n5PIO2b",
        "outputId": "44c878ab-e6b9-48c7-c61d-25e1e4adce0a"
      },
      "execution_count": 31,
      "outputs": [
        {
          "output_type": "execute_result",
          "data": {
            "text/plain": [
              "6.875     69884\n",
              "6.750     46762\n",
              "7.000     44927\n",
              "7.125     23664\n",
              "6.625     23568\n",
              "          ...  \n",
              "6.883         1\n",
              "6.100         1\n",
              "8.070         1\n",
              "11.125        1\n",
              "5.800         1\n",
              "Name: OrigInterestRate, Length: 254, dtype: int64"
            ]
          },
          "metadata": {},
          "execution_count": 31
        }
      ]
    },
    {
      "cell_type": "code",
      "source": [
        "sns.boxplot(x='OrigInterestRate',data=df)"
      ],
      "metadata": {
        "colab": {
          "base_uri": "https://localhost:8080/",
          "height": 296
        },
        "id": "rYAhgham1386",
        "outputId": "c1c3c13c-32ca-42fb-d58d-0599dabe3fac"
      },
      "execution_count": 32,
      "outputs": [
        {
          "output_type": "execute_result",
          "data": {
            "text/plain": [
              "<matplotlib.axes._subplots.AxesSubplot at 0x7ff5ba4cf340>"
            ]
          },
          "metadata": {},
          "execution_count": 32
        },
        {
          "output_type": "display_data",
          "data": {
            "text/plain": [
              "<Figure size 432x288 with 1 Axes>"
            ],
            "image/png": "[encoded data removed]"
          },
          "metadata": {
            "needs_background": "light"
          }
        }
      ]
    },
    {
      "cell_type": "markdown",
      "source": [
        "*Original Interest Rate*"
      ],
      "metadata": {
        "id": "5VQVUMYH4PQS"
      }
    },
    {
      "cell_type": "code",
      "source": [
        "df[\"OCLTV\"].value_counts()"
      ],
      "metadata": {
        "colab": {
          "base_uri": "https://localhost:8080/"
        },
        "id": "Cx733-h82c7P",
        "outputId": "4d859a49-a5af-4426-89b1-c3a1748cfa07"
      },
      "execution_count": 33,
      "outputs": [
        {
          "output_type": "execute_result",
          "data": {
            "text/plain": [
              "80     54126\n",
              "95     37243\n",
              "90     29646\n",
              "75     17907\n",
              "79      7317\n",
              "       ...  \n",
              "98         8\n",
              "101        5\n",
              "0          5\n",
              "104        4\n",
              "110        3\n",
              "Name: OCLTV, Length: 102, dtype: int64"
            ]
          },
          "metadata": {},
          "execution_count": 33
        }
      ]
    },
    {
      "cell_type": "code",
      "source": [
        "sns.boxplot(x='OCLTV',data=df)"
      ],
      "metadata": {
        "colab": {
          "base_uri": "https://localhost:8080/",
          "height": 296
        },
        "id": "i4GVJBcCJaZT",
        "outputId": "0cab035b-186f-49ee-cb40-fad74cd74b6d"
      },
      "execution_count": 34,
      "outputs": [
        {
          "output_type": "execute_result",
          "data": {
            "text/plain": [
              "<matplotlib.axes._subplots.AxesSubplot at 0x7ff5bf49dfa0>"
            ]
          },
          "metadata": {},
          "execution_count": 34
        },
        {
          "output_type": "display_data",
          "data": {
            "text/plain": [
              "<Figure size 432x288 with 1 Axes>"
            ],
            "image/png": "[encoded data removed]"
          },
          "metadata": {
            "needs_background": "light"
          }
        }
      ]
    },
    {
      "cell_type": "markdown",
      "source": [
        "*100-110 is an anomaly*"
      ],
      "metadata": {
        "id": "4lAuBs4n0FvJ"
      }
    },
    {
      "cell_type": "code",
      "source": [
        "ocltv_anom=df[df[\"OCLTV\"]>100]"
      ],
      "metadata": {
        "id": "cDgns_Gf0AFp"
      },
      "execution_count": 35,
      "outputs": []
    },
    {
      "cell_type": "markdown",
      "source": [
        "*Original Combined loan to value*"
      ],
      "metadata": {
        "id": "lS6CWhUT33Xj"
      }
    },
    {
      "cell_type": "code",
      "source": [
        "df['DTI'].value_counts()"
      ],
      "metadata": {
        "colab": {
          "base_uri": "https://localhost:8080/"
        },
        "id": "J7cIvoq306kf",
        "outputId": "e4d3aa7c-5c7c-4ff7-9e4b-9e641a096e9b"
      },
      "execution_count": 36,
      "outputs": [
        {
          "output_type": "execute_result",
          "data": {
            "text/plain": [
              "0     17796\n",
              "28    12818\n",
              "36     9493\n",
              "33     9378\n",
              "35     9297\n",
              "      ...  \n",
              "63      272\n",
              "65      207\n",
              "3       180\n",
              "2       109\n",
              "1        64\n",
              "Name: DTI, Length: 66, dtype: int64"
            ]
          },
          "metadata": {},
          "execution_count": 36
        }
      ]
    },
    {
      "cell_type": "code",
      "source": [
        "sns.boxplot(x='DTI',data=df)"
      ],
      "metadata": {
        "colab": {
          "base_uri": "https://localhost:8080/",
          "height": 296
        },
        "id": "XIfzCgBC1rTC",
        "outputId": "be4192bf-2f58-434f-b3c5-94844c15d9e7"
      },
      "execution_count": 37,
      "outputs": [
        {
          "output_type": "execute_result",
          "data": {
            "text/plain": [
              "<matplotlib.axes._subplots.AxesSubplot at 0x7ff5bf675490>"
            ]
          },
          "metadata": {},
          "execution_count": 37
        },
        {
          "output_type": "display_data",
          "data": {
            "text/plain": [
              "<Figure size 432x288 with 1 Axes>"
            ],
            "image/png": "[encoded data removed]"
          },
          "metadata": {
            "needs_background": "light"
          }
        }
      ]
    },
    {
      "cell_type": "markdown",
      "source": [
        "*Debt to Income Ratio*"
      ],
      "metadata": {
        "id": "9KASjeOR3xVi"
      }
    },
    {
      "cell_type": "code",
      "source": [
        "df[\"OrigUPB\"].value_counts()"
      ],
      "metadata": {
        "colab": {
          "base_uri": "https://localhost:8080/"
        },
        "id": "KTKCdAFf2osA",
        "outputId": "dc838f3c-dea5-40b9-93ee-7ad4e9552603"
      },
      "execution_count": 38,
      "outputs": [
        {
          "output_type": "execute_result",
          "data": {
            "text/plain": [
              "240000    7035\n",
              "100000    5474\n",
              "80000     3707\n",
              "90000     3555\n",
              "120000    3549\n",
              "          ... \n",
              "9000         1\n",
              "353000       1\n",
              "497000       1\n",
              "442000       1\n",
              "420000       1\n",
              "Name: OrigUPB, Length: 375, dtype: int64"
            ]
          },
          "metadata": {},
          "execution_count": 38
        }
      ]
    },
    {
      "cell_type": "code",
      "source": [
        "sns.boxplot(x='OrigUPB',data=df)"
      ],
      "metadata": {
        "colab": {
          "base_uri": "https://localhost:8080/",
          "height": 296
        },
        "id": "26Xe3lba3JRu",
        "outputId": "6d088b0c-a895-4da1-d477-ec7fa6ad765a"
      },
      "execution_count": 39,
      "outputs": [
        {
          "output_type": "execute_result",
          "data": {
            "text/plain": [
              "<matplotlib.axes._subplots.AxesSubplot at 0x7ff5bf471a00>"
            ]
          },
          "metadata": {},
          "execution_count": 39
        },
        {
          "output_type": "display_data",
          "data": {
            "text/plain": [
              "<Figure size 432x288 with 1 Axes>"
            ],
            "image/png": "[encoded data removed]"
          },
          "metadata": {
            "needs_background": "light"
          }
        }
      ]
    },
    {
      "cell_type": "markdown",
      "source": [
        "*Original Unpaid Balence*"
      ],
      "metadata": {
        "id": "mBuZVQwr3pVQ"
      }
    },
    {
      "cell_type": "code",
      "source": [
        "df[\"LTV\"].value_counts()"
      ],
      "metadata": {
        "colab": {
          "base_uri": "https://localhost:8080/"
        },
        "id": "nd_CSjtb3PBf",
        "outputId": "6daa08d8-fee8-4e83-fb75-06b9a0266560"
      },
      "execution_count": 40,
      "outputs": [
        {
          "output_type": "execute_result",
          "data": {
            "text/plain": [
              "80     54503\n",
              "95     37209\n",
              "90     29343\n",
              "75     17918\n",
              "79      7329\n",
              "       ...  \n",
              "6          9\n",
              "98         6\n",
              "0          5\n",
              "103        1\n",
              "99         1\n",
              "Name: LTV, Length: 97, dtype: int64"
            ]
          },
          "metadata": {},
          "execution_count": 40
        }
      ]
    },
    {
      "cell_type": "code",
      "source": [
        "sns.boxplot(x='LTV',data=df)"
      ],
      "metadata": {
        "colab": {
          "base_uri": "https://localhost:8080/",
          "height": 296
        },
        "id": "g8Uft0Zf5S1Z",
        "outputId": "96a7322e-96d5-4f60-bf93-70929311bebd"
      },
      "execution_count": 41,
      "outputs": [
        {
          "output_type": "execute_result",
          "data": {
            "text/plain": [
              "<matplotlib.axes._subplots.AxesSubplot at 0x7ff5bef5e910>"
            ]
          },
          "metadata": {},
          "execution_count": 41
        },
        {
          "output_type": "display_data",
          "data": {
            "text/plain": [
              "<Figure size 432x288 with 1 Axes>"
            ],
            "image/png": "[encoded data removed]"
          },
          "metadata": {
            "needs_background": "light"
          }
        }
      ]
    },
    {
      "cell_type": "markdown",
      "source": [
        "*It can be above 100 but is an anomaly*"
      ],
      "metadata": {
        "id": "THMPoyLK5fE6"
      }
    },
    {
      "cell_type": "code",
      "source": [
        "ltv_anom=df[df[\"LTV\"]>100]"
      ],
      "metadata": {
        "id": "cZn9N-9A5VXV"
      },
      "execution_count": 42,
      "outputs": []
    },
    {
      "cell_type": "markdown",
      "source": [
        "*Loan to Value*"
      ],
      "metadata": {
        "id": "ZSJeqGKO5paX"
      }
    },
    {
      "cell_type": "code",
      "source": [
        "df[\"OrigInterestRate\"].value_counts()"
      ],
      "metadata": {
        "colab": {
          "base_uri": "https://localhost:8080/"
        },
        "id": "fZiB07rW5lxL",
        "outputId": "adb98db4-6ddd-439b-a4de-716ee478173c"
      },
      "execution_count": 43,
      "outputs": [
        {
          "output_type": "execute_result",
          "data": {
            "text/plain": [
              "6.875     69884\n",
              "6.750     46762\n",
              "7.000     44927\n",
              "7.125     23664\n",
              "6.625     23568\n",
              "          ...  \n",
              "6.883         1\n",
              "6.100         1\n",
              "8.070         1\n",
              "11.125        1\n",
              "5.800         1\n",
              "Name: OrigInterestRate, Length: 254, dtype: int64"
            ]
          },
          "metadata": {},
          "execution_count": 43
        }
      ]
    },
    {
      "cell_type": "code",
      "source": [
        "sns.boxplot(x='OrigInterestRate',data=df)"
      ],
      "metadata": {
        "colab": {
          "base_uri": "https://localhost:8080/",
          "height": 296
        },
        "id": "Eul4Am3Z6TP3",
        "outputId": "c5ced62d-3730-454f-cfd8-55e4b983a394"
      },
      "execution_count": 44,
      "outputs": [
        {
          "output_type": "execute_result",
          "data": {
            "text/plain": [
              "<matplotlib.axes._subplots.AxesSubplot at 0x7ff5beafa130>"
            ]
          },
          "metadata": {},
          "execution_count": 44
        },
        {
          "output_type": "display_data",
          "data": {
            "text/plain": [
              "<Figure size 432x288 with 1 Axes>"
            ],
            "image/png": "[encoded data removed]"
          },
          "metadata": {
            "needs_background": "light"
          }
        }
      ]
    },
    {
      "cell_type": "markdown",
      "source": [
        "*Original Interest Rate*"
      ],
      "metadata": {
        "id": "nwJS8bkj6duR"
      }
    },
    {
      "cell_type": "code",
      "source": [
        "df[\"Channel\"].value_counts()"
      ],
      "metadata": {
        "colab": {
          "base_uri": "https://localhost:8080/"
        },
        "id": "Ib6lMI9S6bzh",
        "outputId": "a99fb4cf-92ba-4d99-ee50-9326c85d616d"
      },
      "execution_count": 45,
      "outputs": [
        {
          "output_type": "execute_result",
          "data": {
            "text/plain": [
              "T    167670\n",
              "R    123219\n",
              "C       407\n",
              "B       155\n",
              "Name: Channel, dtype: int64"
            ]
          },
          "metadata": {},
          "execution_count": 45
        }
      ]
    },
    {
      "cell_type": "code",
      "source": [
        "plot_cat(\"Channel\")"
      ],
      "metadata": {
        "colab": {
          "base_uri": "https://localhost:8080/",
          "height": 319
        },
        "id": "l_Lutv5k6zuX",
        "outputId": "4469eecb-8922-45cf-ad4d-5bd34027219e"
      },
      "execution_count": 46,
      "outputs": [
        {
          "output_type": "display_data",
          "data": {
            "text/plain": [
              "<Figure size 432x288 with 1 Axes>"
            ],
            "image/png": "[encoded data removed]"
          },
          "metadata": {
            "needs_background": "light"
          }
        }
      ]
    },
    {
      "cell_type": "markdown",
      "source": [
        "*Channels*"
      ],
      "metadata": {
        "id": "2p3zywm57Ne9"
      }
    },
    {
      "cell_type": "code",
      "source": [
        "df[\"PPM\"].value_counts()"
      ],
      "metadata": {
        "colab": {
          "base_uri": "https://localhost:8080/"
        },
        "id": "zyU_Yd8o63c_",
        "outputId": "3faef894-a6b8-47f5-945f-17da09c8daa8"
      },
      "execution_count": 47,
      "outputs": [
        {
          "output_type": "execute_result",
          "data": {
            "text/plain": [
              "N    282125\n",
              "X      5405\n",
              "Y      3921\n",
              "Name: PPM, dtype: int64"
            ]
          },
          "metadata": {},
          "execution_count": 47
        }
      ]
    },
    {
      "cell_type": "code",
      "source": [
        "plot_cat(\"PPM\")"
      ],
      "metadata": {
        "colab": {
          "base_uri": "https://localhost:8080/",
          "height": 319
        },
        "id": "nEpZ8dyy7UHP",
        "outputId": "14814bfd-3458-4d52-a601-ed5b0dceb40e"
      },
      "execution_count": 48,
      "outputs": [
        {
          "output_type": "display_data",
          "data": {
            "text/plain": [
              "<Figure size 432x288 with 1 Axes>"
            ],
            "image/png": "[encoded data removed]"
          },
          "metadata": {
            "needs_background": "light"
          }
        }
      ]
    },
    {
      "cell_type": "markdown",
      "source": [
        "*Prepayment Penalty Mortgage*"
      ],
      "metadata": {
        "id": "N1wTTxs_7l-t"
      }
    },
    {
      "cell_type": "code",
      "source": [
        "df[\"ProductType\"].value_counts()"
      ],
      "metadata": {
        "colab": {
          "base_uri": "https://localhost:8080/"
        },
        "id": "SebFBNUb7Wjg",
        "outputId": "d152edd4-e21d-4173-90be-5244fdc556e6"
      },
      "execution_count": 49,
      "outputs": [
        {
          "output_type": "execute_result",
          "data": {
            "text/plain": [
              "FRM      291451\n",
              "Name: ProductType, dtype: int64"
            ]
          },
          "metadata": {},
          "execution_count": 49
        }
      ]
    },
    {
      "cell_type": "markdown",
      "source": [
        "*Only one type, dont need it*"
      ],
      "metadata": {
        "id": "CogUadHI87gS"
      }
    },
    {
      "cell_type": "markdown",
      "source": [
        "*Product Type*"
      ],
      "metadata": {
        "id": "W1TwBey58_Q4"
      }
    },
    {
      "cell_type": "code",
      "source": [
        "df[\"PropertyState\"].value_counts()"
      ],
      "metadata": {
        "colab": {
          "base_uri": "https://localhost:8080/"
        },
        "id": "g0hmRxxE83vr",
        "outputId": "317c344b-ceae-4d0f-e1d5-f6de52d60322"
      },
      "execution_count": 50,
      "outputs": [
        {
          "output_type": "execute_result",
          "data": {
            "text/plain": [
              "CA    43327\n",
              "FL    19133\n",
              "MI    16285\n",
              "IL    13621\n",
              "TX    13092\n",
              "OH    11545\n",
              "CO    10127\n",
              "GA    10024\n",
              "NC     9983\n",
              "WA     9927\n",
              "AZ     9248\n",
              "VA     8096\n",
              "NY     7913\n",
              "PA     7738\n",
              "NJ     7457\n",
              "OR     6658\n",
              "MA     6392\n",
              "IN     6228\n",
              "MD     5515\n",
              "MO     5400\n",
              "MN     5092\n",
              "UT     4996\n",
              "WI     4660\n",
              "TN     4556\n",
              "SC     4473\n",
              "AL     4128\n",
              "KY     3896\n",
              "NV     3564\n",
              "CT     3253\n",
              "KS     2321\n",
              "ID     2296\n",
              "LA     2092\n",
              "NM     2053\n",
              "IA     1860\n",
              "OK     1803\n",
              "NE     1532\n",
              "NH     1320\n",
              "VT      945\n",
              "AR      938\n",
              "MS      935\n",
              "MT      872\n",
              "DE      838\n",
              "ME      755\n",
              "RI      722\n",
              "PR      693\n",
              "HI      609\n",
              "WV      542\n",
              "WY      496\n",
              "DC      492\n",
              "SD      376\n",
              "ND      315\n",
              "AK      245\n",
              "GU       74\n",
              "Name: PropertyState, dtype: int64"
            ]
          },
          "metadata": {},
          "execution_count": 50
        }
      ]
    },
    {
      "cell_type": "code",
      "source": [
        "plot_cat(\"PropertyState\")"
      ],
      "metadata": {
        "colab": {
          "base_uri": "https://localhost:8080/",
          "height": 315
        },
        "id": "R-uWhdYB9Gs0",
        "outputId": "f7119824-ef7a-419a-bfe0-5f14b9dcd3df"
      },
      "execution_count": 51,
      "outputs": [
        {
          "output_type": "display_data",
          "data": {
            "text/plain": [
              "<Figure size 432x288 with 1 Axes>"
            ],
            "image/png": "[encoded data removed]"
          },
          "metadata": {
            "needs_background": "light"
          }
        }
      ]
    },
    {
      "cell_type": "markdown",
      "source": [
        "*Property State*"
      ],
      "metadata": {
        "id": "Kal3BECd9Pd8"
      }
    },
    {
      "cell_type": "code",
      "source": [
        "df[\"PropertyType\"].value_counts()"
      ],
      "metadata": {
        "colab": {
          "base_uri": "https://localhost:8080/"
        },
        "id": "d6up3qFq9Mb6",
        "outputId": "4dff1336-3866-446e-d79f-c657e582dbf2"
      },
      "execution_count": 52,
      "outputs": [
        {
          "output_type": "execute_result",
          "data": {
            "text/plain": [
              "SF    244923\n",
              "PU     27506\n",
              "CO     18100\n",
              "MH       723\n",
              "LH       105\n",
              "CP        72\n",
              "X         22\n",
              "Name: PropertyType, dtype: int64"
            ]
          },
          "metadata": {},
          "execution_count": 52
        }
      ]
    },
    {
      "cell_type": "code",
      "source": [
        "plot_cat(\"PropertyType\")"
      ],
      "metadata": {
        "colab": {
          "base_uri": "https://localhost:8080/",
          "height": 319
        },
        "id": "LnwhNjNx9YF1",
        "outputId": "d7036089-2389-449b-eff3-044d0b1b1211"
      },
      "execution_count": 53,
      "outputs": [
        {
          "output_type": "display_data",
          "data": {
            "text/plain": [
              "<Figure size 432x288 with 1 Axes>"
            ],
            "image/png": "[encoded data removed]"
          },
          "metadata": {
            "needs_background": "light"
          }
        }
      ]
    },
    {
      "cell_type": "markdown",
      "source": [
        "*Property Type*"
      ],
      "metadata": {
        "id": "rAMv0bNO9dPv"
      }
    },
    {
      "cell_type": "code",
      "source": [
        "df[\"PostalCode\"].value_counts()"
      ],
      "metadata": {
        "colab": {
          "base_uri": "https://localhost:8080/"
        },
        "id": "V5GBc1FU9bkw",
        "outputId": "d2dc6543-7bd4-44b2-9865-43afa4e6378d"
      },
      "execution_count": 54,
      "outputs": [
        {
          "output_type": "execute_result",
          "data": {
            "text/plain": [
              "94500    2582\n",
              "30000    2374\n",
              "48100    2166\n",
              "85200    2155\n",
              "48000    1976\n",
              "         ... \n",
              "79500       1\n",
              "26600       1\n",
              "41400       1\n",
              "36900       1\n",
              "41300       1\n",
              "Name: PostalCode, Length: 1767, dtype: int64"
            ]
          },
          "metadata": {},
          "execution_count": 54
        }
      ]
    },
    {
      "cell_type": "code",
      "source": [
        "plot_cat(\"PostalCode\")"
      ],
      "metadata": {
        "colab": {
          "base_uri": "https://localhost:8080/",
          "height": 310
        },
        "id": "GPbsQ2759kUs",
        "outputId": "61773dc4-87fa-400c-9dc2-f476addd6001"
      },
      "execution_count": 55,
      "outputs": [
        {
          "output_type": "display_data",
          "data": {
            "text/plain": [
              "<Figure size 432x288 with 1 Axes>"
            ],
            "image/png": "[encoded data removed]"
          },
          "metadata": {
            "needs_background": "light"
          }
        }
      ]
    },
    {
      "cell_type": "markdown",
      "source": [
        "*Postal Code*"
      ],
      "metadata": {
        "id": "aAV8OzTT9pDz"
      }
    },
    {
      "cell_type": "code",
      "source": [
        "df[\"LoanSeqNum\"].value_counts()"
      ],
      "metadata": {
        "colab": {
          "base_uri": "https://localhost:8080/"
        },
        "id": "VAYO9xd09zho",
        "outputId": "945b805e-4c4c-46d4-b45a-87db4839d02e"
      },
      "execution_count": 56,
      "outputs": [
        {
          "output_type": "execute_result",
          "data": {
            "text/plain": [
              "F199Q1268030    1\n",
              "F199Q1262485    1\n",
              "F199Q1138623    1\n",
              "F199Q1220622    1\n",
              "F199Q1155120    1\n",
              "               ..\n",
              "F199Q1021744    1\n",
              "F199Q1098563    1\n",
              "F199Q1049090    1\n",
              "F199Q1170229    1\n",
              "F199Q1220923    1\n",
              "Name: LoanSeqNum, Length: 291451, dtype: int64"
            ]
          },
          "metadata": {},
          "execution_count": 56
        }
      ]
    },
    {
      "cell_type": "markdown",
      "source": [
        "*Dont need to visualize it*\n",
        "\n",
        "*Loan Seqence Number*"
      ],
      "metadata": {
        "id": "LyTMJWae95KL"
      }
    },
    {
      "cell_type": "code",
      "source": [
        "df[\"LoanPurpose\"].value_counts()"
      ],
      "metadata": {
        "colab": {
          "base_uri": "https://localhost:8080/"
        },
        "id": "J2tsydy293Nc",
        "outputId": "c869ebfb-2588-4091-f66f-1c5e02776bff"
      },
      "execution_count": 57,
      "outputs": [
        {
          "output_type": "execute_result",
          "data": {
            "text/plain": [
              "P    123404\n",
              "N    110036\n",
              "C     58011\n",
              "Name: LoanPurpose, dtype: int64"
            ]
          },
          "metadata": {},
          "execution_count": 57
        }
      ]
    },
    {
      "cell_type": "code",
      "source": [
        "plot_cat(\"LoanPurpose\")"
      ],
      "metadata": {
        "colab": {
          "base_uri": "https://localhost:8080/",
          "height": 319
        },
        "id": "QUYLDdoZ-B5s",
        "outputId": "8d22b094-59c1-4432-f65a-f9b4fe881f32"
      },
      "execution_count": 58,
      "outputs": [
        {
          "output_type": "display_data",
          "data": {
            "text/plain": [
              "<Figure size 432x288 with 1 Axes>"
            ],
            "image/png": "[encoded data removed]"
          },
          "metadata": {
            "needs_background": "light"
          }
        }
      ]
    },
    {
      "cell_type": "markdown",
      "source": [
        "*Loan Purpose*"
      ],
      "metadata": {
        "id": "6wcXc_T7-Hb7"
      }
    },
    {
      "cell_type": "code",
      "source": [
        "df[\"OrigLoanTerm\"].value_counts()"
      ],
      "metadata": {
        "colab": {
          "base_uri": "https://localhost:8080/"
        },
        "id": "E1XSpmI3-FtS",
        "outputId": "acef81c6-7867-4485-8942-2fea6c670f35"
      },
      "execution_count": 59,
      "outputs": [
        {
          "output_type": "execute_result",
          "data": {
            "text/plain": [
              "360    289073\n",
              "354       434\n",
              "336       205\n",
              "359       103\n",
              "348        94\n",
              "        ...  \n",
              "301         6\n",
              "302         5\n",
              "304         4\n",
              "303         4\n",
              "361         2\n",
              "Name: OrigLoanTerm, Length: 61, dtype: int64"
            ]
          },
          "metadata": {},
          "execution_count": 59
        }
      ]
    },
    {
      "cell_type": "code",
      "source": [
        "df[\"OrigLoanTerm\"].describe()"
      ],
      "metadata": {
        "colab": {
          "base_uri": "https://localhost:8080/"
        },
        "id": "-J8zTIz_-jPw",
        "outputId": "fffd57d1-349b-42b7-a306-9864a73d9b5c"
      },
      "execution_count": 60,
      "outputs": [
        {
          "output_type": "execute_result",
          "data": {
            "text/plain": [
              "count    291451.000000\n",
              "mean        359.835375\n",
              "std           2.286939\n",
              "min         301.000000\n",
              "25%         360.000000\n",
              "50%         360.000000\n",
              "75%         360.000000\n",
              "max         361.000000\n",
              "Name: OrigLoanTerm, dtype: float64"
            ]
          },
          "metadata": {},
          "execution_count": 60
        }
      ]
    },
    {
      "cell_type": "code",
      "source": [
        "sns.boxplot(x='OrigLoanTerm',data=df)"
      ],
      "metadata": {
        "colab": {
          "base_uri": "https://localhost:8080/",
          "height": 296
        },
        "id": "xAiotdea-SqI",
        "outputId": "d1f77d38-1285-488d-e80a-7b020324a0d8"
      },
      "execution_count": 61,
      "outputs": [
        {
          "output_type": "execute_result",
          "data": {
            "text/plain": [
              "<matplotlib.axes._subplots.AxesSubplot at 0x7ff5bf0f6a90>"
            ]
          },
          "metadata": {},
          "execution_count": 61
        },
        {
          "output_type": "display_data",
          "data": {
            "text/plain": [
              "<Figure size 432x288 with 1 Axes>"
            ],
            "image/png": "[encoded data removed]"
          },
          "metadata": {
            "needs_background": "light"
          }
        }
      ]
    },
    {
      "cell_type": "markdown",
      "source": [
        "*Original Loan Term*"
      ],
      "metadata": {
        "id": "FnLx-b67-sik"
      }
    },
    {
      "cell_type": "code",
      "source": [
        "df[\"NumBorrowers\"].value_counts()"
      ],
      "metadata": {
        "colab": {
          "base_uri": "https://localhost:8080/"
        },
        "id": "1PbejZXA-YVX",
        "outputId": "092af09a-096d-44c8-d921-187a23d884c4"
      },
      "execution_count": 62,
      "outputs": [
        {
          "output_type": "execute_result",
          "data": {
            "text/plain": [
              "2     187335\n",
              "1     103777\n",
              "X        339\n",
              "Name: NumBorrowers, dtype: int64"
            ]
          },
          "metadata": {},
          "execution_count": 62
        }
      ]
    },
    {
      "cell_type": "markdown",
      "source": [
        "*Need to do more*"
      ],
      "metadata": {
        "id": "1IbWX1UU_GOq"
      }
    },
    {
      "cell_type": "markdown",
      "source": [
        "*Number Of Borrowers*"
      ],
      "metadata": {
        "id": "M5NX3dRS_JtS"
      }
    },
    {
      "cell_type": "code",
      "source": [
        "df[\"SellerName\"].value_counts()"
      ],
      "metadata": {
        "colab": {
          "base_uri": "https://localhost:8080/"
        },
        "id": "x823n9w5-0A-",
        "outputId": "eb730cd3-1fbe-44b9-d780-d8f769d01a0f"
      },
      "execution_count": 63,
      "outputs": [
        {
          "output_type": "execute_result",
          "data": {
            "text/plain": [
              "Ot    76943\n",
              "CO    34479\n",
              "FL    25573\n",
              "FI    24581\n",
              "ST    22243\n",
              "NO    16184\n",
              "OL     7776\n",
              "PR     7365\n",
              "BA     7093\n",
              "GM     6566\n",
              "BI     6407\n",
              "G      4734\n",
              "CH     4599\n",
              "CR     4459\n",
              "FT     4105\n",
              "WA     3139\n",
              "AC     3076\n",
              "HO     2970\n",
              "PN     2407\n",
              "RE     1758\n",
              "Name: SellerName, dtype: int64"
            ]
          },
          "metadata": {},
          "execution_count": 63
        }
      ]
    },
    {
      "cell_type": "code",
      "source": [
        "plot_cat(\"SellerName\")"
      ],
      "metadata": {
        "colab": {
          "base_uri": "https://localhost:8080/",
          "height": 315
        },
        "id": "QElm9699_P2p",
        "outputId": "bb3fc9b8-02db-4104-de3d-96039ee50df5"
      },
      "execution_count": 64,
      "outputs": [
        {
          "output_type": "display_data",
          "data": {
            "text/plain": [
              "<Figure size 432x288 with 1 Axes>"
            ],
            "image/png": "[encoded data removed]"
          },
          "metadata": {
            "needs_background": "light"
          }
        }
      ]
    },
    {
      "cell_type": "markdown",
      "source": [
        "*Seller Name*"
      ],
      "metadata": {
        "id": "hoW_1Dk7_V_g"
      }
    },
    {
      "cell_type": "code",
      "source": [
        "df[\"ServicerName\"].value_counts()"
      ],
      "metadata": {
        "colab": {
          "base_uri": "https://localhost:8080/"
        },
        "id": "r707R-vD_U00",
        "outputId": "b7d545fd-9dbe-47e7-a560-ef49cdaecd46"
      },
      "execution_count": 65,
      "outputs": [
        {
          "output_type": "execute_result",
          "data": {
            "text/plain": [
              "Other servicers         64043\n",
              "COUNTRYWIDE             31142\n",
              "BANKOFAMERICANA         29481\n",
              "WASHINGTONMUTUALBANK    22626\n",
              "CHASEMANHATTANMTGECO    14791\n",
              "ABNAMROMTGEGROUPINC     14369\n",
              "WELLSFARGOHOMEMORTGA    13960\n",
              "GMACMTGECORP            11560\n",
              "BAMORTGAGELLC           11559\n",
              "CHASEMTGECO             10109\n",
              "NATLCITYMTGECO           9940\n",
              "WELLSFARGOBANKNA         9460\n",
              "JPMORGANCHASEBANKNA      7723\n",
              "FTMTGESERVICESINC        7126\n",
              "SUNTRUSTMORTGAGEINC      6680\n",
              "CITIMORTGAGEINC          6529\n",
              "PRINCIPALRESIDENTIAL     6335\n",
              "CHASEHOMEFINANCELLC      5399\n",
              "HOMESIDELENDINGINC       4508\n",
              "FIFTHTHIRDBANK           4111\n",
              "Name: ServicerName, dtype: int64"
            ]
          },
          "metadata": {},
          "execution_count": 65
        }
      ]
    },
    {
      "cell_type": "code",
      "source": [
        "plot_cat(\"ServicerName\")"
      ],
      "metadata": {
        "colab": {
          "base_uri": "https://localhost:8080/",
          "height": 315
        },
        "id": "odgkaK9A_cAi",
        "outputId": "bac10b36-536d-4972-c00d-b3378c47e44a"
      },
      "execution_count": 66,
      "outputs": [
        {
          "output_type": "display_data",
          "data": {
            "text/plain": [
              "<Figure size 432x288 with 1 Axes>"
            ],
            "image/png": "[encoded data removed]"
          },
          "metadata": {
            "needs_background": "light"
          }
        }
      ]
    },
    {
      "cell_type": "markdown",
      "source": [
        "*Servicer Name*"
      ],
      "metadata": {
        "id": "as9KdMHz_iXx"
      }
    },
    {
      "cell_type": "code",
      "source": [
        "df[\"EverDelinquent\"].value_counts()"
      ],
      "metadata": {
        "colab": {
          "base_uri": "https://localhost:8080/"
        },
        "id": "IOAE1jqO_gIC",
        "outputId": "0771ce31-2130-45f4-ba93-4d523d3a9e31"
      },
      "execution_count": 67,
      "outputs": [
        {
          "output_type": "execute_result",
          "data": {
            "text/plain": [
              "0    233788\n",
              "1     57663\n",
              "Name: EverDelinquent, dtype: int64"
            ]
          },
          "metadata": {},
          "execution_count": 67
        }
      ]
    },
    {
      "cell_type": "markdown",
      "source": [
        "*If you failed to make a payment or not*\n",
        "\n",
        "*Ever Delinquent*"
      ],
      "metadata": {
        "id": "qZ3rtlHr_p6X"
      }
    },
    {
      "cell_type": "code",
      "source": [
        "df[\"MonthsDelinquent\"].value_counts()"
      ],
      "metadata": {
        "colab": {
          "base_uri": "https://localhost:8080/"
        },
        "id": "GEpQRP0k_nTI",
        "outputId": "e0155ceb-5491-4e49-bef8-286d10cba740"
      },
      "execution_count": 68,
      "outputs": [
        {
          "output_type": "execute_result",
          "data": {
            "text/plain": [
              "0      233788\n",
              "1       23161\n",
              "2        7572\n",
              "3        3823\n",
              "4        2459\n",
              "        ...  \n",
              "153         1\n",
              "178         1\n",
              "159         1\n",
              "163         1\n",
              "171         1\n",
              "Name: MonthsDelinquent, Length: 174, dtype: int64"
            ]
          },
          "metadata": {},
          "execution_count": 68
        }
      ]
    },
    {
      "cell_type": "markdown",
      "source": [
        "*How many months did you fail to make payment*\n",
        "\n",
        "*Months Delinquent*"
      ],
      "metadata": {
        "id": "wMCn1CRuABVo"
      }
    },
    {
      "cell_type": "code",
      "source": [
        "df[\"MonthsInRepayment\"].value_counts()"
      ],
      "metadata": {
        "colab": {
          "base_uri": "https://localhost:8080/"
        },
        "id": "70nVxVgB_-JK",
        "outputId": "21cf1401-05b3-4980-dc85-75879f067043"
      },
      "execution_count": 69,
      "outputs": [
        {
          "output_type": "execute_result",
          "data": {
            "text/plain": [
              "50     8002\n",
              "49     7976\n",
              "52     7947\n",
              "51     7753\n",
              "53     7603\n",
              "       ... \n",
              "207     112\n",
              "200     111\n",
              "205     107\n",
              "203     100\n",
              "204      99\n",
              "Name: MonthsInRepayment, Length: 212, dtype: int64"
            ]
          },
          "metadata": {},
          "execution_count": 69
        }
      ]
    },
    {
      "cell_type": "code",
      "source": [
        "sns.boxplot(x='MonthsInRepayment',data=df)"
      ],
      "metadata": {
        "colab": {
          "base_uri": "https://localhost:8080/",
          "height": 296
        },
        "id": "Xta--U6UAOtX",
        "outputId": "d48a617a-4324-43d7-a8e2-07dbe0b9fdbb"
      },
      "execution_count": 70,
      "outputs": [
        {
          "output_type": "execute_result",
          "data": {
            "text/plain": [
              "<matplotlib.axes._subplots.AxesSubplot at 0x7ff5beda3670>"
            ]
          },
          "metadata": {},
          "execution_count": 70
        },
        {
          "output_type": "display_data",
          "data": {
            "text/plain": [
              "<Figure size 432x288 with 1 Axes>"
            ],
            "image/png": "[encoded data removed]"
          },
          "metadata": {
            "needs_background": "light"
          }
        }
      ]
    },
    {
      "cell_type": "markdown",
      "source": [
        "*Months in Repayment*"
      ],
      "metadata": {
        "id": "ilOdCq1PAWhN"
      }
    },
    {
      "cell_type": "code",
      "source": [
        "corr_anom = df[\"OCLTV\"].corr(df[\"LTV\"])\n",
        "corr_anom"
      ],
      "metadata": {
        "colab": {
          "base_uri": "https://localhost:8080/"
        },
        "id": "aCH3bsHGszTG",
        "outputId": "0e710104-2da4-47bf-98e9-88dc41cd05e4"
      },
      "execution_count": 71,
      "outputs": [
        {
          "output_type": "execute_result",
          "data": {
            "text/plain": [
              "0.9994702817952186"
            ]
          },
          "metadata": {},
          "execution_count": 71
        }
      ]
    },
    {
      "cell_type": "code",
      "source": [
        "merge_anom = ltv_anom.merge(ocltv_anom, how = 'inner' ,indicator=False)\n",
        "merge_anom"
      ],
      "metadata": {
        "colab": {
          "base_uri": "https://localhost:8080/",
          "height": 174
        },
        "id": "mTQD3svWATfW",
        "outputId": "45ca906f-6e89-4660-b8b9-c77383ce0615"
      },
      "execution_count": 72,
      "outputs": [
        {
          "output_type": "execute_result",
          "data": {
            "text/plain": [
              "   CreditScore FirstPaymentDate FirstTimeHomebuyer MaturityDate    MSA  MIP  \\\n",
              "0          625       1999-05-01                  Y   2029-04-01  31084    0   \n",
              "\n",
              "   Units Occupancy  OCLTV  DTI  ...  PostalCode    LoanSeqNum  LoanPurpose  \\\n",
              "0      1         O    103   49  ...       91300  F199Q1025270            P   \n",
              "\n",
              "  OrigLoanTerm NumBorrowers SellerName          ServicerName EverDelinquent  \\\n",
              "0          360            2         CO  COUNTRYWIDE                       1   \n",
              "\n",
              "  MonthsDelinquent MonthsInRepayment  \n",
              "0                1                65  \n",
              "\n",
              "[1 rows x 28 columns]"
            ],
            "text/html": [
              "\n",
              "  <div id=\"df-3aa8c068-63c8-4471-8faa-ca1a04990d94\">\n",
              "    <div class=\"colab-df-container\">\n",
              "      <div>\n",
              "<style scoped>\n",
              "    .dataframe tbody tr th:only-of-type {\n",
              "        vertical-align: middle;\n",
              "    }\n",
              "\n",
              "    .dataframe tbody tr th {\n",
              "        vertical-align: top;\n",
              "    }\n",
              "\n",
              "    .dataframe thead th {\n",
              "        text-align: right;\n",
              "    }\n",
              "</style>\n",
              "<table border=\"1\" class=\"dataframe\">\n",
              "  <thead>\n",
              "    <tr style=\"text-align: right;\">\n",
              "      <th></th>\n",
              "      <th>CreditScore</th>\n",
              "      <th>FirstPaymentDate</th>\n",
              "      <th>FirstTimeHomebuyer</th>\n",
              "      <th>MaturityDate</th>\n",
              "      <th>MSA</th>\n",
              "      <th>MIP</th>\n",
              "      <th>Units</th>\n",
              "      <th>Occupancy</th>\n",
              "      <th>OCLTV</th>\n",
              "      <th>DTI</th>\n",
              "      <th>...</th>\n",
              "      <th>PostalCode</th>\n",
              "      <th>LoanSeqNum</th>\n",
              "      <th>LoanPurpose</th>\n",
              "      <th>OrigLoanTerm</th>\n",
              "      <th>NumBorrowers</th>\n",
              "      <th>SellerName</th>\n",
              "      <th>ServicerName</th>\n",
              "      <th>EverDelinquent</th>\n",
              "      <th>MonthsDelinquent</th>\n",
              "      <th>MonthsInRepayment</th>\n",
              "    </tr>\n",
              "  </thead>\n",
              "  <tbody>\n",
              "    <tr>\n",
              "      <th>0</th>\n",
              "      <td>625</td>\n",
              "      <td>1999-05-01</td>\n",
              "      <td>Y</td>\n",
              "      <td>2029-04-01</td>\n",
              "      <td>31084</td>\n",
              "      <td>0</td>\n",
              "      <td>1</td>\n",
              "      <td>O</td>\n",
              "      <td>103</td>\n",
              "      <td>49</td>\n",
              "      <td>...</td>\n",
              "      <td>91300</td>\n",
              "      <td>F199Q1025270</td>\n",
              "      <td>P</td>\n",
              "      <td>360</td>\n",
              "      <td>2</td>\n",
              "      <td>CO</td>\n",
              "      <td>COUNTRYWIDE</td>\n",
              "      <td>1</td>\n",
              "      <td>1</td>\n",
              "      <td>65</td>\n",
              "    </tr>\n",
              "  </tbody>\n",
              "</table>\n",
              "<p>1 rows × 28 columns</p>\n",
              "</div>\n",
              "      <button class=\"colab-df-convert\" onclick=\"convertToInteractive('df-3aa8c068-63c8-4471-8faa-ca1a04990d94')\"\n",
              "              title=\"Convert this dataframe to an interactive table.\"\n",
              "              style=\"display:none;\">\n",
              "        \n",
              "  <svg xmlns=\"http://www.w3.org/2000/svg\" height=\"24px\"viewBox=\"0 0 24 24\"\n",
              "       width=\"24px\">\n",
              "    <path d=\"M0 0h24v24H0V0z\" fill=\"none\"/>\n",
              "    <path d=\"M18.56 5.44l.94 2.06.94-2.06 2.06-.94-2.06-.94-.94-2.06-.94 2.06-2.06.94zm-11 1L8.5 8.5l.94-2.06 2.06-.94-2.06-.94L8.5 2.5l-.94 2.06-2.06.94zm10 10l.94 2.06.94-2.06 2.06-.94-2.06-.94-.94-2.06-.94 2.06-2.06.94z\"/><path d=\"M17.41 7.96l-1.37-1.37c-.4-.4-.92-.59-1.43-.59-.52 0-1.04.2-1.43.59L10.3 9.45l-7.72 7.72c-.78.78-.78 2.05 0 2.83L4 21.41c.39.39.9.59 1.41.59.51 0 1.02-.2 1.41-.59l7.78-7.78 2.81-2.81c.8-.78.8-2.07 0-2.86zM5.41 20L4 18.59l7.72-7.72 1.47 1.35L5.41 20z\"/>\n",
              "  </svg>\n",
              "      </button>\n",
              "      \n",
              "  <style>\n",
              "    .colab-df-container {\n",
              "      display:flex;\n",
              "      flex-wrap:wrap;\n",
              "      gap: 12px;\n",
              "    }\n",
              "\n",
              "    .colab-df-convert {\n",
              "      background-color: #E8F0FE;\n",
              "      border: none;\n",
              "      border-radius: 50%;\n",
              "      cursor: pointer;\n",
              "      display: none;\n",
              "      fill: #1967D2;\n",
              "      height: 32px;\n",
              "      padding: 0 0 0 0;\n",
              "      width: 32px;\n",
              "    }\n",
              "\n",
              "    .colab-df-convert:hover {\n",
              "      background-color: #E2EBFA;\n",
              "      box-shadow: 0px 1px 2px rgba(60, 64, 67, 0.3), 0px 1px 3px 1px rgba(60, 64, 67, 0.15);\n",
              "      fill: #174EA6;\n",
              "    }\n",
              "\n",
              "    [theme=dark] .colab-df-convert {\n",
              "      background-color: #3B4455;\n",
              "      fill: #D2E3FC;\n",
              "    }\n",
              "\n",
              "    [theme=dark] .colab-df-convert:hover {\n",
              "      background-color: #434B5C;\n",
              "      box-shadow: 0px 1px 3px 1px rgba(0, 0, 0, 0.15);\n",
              "      filter: drop-shadow(0px 1px 2px rgba(0, 0, 0, 0.3));\n",
              "      fill: #FFFFFF;\n",
              "    }\n",
              "  </style>\n",
              "\n",
              "      <script>\n",
              "        const buttonEl =\n",
              "          document.querySelector('#df-3aa8c068-63c8-4471-8faa-ca1a04990d94 button.colab-df-convert');\n",
              "        buttonEl.style.display =\n",
              "          google.colab.kernel.accessAllowed ? 'block' : 'none';\n",
              "\n",
              "        async function convertToInteractive(key) {\n",
              "          const element = document.querySelector('#df-3aa8c068-63c8-4471-8faa-ca1a04990d94');\n",
              "          const dataTable =\n",
              "            await google.colab.kernel.invokeFunction('convertToInteractive',\n",
              "                                                     [key], {});\n",
              "          if (!dataTable) return;\n",
              "\n",
              "          const docLinkHtml = 'Like what you see? Visit the ' +\n",
              "            '<a target=\"_blank\" href=https://colab.research.google.com/notebooks/data_table.ipynb>data table notebook</a>'\n",
              "            + ' to learn more about interactive tables.';\n",
              "          element.innerHTML = '';\n",
              "          dataTable['output_type'] = 'display_data';\n",
              "          await google.colab.output.renderOutput(dataTable, element);\n",
              "          const docLink = document.createElement('div');\n",
              "          docLink.innerHTML = docLinkHtml;\n",
              "          element.appendChild(docLink);\n",
              "        }\n",
              "      </script>\n",
              "    </div>\n",
              "  </div>\n",
              "  "
            ]
          },
          "metadata": {},
          "execution_count": 72
        }
      ]
    },
    {
      "cell_type": "markdown",
      "source": [
        "*They are highly correlated and the anomaly present in ltv is also present in ocltv*\n",
        "\n",
        "*We should take this into account if we are dropping columns*"
      ],
      "metadata": {
        "id": "hDk9zi9qtKrI"
      }
    },
    {
      "cell_type": "code",
      "source": [
        "def find_outliers(df):\n",
        "   q1=df.quantile(0.25)\n",
        "   q3=df.quantile(0.75)\n",
        "   IQR=q3-q1\n",
        "   outliers = df[((df<(q1-1.5*IQR)) | (df>(q3+1.5*IQR)))]\n",
        "   return outliers"
      ],
      "metadata": {
        "id": "V7m6ZgA20CwJ"
      },
      "execution_count": 73,
      "outputs": []
    },
    {
      "cell_type": "code",
      "source": [
        "outlier1 = find_outliers(df['MonthsInRepayment'])\n",
        "outlier1=pd.DataFrame(outlier1)\n",
        "outlier1.shape"
      ],
      "metadata": {
        "colab": {
          "base_uri": "https://localhost:8080/"
        },
        "id": "g5SpU6zuzvPl",
        "outputId": "3efcd803-4512-4c89-c015-5481da0ab42c"
      },
      "execution_count": 74,
      "outputs": [
        {
          "output_type": "execute_result",
          "data": {
            "text/plain": [
              "(40297, 1)"
            ]
          },
          "metadata": {},
          "execution_count": 74
        }
      ]
    },
    {
      "cell_type": "code",
      "source": [
        "outlier2 = find_outliers(df['MonthsDelinquent'])\n",
        "outlier2=pd.DataFrame(outlier2)\n",
        "outlier2.shape"
      ],
      "metadata": {
        "colab": {
          "base_uri": "https://localhost:8080/"
        },
        "id": "sTlU7-eEz229",
        "outputId": "b81e4ca2-be1b-47bc-9719-2fbc01b6e1e4"
      },
      "execution_count": 75,
      "outputs": [
        {
          "output_type": "execute_result",
          "data": {
            "text/plain": [
              "(57663, 1)"
            ]
          },
          "metadata": {},
          "execution_count": 75
        }
      ]
    },
    {
      "cell_type": "code",
      "source": [
        "idx = np.intersect1d(outlier1.index, outlier2.index)\n",
        "len(idx)"
      ],
      "metadata": {
        "colab": {
          "base_uri": "https://localhost:8080/"
        },
        "id": "rU0DUijc0jeW",
        "outputId": "ddef35c4-6f6f-4ad5-ed90-1d9fe1104535"
      },
      "execution_count": 76,
      "outputs": [
        {
          "output_type": "execute_result",
          "data": {
            "text/plain": [
              "14908"
            ]
          },
          "metadata": {},
          "execution_count": 76
        }
      ]
    },
    {
      "cell_type": "code",
      "source": [
        "numeric=[\"CreditScore\",\"MIP\",\"Units\",\"DTI\",\"OrigUPB\",\"LTV\",\"OrigInterestRate\",\"OrigLoanTerm\",\"EverDelinquent\",\"MonthsDelinquent\",\"MonthsInRepayment\"]\n",
        "for i in numeric:\n",
        "  o1=find_outliers(df[i])\n",
        "  o1=pd.DataFrame(o1)\n",
        "  print(o1.shape)\n",
        "  for j in numeric:\n",
        "    o2=find_outliers(df[j])\n",
        "    o2=pd.DataFrame(o2)\n",
        "    idx = np.intersect1d(o1.index, o2.index)\n",
        "    print(len(idx),end=\" \")\n",
        "  print()\n",
        "\n"
      ],
      "metadata": {
        "id": "QNTYWrd00s6C",
        "colab": {
          "base_uri": "https://localhost:8080/"
        },
        "outputId": "d9737b86-e390-43ce-ff60-d8d1f6aee987"
      },
      "execution_count": 77,
      "outputs": [
        {
          "output_type": "stream",
          "name": "stdout",
          "text": [
            "(2296, 1)\n",
            "2296 0 77 2 15 46 159 46 917 917 378 \n",
            "(0, 1)\n",
            "0 0 0 0 0 0 0 0 0 0 0 \n",
            "(5851, 1)\n",
            "77 0 5851 3 277 221 615 20 1365 1365 1145 \n",
            "(207, 1)\n",
            "2 0 3 207 1 10 7 2 46 46 27 \n",
            "(966, 1)\n",
            "15 0 277 1 966 10 40 36 129 129 65 \n",
            "(8878, 1)\n",
            "46 0 221 10 10 8878 274 82 1213 1213 1937 \n",
            "(10755, 1)\n",
            "159 0 615 7 40 274 10755 417 2732 2732 1592 \n",
            "(2378, 1)\n",
            "46 0 20 2 36 82 417 2378 334 334 213 \n",
            "(57663, 1)\n",
            "917 0 1365 46 129 1213 2732 334 57663 57663 14908 \n",
            "(57663, 1)\n",
            "917 0 1365 46 129 1213 2732 334 57663 57663 14908 \n",
            "(40297, 1)\n",
            "378 0 1145 27 65 1937 1592 213 14908 14908 40297 \n"
          ]
        }
      ]
    },
    {
      "cell_type": "markdown",
      "source": [
        "*All the outliers and their co-existance*"
      ],
      "metadata": {
        "id": "bpuJxHm4B23R"
      }
    },
    {
      "cell_type": "code",
      "source": [
        "df[\"CreditScore\"].describe()"
      ],
      "metadata": {
        "colab": {
          "base_uri": "https://localhost:8080/"
        },
        "id": "Q4ivC2qs_rSG",
        "outputId": "92ea582b-2ccc-4bec-bbd2-76bcdcdb0d9f"
      },
      "execution_count": 78,
      "outputs": [
        {
          "output_type": "execute_result",
          "data": {
            "text/plain": [
              "count    291451.000000\n",
              "mean        708.936991\n",
              "std          68.408791\n",
              "min           0.000000\n",
              "25%         675.000000\n",
              "50%         717.000000\n",
              "75%         753.000000\n",
              "max         849.000000\n",
              "Name: CreditScore, dtype: float64"
            ]
          },
          "metadata": {},
          "execution_count": 78
        }
      ]
    },
    {
      "cell_type": "code",
      "source": [
        "df[\"CreditScore\"].replace(0,850,inplace=True)"
      ],
      "metadata": {
        "id": "hPurVxwf_0xQ"
      },
      "execution_count": 79,
      "outputs": []
    },
    {
      "cell_type": "code",
      "source": [
        "df[\"CreditScore\"]"
      ],
      "metadata": {
        "colab": {
          "base_uri": "https://localhost:8080/"
        },
        "id": "d0xDuGSv_8Vz",
        "outputId": "318684d2-7409-4b8a-e190-09700d3773ee"
      },
      "execution_count": 80,
      "outputs": [
        {
          "output_type": "execute_result",
          "data": {
            "text/plain": [
              "0         850\n",
              "1         850\n",
              "2         850\n",
              "3         850\n",
              "4         850\n",
              "         ... \n",
              "291446    839\n",
              "291447    840\n",
              "291448    840\n",
              "291449    845\n",
              "291450    849\n",
              "Name: CreditScore, Length: 291451, dtype: int64"
            ]
          },
          "metadata": {},
          "execution_count": 80
        }
      ]
    },
    {
      "cell_type": "code",
      "source": [
        "df[\"CreditRange\"] = pd.cut(\n",
        "    x=df[\"CreditScore\"],\n",
        "    bins=[-1, 650, 700, 750, 900],\n",
        "    labels=[1, 2, 3, 4],\n",
        ")"
      ],
      "metadata": {
        "id": "YQENhktq6Bkb"
      },
      "execution_count": 81,
      "outputs": []
    },
    {
      "cell_type": "code",
      "source": [
        "df[\"CreditRange\"]"
      ],
      "metadata": {
        "colab": {
          "base_uri": "https://localhost:8080/"
        },
        "id": "ILxUsVmQAXmb",
        "outputId": "07145eb8-c7d5-44c3-d4bc-11ac3cbb21e6"
      },
      "execution_count": 82,
      "outputs": [
        {
          "output_type": "execute_result",
          "data": {
            "text/plain": [
              "0         4\n",
              "1         4\n",
              "2         4\n",
              "3         4\n",
              "4         4\n",
              "         ..\n",
              "291446    4\n",
              "291447    4\n",
              "291448    4\n",
              "291449    4\n",
              "291450    4\n",
              "Name: CreditRange, Length: 291451, dtype: category\n",
              "Categories (4, int64): [1 < 2 < 3 < 4]"
            ]
          },
          "metadata": {},
          "execution_count": 82
        }
      ]
    },
    {
      "cell_type": "markdown",
      "source": [
        "*Creating credit range*"
      ],
      "metadata": {
        "id": "R3CTIEMqB8bJ"
      }
    },
    {
      "cell_type": "code",
      "source": [
        "df[\"LTV\"].replace(103,100,inplace=True)"
      ],
      "metadata": {
        "id": "wweFLeQhL4X5"
      },
      "execution_count": 83,
      "outputs": []
    },
    {
      "cell_type": "code",
      "source": [
        "df[\"LTV\"].describe()"
      ],
      "metadata": {
        "colab": {
          "base_uri": "https://localhost:8080/"
        },
        "id": "L7i4KJWcBoiY",
        "outputId": "ce0d69b4-9497-457b-fced-4568dd006a15"
      },
      "execution_count": 84,
      "outputs": [
        {
          "output_type": "execute_result",
          "data": {
            "text/plain": [
              "count    291451.000000\n",
              "mean         76.937976\n",
              "std          15.225282\n",
              "min           0.000000\n",
              "25%          70.000000\n",
              "50%          80.000000\n",
              "75%          90.000000\n",
              "max         100.000000\n",
              "Name: LTV, dtype: float64"
            ]
          },
          "metadata": {},
          "execution_count": 84
        }
      ]
    },
    {
      "cell_type": "code",
      "source": [
        "df[\"LTV_Range\"] = pd.cut(\n",
        "    x=df[\"LTV\"],\n",
        "    bins=[-1, 25, 50, np.inf],\n",
        "    labels=[1, 2, 3],\n",
        ")"
      ],
      "metadata": {
        "id": "X40ZqbTKCEAv"
      },
      "execution_count": 85,
      "outputs": []
    },
    {
      "cell_type": "code",
      "source": [
        "df[\"LTV\"]"
      ],
      "metadata": {
        "colab": {
          "base_uri": "https://localhost:8080/"
        },
        "id": "qpcBtoVJCwfa",
        "outputId": "e40fdefb-33ec-4b18-a78a-5ac97888d3a9"
      },
      "execution_count": 86,
      "outputs": [
        {
          "output_type": "execute_result",
          "data": {
            "text/plain": [
              "0         89\n",
              "1         73\n",
              "2         75\n",
              "3         76\n",
              "4         78\n",
              "          ..\n",
              "291446    60\n",
              "291447    73\n",
              "291448    73\n",
              "291449    80\n",
              "291450    47\n",
              "Name: LTV, Length: 291451, dtype: int64"
            ]
          },
          "metadata": {},
          "execution_count": 86
        }
      ]
    },
    {
      "cell_type": "code",
      "source": [
        "df[\"LTV_Range\"]"
      ],
      "metadata": {
        "colab": {
          "base_uri": "https://localhost:8080/"
        },
        "id": "mErQDECBCqaA",
        "outputId": "c04d302d-ffe5-4937-9746-5fccfb7cdbc9"
      },
      "execution_count": 87,
      "outputs": [
        {
          "output_type": "execute_result",
          "data": {
            "text/plain": [
              "0         3\n",
              "1         3\n",
              "2         3\n",
              "3         3\n",
              "4         3\n",
              "         ..\n",
              "291446    3\n",
              "291447    3\n",
              "291448    3\n",
              "291449    3\n",
              "291450    2\n",
              "Name: LTV_Range, Length: 291451, dtype: category\n",
              "Categories (3, int64): [1 < 2 < 3]"
            ]
          },
          "metadata": {},
          "execution_count": 87
        }
      ]
    },
    {
      "cell_type": "markdown",
      "source": [
        "*Creating LTV Range*"
      ],
      "metadata": {
        "id": "BJHMzd_MPnJ6"
      }
    },
    {
      "cell_type": "code",
      "source": [
        "df[\"FirstTimeHomebuyer\"].replace(\"X\",np.nan,inplace=True)"
      ],
      "metadata": {
        "id": "R7aDRQdYCtDn"
      },
      "execution_count": 88,
      "outputs": []
    },
    {
      "cell_type": "code",
      "source": [
        "df.shape"
      ],
      "metadata": {
        "colab": {
          "base_uri": "https://localhost:8080/"
        },
        "id": "BLDrxIqEEp_z",
        "outputId": "473a50e6-be90-4395-d673-b0190415c3d3"
      },
      "execution_count": 89,
      "outputs": [
        {
          "output_type": "execute_result",
          "data": {
            "text/plain": [
              "(291451, 30)"
            ]
          },
          "metadata": {},
          "execution_count": 89
        }
      ]
    },
    {
      "cell_type": "code",
      "source": [
        "df[\"FirstTimeHomebuyer\"].isnull().sum()"
      ],
      "metadata": {
        "colab": {
          "base_uri": "https://localhost:8080/"
        },
        "id": "6xruI-d0EsIG",
        "outputId": "e4181253-1866-40ad-d5b3-c405aed993ad"
      },
      "execution_count": 90,
      "outputs": [
        {
          "output_type": "execute_result",
          "data": {
            "text/plain": [
              "78015"
            ]
          },
          "metadata": {},
          "execution_count": 90
        }
      ]
    },
    {
      "cell_type": "code",
      "source": [
        "df.dropna(subset = ['FirstTimeHomebuyer'],inplace=True)"
      ],
      "metadata": {
        "id": "4s3dhitnDxB9"
      },
      "execution_count": 91,
      "outputs": []
    },
    {
      "cell_type": "code",
      "source": [
        "df.shape"
      ],
      "metadata": {
        "colab": {
          "base_uri": "https://localhost:8080/"
        },
        "id": "W3lestWWFCLs",
        "outputId": "20a4a467-1444-4624-8c92-da0347066a08"
      },
      "execution_count": 92,
      "outputs": [
        {
          "output_type": "execute_result",
          "data": {
            "text/plain": [
              "(213436, 30)"
            ]
          },
          "metadata": {},
          "execution_count": 92
        }
      ]
    },
    {
      "cell_type": "code",
      "source": [
        "df"
      ],
      "metadata": {
        "colab": {
          "base_uri": "https://localhost:8080/",
          "height": 487
        },
        "id": "FpzS8v32FEvO",
        "outputId": "3dcac03c-54b8-4f22-be95-a0de2e919c91"
      },
      "execution_count": 93,
      "outputs": [
        {
          "output_type": "execute_result",
          "data": {
            "text/plain": [
              "        CreditScore FirstPaymentDate FirstTimeHomebuyer MaturityDate    MSA  \\\n",
              "0               850       1999-02-01                  N   2029-01-01  16974   \n",
              "1               850       1999-02-01                  N   2029-01-01  19740   \n",
              "2               850       1999-02-01                  N   2029-01-01  29940   \n",
              "3               850       1999-02-01                  N   2029-01-01  31084   \n",
              "4               850       1999-02-01                  N   2029-01-01  35644   \n",
              "...             ...              ...                ...          ...    ...   \n",
              "291446          839       1999-03-01                  N   2029-02-01  37964   \n",
              "291447          840       2002-10-01                  N   2029-04-01  35644   \n",
              "291448          840       2003-04-01                  N   2029-04-01  42044   \n",
              "291449          845       1999-04-01                  N   2029-03-01  37964   \n",
              "291450          849       1999-03-01                  N   2029-02-01  37964   \n",
              "\n",
              "        MIP  Units Occupancy  OCLTV  DTI  ...  LoanPurpose  OrigLoanTerm  \\\n",
              "0        25      1         O     89   27  ...            P           360   \n",
              "1         0      1         O     73   17  ...            N           360   \n",
              "2         0      1         O     75   16  ...            N           360   \n",
              "3         0      1         O     76   14  ...            N           360   \n",
              "4         0      1         O     78   18  ...            N           360   \n",
              "...     ...    ...       ...    ...  ...  ...          ...           ...   \n",
              "291446    0      1         O     60   32  ...            N           360   \n",
              "291447    0      1         O     73    0  ...            P           319   \n",
              "291448    0      1         O     73   31  ...            N           313   \n",
              "291449    0      1         I     80   54  ...            P           360   \n",
              "291450    0      1         O     47   29  ...            P           360   \n",
              "\n",
              "        NumBorrowers SellerName          ServicerName EverDelinquent  \\\n",
              "0                  2         FL  WASHINGTONMUTUALBANK              0   \n",
              "1                  1         FT  CHASEHOMEFINANCELLC               0   \n",
              "2                  2         FL  WASHINGTONMUTUALBANK              0   \n",
              "3                  2         GM  GMACMTGECORP                      0   \n",
              "4                  2         GM  GMACMTGECORP                      0   \n",
              "...              ...        ...                   ...            ...   \n",
              "291446             2         Ot  Other servicers                   0   \n",
              "291447             2         Ot  Other servicers                   0   \n",
              "291448             1         Ot  Other servicers                   0   \n",
              "291449             2         Ot  Other servicers                   0   \n",
              "291450             2         Ot  Other servicers                   0   \n",
              "\n",
              "       MonthsDelinquent MonthsInRepayment CreditRange LTV_Range  \n",
              "0                     0                52           4         3  \n",
              "1                     0               144           4         3  \n",
              "2                     0                67           4         3  \n",
              "3                     0                35           4         3  \n",
              "4                     0                54           4         3  \n",
              "...                 ...               ...         ...       ...  \n",
              "291446                0                12           4         3  \n",
              "291447                0                53           4         3  \n",
              "291448                0                38           4         3  \n",
              "291449                0                32           4         3  \n",
              "291450                0                29           4         2  \n",
              "\n",
              "[213436 rows x 30 columns]"
            ],
            "text/html": [
              "\n",
              "  <div id=\"df-c70ef2fd-20e0-458c-904c-a6d8a2baa346\">\n",
              "    <div class=\"colab-df-container\">\n",
              "      <div>\n",
              "<style scoped>\n",
              "    .dataframe tbody tr th:only-of-type {\n",
              "        vertical-align: middle;\n",
              "    }\n",
              "\n",
              "    .dataframe tbody tr th {\n",
              "        vertical-align: top;\n",
              "    }\n",
              "\n",
              "    .dataframe thead th {\n",
              "        text-align: right;\n",
              "    }\n",
              "</style>\n",
              "<table border=\"1\" class=\"dataframe\">\n",
              "  <thead>\n",
              "    <tr style=\"text-align: right;\">\n",
              "      <th></th>\n",
              "      <th>CreditScore</th>\n",
              "      <th>FirstPaymentDate</th>\n",
              "      <th>FirstTimeHomebuyer</th>\n",
              "      <th>MaturityDate</th>\n",
              "      <th>MSA</th>\n",
              "      <th>MIP</th>\n",
              "      <th>Units</th>\n",
              "      <th>Occupancy</th>\n",
              "      <th>OCLTV</th>\n",
              "      <th>DTI</th>\n",
              "      <th>...</th>\n",
              "      <th>LoanPurpose</th>\n",
              "      <th>OrigLoanTerm</th>\n",
              "      <th>NumBorrowers</th>\n",
              "      <th>SellerName</th>\n",
              "      <th>ServicerName</th>\n",
              "      <th>EverDelinquent</th>\n",
              "      <th>MonthsDelinquent</th>\n",
              "      <th>MonthsInRepayment</th>\n",
              "      <th>CreditRange</th>\n",
              "      <th>LTV_Range</th>\n",
              "    </tr>\n",
              "  </thead>\n",
              "  <tbody>\n",
              "    <tr>\n",
              "      <th>0</th>\n",
              "      <td>850</td>\n",
              "      <td>1999-02-01</td>\n",
              "      <td>N</td>\n",
              "      <td>2029-01-01</td>\n",
              "      <td>16974</td>\n",
              "      <td>25</td>\n",
              "      <td>1</td>\n",
              "      <td>O</td>\n",
              "      <td>89</td>\n",
              "      <td>27</td>\n",
              "      <td>...</td>\n",
              "      <td>P</td>\n",
              "      <td>360</td>\n",
              "      <td>2</td>\n",
              "      <td>FL</td>\n",
              "      <td>WASHINGTONMUTUALBANK</td>\n",
              "      <td>0</td>\n",
              "      <td>0</td>\n",
              "      <td>52</td>\n",
              "      <td>4</td>\n",
              "      <td>3</td>\n",
              "    </tr>\n",
              "    <tr>\n",
              "      <th>1</th>\n",
              "      <td>850</td>\n",
              "      <td>1999-02-01</td>\n",
              "      <td>N</td>\n",
              "      <td>2029-01-01</td>\n",
              "      <td>19740</td>\n",
              "      <td>0</td>\n",
              "      <td>1</td>\n",
              "      <td>O</td>\n",
              "      <td>73</td>\n",
              "      <td>17</td>\n",
              "      <td>...</td>\n",
              "      <td>N</td>\n",
              "      <td>360</td>\n",
              "      <td>1</td>\n",
              "      <td>FT</td>\n",
              "      <td>CHASEHOMEFINANCELLC</td>\n",
              "      <td>0</td>\n",
              "      <td>0</td>\n",
              "      <td>144</td>\n",
              "      <td>4</td>\n",
              "      <td>3</td>\n",
              "    </tr>\n",
              "    <tr>\n",
              "      <th>2</th>\n",
              "      <td>850</td>\n",
              "      <td>1999-02-01</td>\n",
              "      <td>N</td>\n",
              "      <td>2029-01-01</td>\n",
              "      <td>29940</td>\n",
              "      <td>0</td>\n",
              "      <td>1</td>\n",
              "      <td>O</td>\n",
              "      <td>75</td>\n",
              "      <td>16</td>\n",
              "      <td>...</td>\n",
              "      <td>N</td>\n",
              "      <td>360</td>\n",
              "      <td>2</td>\n",
              "      <td>FL</td>\n",
              "      <td>WASHINGTONMUTUALBANK</td>\n",
              "      <td>0</td>\n",
              "      <td>0</td>\n",
              "      <td>67</td>\n",
              "      <td>4</td>\n",
              "      <td>3</td>\n",
              "    </tr>\n",
              "    <tr>\n",
              "      <th>3</th>\n",
              "      <td>850</td>\n",
              "      <td>1999-02-01</td>\n",
              "      <td>N</td>\n",
              "      <td>2029-01-01</td>\n",
              "      <td>31084</td>\n",
              "      <td>0</td>\n",
              "      <td>1</td>\n",
              "      <td>O</td>\n",
              "      <td>76</td>\n",
              "      <td>14</td>\n",
              "      <td>...</td>\n",
              "      <td>N</td>\n",
              "      <td>360</td>\n",
              "      <td>2</td>\n",
              "      <td>GM</td>\n",
              "      <td>GMACMTGECORP</td>\n",
              "      <td>0</td>\n",
              "      <td>0</td>\n",
              "      <td>35</td>\n",
              "      <td>4</td>\n",
              "      <td>3</td>\n",
              "    </tr>\n",
              "    <tr>\n",
              "      <th>4</th>\n",
              "      <td>850</td>\n",
              "      <td>1999-02-01</td>\n",
              "      <td>N</td>\n",
              "      <td>2029-01-01</td>\n",
              "      <td>35644</td>\n",
              "      <td>0</td>\n",
              "      <td>1</td>\n",
              "      <td>O</td>\n",
              "      <td>78</td>\n",
              "      <td>18</td>\n",
              "      <td>...</td>\n",
              "      <td>N</td>\n",
              "      <td>360</td>\n",
              "      <td>2</td>\n",
              "      <td>GM</td>\n",
              "      <td>GMACMTGECORP</td>\n",
              "      <td>0</td>\n",
              "      <td>0</td>\n",
              "      <td>54</td>\n",
              "      <td>4</td>\n",
              "      <td>3</td>\n",
              "    </tr>\n",
              "    <tr>\n",
              "      <th>...</th>\n",
              "      <td>...</td>\n",
              "      <td>...</td>\n",
              "      <td>...</td>\n",
              "      <td>...</td>\n",
              "      <td>...</td>\n",
              "      <td>...</td>\n",
              "      <td>...</td>\n",
              "      <td>...</td>\n",
              "      <td>...</td>\n",
              "      <td>...</td>\n",
              "      <td>...</td>\n",
              "      <td>...</td>\n",
              "      <td>...</td>\n",
              "      <td>...</td>\n",
              "      <td>...</td>\n",
              "      <td>...</td>\n",
              "      <td>...</td>\n",
              "      <td>...</td>\n",
              "      <td>...</td>\n",
              "      <td>...</td>\n",
              "      <td>...</td>\n",
              "    </tr>\n",
              "    <tr>\n",
              "      <th>291446</th>\n",
              "      <td>839</td>\n",
              "      <td>1999-03-01</td>\n",
              "      <td>N</td>\n",
              "      <td>2029-02-01</td>\n",
              "      <td>37964</td>\n",
              "      <td>0</td>\n",
              "      <td>1</td>\n",
              "      <td>O</td>\n",
              "      <td>60</td>\n",
              "      <td>32</td>\n",
              "      <td>...</td>\n",
              "      <td>N</td>\n",
              "      <td>360</td>\n",
              "      <td>2</td>\n",
              "      <td>Ot</td>\n",
              "      <td>Other servicers</td>\n",
              "      <td>0</td>\n",
              "      <td>0</td>\n",
              "      <td>12</td>\n",
              "      <td>4</td>\n",
              "      <td>3</td>\n",
              "    </tr>\n",
              "    <tr>\n",
              "      <th>291447</th>\n",
              "      <td>840</td>\n",
              "      <td>2002-10-01</td>\n",
              "      <td>N</td>\n",
              "      <td>2029-04-01</td>\n",
              "      <td>35644</td>\n",
              "      <td>0</td>\n",
              "      <td>1</td>\n",
              "      <td>O</td>\n",
              "      <td>73</td>\n",
              "      <td>0</td>\n",
              "      <td>...</td>\n",
              "      <td>P</td>\n",
              "      <td>319</td>\n",
              "      <td>2</td>\n",
              "      <td>Ot</td>\n",
              "      <td>Other servicers</td>\n",
              "      <td>0</td>\n",
              "      <td>0</td>\n",
              "      <td>53</td>\n",
              "      <td>4</td>\n",
              "      <td>3</td>\n",
              "    </tr>\n",
              "    <tr>\n",
              "      <th>291448</th>\n",
              "      <td>840</td>\n",
              "      <td>2003-04-01</td>\n",
              "      <td>N</td>\n",
              "      <td>2029-04-01</td>\n",
              "      <td>42044</td>\n",
              "      <td>0</td>\n",
              "      <td>1</td>\n",
              "      <td>O</td>\n",
              "      <td>73</td>\n",
              "      <td>31</td>\n",
              "      <td>...</td>\n",
              "      <td>N</td>\n",
              "      <td>313</td>\n",
              "      <td>1</td>\n",
              "      <td>Ot</td>\n",
              "      <td>Other servicers</td>\n",
              "      <td>0</td>\n",
              "      <td>0</td>\n",
              "      <td>38</td>\n",
              "      <td>4</td>\n",
              "      <td>3</td>\n",
              "    </tr>\n",
              "    <tr>\n",
              "      <th>291449</th>\n",
              "      <td>845</td>\n",
              "      <td>1999-04-01</td>\n",
              "      <td>N</td>\n",
              "      <td>2029-03-01</td>\n",
              "      <td>37964</td>\n",
              "      <td>0</td>\n",
              "      <td>1</td>\n",
              "      <td>I</td>\n",
              "      <td>80</td>\n",
              "      <td>54</td>\n",
              "      <td>...</td>\n",
              "      <td>P</td>\n",
              "      <td>360</td>\n",
              "      <td>2</td>\n",
              "      <td>Ot</td>\n",
              "      <td>Other servicers</td>\n",
              "      <td>0</td>\n",
              "      <td>0</td>\n",
              "      <td>32</td>\n",
              "      <td>4</td>\n",
              "      <td>3</td>\n",
              "    </tr>\n",
              "    <tr>\n",
              "      <th>291450</th>\n",
              "      <td>849</td>\n",
              "      <td>1999-03-01</td>\n",
              "      <td>N</td>\n",
              "      <td>2029-02-01</td>\n",
              "      <td>37964</td>\n",
              "      <td>0</td>\n",
              "      <td>1</td>\n",
              "      <td>O</td>\n",
              "      <td>47</td>\n",
              "      <td>29</td>\n",
              "      <td>...</td>\n",
              "      <td>P</td>\n",
              "      <td>360</td>\n",
              "      <td>2</td>\n",
              "      <td>Ot</td>\n",
              "      <td>Other servicers</td>\n",
              "      <td>0</td>\n",
              "      <td>0</td>\n",
              "      <td>29</td>\n",
              "      <td>4</td>\n",
              "      <td>2</td>\n",
              "    </tr>\n",
              "  </tbody>\n",
              "</table>\n",
              "<p>213436 rows × 30 columns</p>\n",
              "</div>\n",
              "      <button class=\"colab-df-convert\" onclick=\"convertToInteractive('df-c70ef2fd-20e0-458c-904c-a6d8a2baa346')\"\n",
              "              title=\"Convert this dataframe to an interactive table.\"\n",
              "              style=\"display:none;\">\n",
              "        \n",
              "  <svg xmlns=\"http://www.w3.org/2000/svg\" height=\"24px\"viewBox=\"0 0 24 24\"\n",
              "       width=\"24px\">\n",
              "    <path d=\"M0 0h24v24H0V0z\" fill=\"none\"/>\n",
              "    <path d=\"M18.56 5.44l.94 2.06.94-2.06 2.06-.94-2.06-.94-.94-2.06-.94 2.06-2.06.94zm-11 1L8.5 8.5l.94-2.06 2.06-.94-2.06-.94L8.5 2.5l-.94 2.06-2.06.94zm10 10l.94 2.06.94-2.06 2.06-.94-2.06-.94-.94-2.06-.94 2.06-2.06.94z\"/><path d=\"M17.41 7.96l-1.37-1.37c-.4-.4-.92-.59-1.43-.59-.52 0-1.04.2-1.43.59L10.3 9.45l-7.72 7.72c-.78.78-.78 2.05 0 2.83L4 21.41c.39.39.9.59 1.41.59.51 0 1.02-.2 1.41-.59l7.78-7.78 2.81-2.81c.8-.78.8-2.07 0-2.86zM5.41 20L4 18.59l7.72-7.72 1.47 1.35L5.41 20z\"/>\n",
              "  </svg>\n",
              "      </button>\n",
              "      \n",
              "  <style>\n",
              "    .colab-df-container {\n",
              "      display:flex;\n",
              "      flex-wrap:wrap;\n",
              "      gap: 12px;\n",
              "    }\n",
              "\n",
              "    .colab-df-convert {\n",
              "      background-color: #E8F0FE;\n",
              "      border: none;\n",
              "      border-radius: 50%;\n",
              "      cursor: pointer;\n",
              "      display: none;\n",
              "      fill: #1967D2;\n",
              "      height: 32px;\n",
              "      padding: 0 0 0 0;\n",
              "      width: 32px;\n",
              "    }\n",
              "\n",
              "    .colab-df-convert:hover {\n",
              "      background-color: #E2EBFA;\n",
              "      box-shadow: 0px 1px 2px rgba(60, 64, 67, 0.3), 0px 1px 3px 1px rgba(60, 64, 67, 0.15);\n",
              "      fill: #174EA6;\n",
              "    }\n",
              "\n",
              "    [theme=dark] .colab-df-convert {\n",
              "      background-color: #3B4455;\n",
              "      fill: #D2E3FC;\n",
              "    }\n",
              "\n",
              "    [theme=dark] .colab-df-convert:hover {\n",
              "      background-color: #434B5C;\n",
              "      box-shadow: 0px 1px 3px 1px rgba(0, 0, 0, 0.15);\n",
              "      filter: drop-shadow(0px 1px 2px rgba(0, 0, 0, 0.3));\n",
              "      fill: #FFFFFF;\n",
              "    }\n",
              "  </style>\n",
              "\n",
              "      <script>\n",
              "        const buttonEl =\n",
              "          document.querySelector('#df-c70ef2fd-20e0-458c-904c-a6d8a2baa346 button.colab-df-convert');\n",
              "        buttonEl.style.display =\n",
              "          google.colab.kernel.accessAllowed ? 'block' : 'none';\n",
              "\n",
              "        async function convertToInteractive(key) {\n",
              "          const element = document.querySelector('#df-c70ef2fd-20e0-458c-904c-a6d8a2baa346');\n",
              "          const dataTable =\n",
              "            await google.colab.kernel.invokeFunction('convertToInteractive',\n",
              "                                                     [key], {});\n",
              "          if (!dataTable) return;\n",
              "\n",
              "          const docLinkHtml = 'Like what you see? Visit the ' +\n",
              "            '<a target=\"_blank\" href=https://colab.research.google.com/notebooks/data_table.ipynb>data table notebook</a>'\n",
              "            + ' to learn more about interactive tables.';\n",
              "          element.innerHTML = '';\n",
              "          dataTable['output_type'] = 'display_data';\n",
              "          await google.colab.output.renderOutput(dataTable, element);\n",
              "          const docLink = document.createElement('div');\n",
              "          docLink.innerHTML = docLinkHtml;\n",
              "          element.appendChild(docLink);\n",
              "        }\n",
              "      </script>\n",
              "    </div>\n",
              "  </div>\n",
              "  "
            ]
          },
          "metadata": {},
          "execution_count": 93
        }
      ]
    },
    {
      "cell_type": "code",
      "source": [
        "df.reset_index(inplace = True)"
      ],
      "metadata": {
        "id": "06VH1HbsFL_q"
      },
      "execution_count": 94,
      "outputs": []
    },
    {
      "cell_type": "code",
      "source": [
        "df.drop(['index'],axis=1,inplace=True)"
      ],
      "metadata": {
        "id": "gfsfAwX7Qxn1"
      },
      "execution_count": 95,
      "outputs": []
    },
    {
      "cell_type": "code",
      "source": [
        "df[\"FirstTimeHomebuyer\"].replace(\"N\",0,inplace=True)\n",
        "df[\"FirstTimeHomebuyer\"].replace(\"Y\",1,inplace=True)"
      ],
      "metadata": {
        "id": "qbH7Or3OP0iz"
      },
      "execution_count": 96,
      "outputs": []
    },
    {
      "cell_type": "code",
      "source": [
        "df = df.astype({\"FirstTimeHomebuyer\": int})"
      ],
      "metadata": {
        "id": "JSSdGBluQCMG"
      },
      "execution_count": 97,
      "outputs": []
    },
    {
      "cell_type": "markdown",
      "source": [
        "*Drop x in firsttimehomebuyer and replace n and y with 0 and 1*"
      ],
      "metadata": {
        "id": "zc8b66SkPt74"
      }
    },
    {
      "cell_type": "code",
      "source": [
        "df['MonthsInRepayment']"
      ],
      "metadata": {
        "colab": {
          "base_uri": "https://localhost:8080/"
        },
        "id": "zdYPkdKOGKwX",
        "outputId": "2ebbea6c-12ae-4607-c7a9-3546581d5795"
      },
      "execution_count": 98,
      "outputs": [
        {
          "output_type": "execute_result",
          "data": {
            "text/plain": [
              "0          52\n",
              "1         144\n",
              "2          67\n",
              "3          35\n",
              "4          54\n",
              "         ... \n",
              "213431     12\n",
              "213432     53\n",
              "213433     38\n",
              "213434     32\n",
              "213435     29\n",
              "Name: MonthsInRepayment, Length: 213436, dtype: int64"
            ]
          },
          "metadata": {},
          "execution_count": 98
        }
      ]
    },
    {
      "cell_type": "code",
      "source": [
        "df = df.astype({\"MonthsInRepayment\": np.float})"
      ],
      "metadata": {
        "colab": {
          "base_uri": "https://localhost:8080/"
        },
        "id": "QIjyZtOyNgJQ",
        "outputId": "551d92ac-cacf-4f79-d653-712c7a1aead6"
      },
      "execution_count": 99,
      "outputs": [
        {
          "output_type": "stream",
          "name": "stderr",
          "text": [
            "<ipython-input-99-0ffbacfa6657>:1: DeprecationWarning: `np.float` is a deprecated alias for the builtin `float`. To silence this warning, use `float` by itself. Doing this will not modify any behavior and is safe. If you specifically wanted the numpy scalar type, use `np.float64` here.\n",
            "Deprecated in NumPy 1.20; for more details and guidance: https://numpy.org/devdocs/release/1.20.0-notes.html#deprecations\n",
            "  df = df.astype({\"MonthsInRepayment\": np.float})\n"
          ]
        }
      ]
    },
    {
      "cell_type": "code",
      "source": [
        "df['MonthsInRepayment'] = df['MonthsInRepayment'].div(12)"
      ],
      "metadata": {
        "id": "4K4FgvxcOZVv"
      },
      "execution_count": 100,
      "outputs": []
    },
    {
      "cell_type": "code",
      "source": [
        "df['MonthsInRepayment']"
      ],
      "metadata": {
        "colab": {
          "base_uri": "https://localhost:8080/"
        },
        "id": "-bCinylfOnUh",
        "outputId": "26e55616-dd26-4b41-8abe-596445451883"
      },
      "execution_count": 101,
      "outputs": [
        {
          "output_type": "execute_result",
          "data": {
            "text/plain": [
              "0          4.333333\n",
              "1         12.000000\n",
              "2          5.583333\n",
              "3          2.916667\n",
              "4          4.500000\n",
              "            ...    \n",
              "213431     1.000000\n",
              "213432     4.416667\n",
              "213433     3.166667\n",
              "213434     2.666667\n",
              "213435     2.416667\n",
              "Name: MonthsInRepayment, Length: 213436, dtype: float64"
            ]
          },
          "metadata": {},
          "execution_count": 101
        }
      ]
    },
    {
      "cell_type": "code",
      "source": [
        "df['MonthsInRepayment'].describe()"
      ],
      "metadata": {
        "colab": {
          "base_uri": "https://localhost:8080/"
        },
        "id": "IEmJWdpfPHtc",
        "outputId": "14d71430-9c91-433c-e566-b317b05b1ba3"
      },
      "execution_count": 102,
      "outputs": [
        {
          "output_type": "execute_result",
          "data": {
            "text/plain": [
              "count    213436.000000\n",
              "mean          5.021983\n",
              "std           3.770038\n",
              "min           0.083333\n",
              "25%           2.916667\n",
              "50%           4.000000\n",
              "75%           5.166667\n",
              "max          17.666667\n",
              "Name: MonthsInRepayment, dtype: float64"
            ]
          },
          "metadata": {},
          "execution_count": 102
        }
      ]
    },
    {
      "cell_type": "code",
      "source": [
        "df[\"RepaymentRange\"] = pd.cut(\n",
        "    x=df[\"MonthsInRepayment\"],\n",
        "    bins=[-1, 4, 8, 12, 16, 20],\n",
        "    labels=[1, 2, 3, 4, 5],\n",
        ")"
      ],
      "metadata": {
        "id": "goE6CRS_OpkL"
      },
      "execution_count": 103,
      "outputs": []
    },
    {
      "cell_type": "code",
      "source": [
        "df[\"RepaymentRange\"]"
      ],
      "metadata": {
        "colab": {
          "base_uri": "https://localhost:8080/"
        },
        "id": "NSNuDGylPYc-",
        "outputId": "12e9e0cc-88d1-47e7-9b89-8158aa5067d1"
      },
      "execution_count": 104,
      "outputs": [
        {
          "output_type": "execute_result",
          "data": {
            "text/plain": [
              "0         2\n",
              "1         3\n",
              "2         2\n",
              "3         1\n",
              "4         2\n",
              "         ..\n",
              "213431    1\n",
              "213432    2\n",
              "213433    1\n",
              "213434    1\n",
              "213435    1\n",
              "Name: RepaymentRange, Length: 213436, dtype: category\n",
              "Categories (5, int64): [1 < 2 < 3 < 4 < 5]"
            ]
          },
          "metadata": {},
          "execution_count": 104
        }
      ]
    },
    {
      "cell_type": "markdown",
      "source": [
        "*Created Range for Repayment Tenure*"
      ],
      "metadata": {
        "id": "kja7BlQXRigd"
      }
    },
    {
      "cell_type": "code",
      "source": [
        "df['LoanTenure'] = (df['MaturityDate'] - df['FirstPaymentDate']).dt.days"
      ],
      "metadata": {
        "id": "prO752rpCsPT"
      },
      "execution_count": 105,
      "outputs": []
    },
    {
      "cell_type": "code",
      "source": [
        "df = df.astype({\"LoanTenure\": np.float})\n",
        "df['LoanTenure'] = df['LoanTenure'].div(365)"
      ],
      "metadata": {
        "colab": {
          "base_uri": "https://localhost:8080/"
        },
        "id": "wzFFo-fNDGkB",
        "outputId": "75de282a-3f10-47b6-d5fd-f9e537bd86e1"
      },
      "execution_count": 106,
      "outputs": [
        {
          "output_type": "stream",
          "name": "stderr",
          "text": [
            "<ipython-input-106-f4cdf14c5fec>:1: DeprecationWarning: `np.float` is a deprecated alias for the builtin `float`. To silence this warning, use `float` by itself. Doing this will not modify any behavior and is safe. If you specifically wanted the numpy scalar type, use `np.float64` here.\n",
            "Deprecated in NumPy 1.20; for more details and guidance: https://numpy.org/devdocs/release/1.20.0-notes.html#deprecations\n",
            "  df = df.astype({\"LoanTenure\": np.float})\n"
          ]
        }
      ]
    },
    {
      "cell_type": "markdown",
      "source": [
        "*Create LoanTenure column and convert it into years*"
      ],
      "metadata": {
        "id": "CZVGniMyDSME"
      }
    },
    {
      "cell_type": "code",
      "source": [
        "df.head(8)"
      ],
      "metadata": {
        "colab": {
          "base_uri": "https://localhost:8080/",
          "height": 393
        },
        "id": "ppjX-ZSYRPln",
        "outputId": "2869eca7-5f57-42d2-dd06-07efc95ef487"
      },
      "execution_count": 107,
      "outputs": [
        {
          "output_type": "execute_result",
          "data": {
            "text/plain": [
              "   CreditScore FirstPaymentDate  FirstTimeHomebuyer MaturityDate    MSA  MIP  \\\n",
              "0          850       1999-02-01                   0   2029-01-01  16974   25   \n",
              "1          850       1999-02-01                   0   2029-01-01  19740    0   \n",
              "2          850       1999-02-01                   0   2029-01-01  29940    0   \n",
              "3          850       1999-02-01                   0   2029-01-01  31084    0   \n",
              "4          850       1999-02-01                   0   2029-01-01  35644    0   \n",
              "5          850       1999-02-01                   0   2029-01-01      X   25   \n",
              "6          850       1999-02-01                   0   2029-01-01      X   25   \n",
              "7          850       1999-02-01                   1   2027-10-01  25540   30   \n",
              "\n",
              "   Units Occupancy  OCLTV  DTI  ...  NumBorrowers  SellerName  \\\n",
              "0      1         O     89   27  ...             2          FL   \n",
              "1      1         O     73   17  ...             1          FT   \n",
              "2      1         O     75   16  ...             2          FL   \n",
              "3      1         O     76   14  ...             2          GM   \n",
              "4      1         O     78   18  ...             2          GM   \n",
              "5      1         O     89   40  ...             2          Ot   \n",
              "6      1         O     90   21  ...             1          RE   \n",
              "7      1         O     95   38  ...             1          Ot   \n",
              "\n",
              "           ServicerName EverDelinquent MonthsDelinquent MonthsInRepayment  \\\n",
              "0  WASHINGTONMUTUALBANK              0                0          4.333333   \n",
              "1  CHASEHOMEFINANCELLC               0                0         12.000000   \n",
              "2  WASHINGTONMUTUALBANK              0                0          5.583333   \n",
              "3  GMACMTGECORP                      0                0          2.916667   \n",
              "4  GMACMTGECORP                      0                0          4.500000   \n",
              "5  Other servicers                   0                0          3.500000   \n",
              "6  Other servicers                   0                0          3.666667   \n",
              "7  Other servicers                   0                0          5.333333   \n",
              "\n",
              "  CreditRange LTV_Range RepaymentRange LoanTenure  \n",
              "0           4         3              2  29.936986  \n",
              "1           4         3              3  29.936986  \n",
              "2           4         3              2  29.936986  \n",
              "3           4         3              1  29.936986  \n",
              "4           4         3              2  29.936986  \n",
              "5           4         3              1  29.936986  \n",
              "6           4         3              1  29.936986  \n",
              "7           4         3              2  28.682192  \n",
              "\n",
              "[8 rows x 32 columns]"
            ],
            "text/html": [
              "\n",
              "  <div id=\"df-8af45fc6-5260-4841-b9cd-68572aa3eb7e\">\n",
              "    <div class=\"colab-df-container\">\n",
              "      <div>\n",
              "<style scoped>\n",
              "    .dataframe tbody tr th:only-of-type {\n",
              "        vertical-align: middle;\n",
              "    }\n",
              "\n",
              "    .dataframe tbody tr th {\n",
              "        vertical-align: top;\n",
              "    }\n",
              "\n",
              "    .dataframe thead th {\n",
              "        text-align: right;\n",
              "    }\n",
              "</style>\n",
              "<table border=\"1\" class=\"dataframe\">\n",
              "  <thead>\n",
              "    <tr style=\"text-align: right;\">\n",
              "      <th></th>\n",
              "      <th>CreditScore</th>\n",
              "      <th>FirstPaymentDate</th>\n",
              "      <th>FirstTimeHomebuyer</th>\n",
              "      <th>MaturityDate</th>\n",
              "      <th>MSA</th>\n",
              "      <th>MIP</th>\n",
              "      <th>Units</th>\n",
              "      <th>Occupancy</th>\n",
              "      <th>OCLTV</th>\n",
              "      <th>DTI</th>\n",
              "      <th>...</th>\n",
              "      <th>NumBorrowers</th>\n",
              "      <th>SellerName</th>\n",
              "      <th>ServicerName</th>\n",
              "      <th>EverDelinquent</th>\n",
              "      <th>MonthsDelinquent</th>\n",
              "      <th>MonthsInRepayment</th>\n",
              "      <th>CreditRange</th>\n",
              "      <th>LTV_Range</th>\n",
              "      <th>RepaymentRange</th>\n",
              "      <th>LoanTenure</th>\n",
              "    </tr>\n",
              "  </thead>\n",
              "  <tbody>\n",
              "    <tr>\n",
              "      <th>0</th>\n",
              "      <td>850</td>\n",
              "      <td>1999-02-01</td>\n",
              "      <td>0</td>\n",
              "      <td>2029-01-01</td>\n",
              "      <td>16974</td>\n",
              "      <td>25</td>\n",
              "      <td>1</td>\n",
              "      <td>O</td>\n",
              "      <td>89</td>\n",
              "      <td>27</td>\n",
              "      <td>...</td>\n",
              "      <td>2</td>\n",
              "      <td>FL</td>\n",
              "      <td>WASHINGTONMUTUALBANK</td>\n",
              "      <td>0</td>\n",
              "      <td>0</td>\n",
              "      <td>4.333333</td>\n",
              "      <td>4</td>\n",
              "      <td>3</td>\n",
              "      <td>2</td>\n",
              "      <td>29.936986</td>\n",
              "    </tr>\n",
              "    <tr>\n",
              "      <th>1</th>\n",
              "      <td>850</td>\n",
              "      <td>1999-02-01</td>\n",
              "      <td>0</td>\n",
              "      <td>2029-01-01</td>\n",
              "      <td>19740</td>\n",
              "      <td>0</td>\n",
              "      <td>1</td>\n",
              "      <td>O</td>\n",
              "      <td>73</td>\n",
              "      <td>17</td>\n",
              "      <td>...</td>\n",
              "      <td>1</td>\n",
              "      <td>FT</td>\n",
              "      <td>CHASEHOMEFINANCELLC</td>\n",
              "      <td>0</td>\n",
              "      <td>0</td>\n",
              "      <td>12.000000</td>\n",
              "      <td>4</td>\n",
              "      <td>3</td>\n",
              "      <td>3</td>\n",
              "      <td>29.936986</td>\n",
              "    </tr>\n",
              "    <tr>\n",
              "      <th>2</th>\n",
              "      <td>850</td>\n",
              "      <td>1999-02-01</td>\n",
              "      <td>0</td>\n",
              "      <td>2029-01-01</td>\n",
              "      <td>29940</td>\n",
              "      <td>0</td>\n",
              "      <td>1</td>\n",
              "      <td>O</td>\n",
              "      <td>75</td>\n",
              "      <td>16</td>\n",
              "      <td>...</td>\n",
              "      <td>2</td>\n",
              "      <td>FL</td>\n",
              "      <td>WASHINGTONMUTUALBANK</td>\n",
              "      <td>0</td>\n",
              "      <td>0</td>\n",
              "      <td>5.583333</td>\n",
              "      <td>4</td>\n",
              "      <td>3</td>\n",
              "      <td>2</td>\n",
              "      <td>29.936986</td>\n",
              "    </tr>\n",
              "    <tr>\n",
              "      <th>3</th>\n",
              "      <td>850</td>\n",
              "      <td>1999-02-01</td>\n",
              "      <td>0</td>\n",
              "      <td>2029-01-01</td>\n",
              "      <td>31084</td>\n",
              "      <td>0</td>\n",
              "      <td>1</td>\n",
              "      <td>O</td>\n",
              "      <td>76</td>\n",
              "      <td>14</td>\n",
              "      <td>...</td>\n",
              "      <td>2</td>\n",
              "      <td>GM</td>\n",
              "      <td>GMACMTGECORP</td>\n",
              "      <td>0</td>\n",
              "      <td>0</td>\n",
              "      <td>2.916667</td>\n",
              "      <td>4</td>\n",
              "      <td>3</td>\n",
              "      <td>1</td>\n",
              "      <td>29.936986</td>\n",
              "    </tr>\n",
              "    <tr>\n",
              "      <th>4</th>\n",
              "      <td>850</td>\n",
              "      <td>1999-02-01</td>\n",
              "      <td>0</td>\n",
              "      <td>2029-01-01</td>\n",
              "      <td>35644</td>\n",
              "      <td>0</td>\n",
              "      <td>1</td>\n",
              "      <td>O</td>\n",
              "      <td>78</td>\n",
              "      <td>18</td>\n",
              "      <td>...</td>\n",
              "      <td>2</td>\n",
              "      <td>GM</td>\n",
              "      <td>GMACMTGECORP</td>\n",
              "      <td>0</td>\n",
              "      <td>0</td>\n",
              "      <td>4.500000</td>\n",
              "      <td>4</td>\n",
              "      <td>3</td>\n",
              "      <td>2</td>\n",
              "      <td>29.936986</td>\n",
              "    </tr>\n",
              "    <tr>\n",
              "      <th>5</th>\n",
              "      <td>850</td>\n",
              "      <td>1999-02-01</td>\n",
              "      <td>0</td>\n",
              "      <td>2029-01-01</td>\n",
              "      <td>X</td>\n",
              "      <td>25</td>\n",
              "      <td>1</td>\n",
              "      <td>O</td>\n",
              "      <td>89</td>\n",
              "      <td>40</td>\n",
              "      <td>...</td>\n",
              "      <td>2</td>\n",
              "      <td>Ot</td>\n",
              "      <td>Other servicers</td>\n",
              "      <td>0</td>\n",
              "      <td>0</td>\n",
              "      <td>3.500000</td>\n",
              "      <td>4</td>\n",
              "      <td>3</td>\n",
              "      <td>1</td>\n",
              "      <td>29.936986</td>\n",
              "    </tr>\n",
              "    <tr>\n",
              "      <th>6</th>\n",
              "      <td>850</td>\n",
              "      <td>1999-02-01</td>\n",
              "      <td>0</td>\n",
              "      <td>2029-01-01</td>\n",
              "      <td>X</td>\n",
              "      <td>25</td>\n",
              "      <td>1</td>\n",
              "      <td>O</td>\n",
              "      <td>90</td>\n",
              "      <td>21</td>\n",
              "      <td>...</td>\n",
              "      <td>1</td>\n",
              "      <td>RE</td>\n",
              "      <td>Other servicers</td>\n",
              "      <td>0</td>\n",
              "      <td>0</td>\n",
              "      <td>3.666667</td>\n",
              "      <td>4</td>\n",
              "      <td>3</td>\n",
              "      <td>1</td>\n",
              "      <td>29.936986</td>\n",
              "    </tr>\n",
              "    <tr>\n",
              "      <th>7</th>\n",
              "      <td>850</td>\n",
              "      <td>1999-02-01</td>\n",
              "      <td>1</td>\n",
              "      <td>2027-10-01</td>\n",
              "      <td>25540</td>\n",
              "      <td>30</td>\n",
              "      <td>1</td>\n",
              "      <td>O</td>\n",
              "      <td>95</td>\n",
              "      <td>38</td>\n",
              "      <td>...</td>\n",
              "      <td>1</td>\n",
              "      <td>Ot</td>\n",
              "      <td>Other servicers</td>\n",
              "      <td>0</td>\n",
              "      <td>0</td>\n",
              "      <td>5.333333</td>\n",
              "      <td>4</td>\n",
              "      <td>3</td>\n",
              "      <td>2</td>\n",
              "      <td>28.682192</td>\n",
              "    </tr>\n",
              "  </tbody>\n",
              "</table>\n",
              "<p>8 rows × 32 columns</p>\n",
              "</div>\n",
              "      <button class=\"colab-df-convert\" onclick=\"convertToInteractive('df-8af45fc6-5260-4841-b9cd-68572aa3eb7e')\"\n",
              "              title=\"Convert this dataframe to an interactive table.\"\n",
              "              style=\"display:none;\">\n",
              "        \n",
              "  <svg xmlns=\"http://www.w3.org/2000/svg\" height=\"24px\"viewBox=\"0 0 24 24\"\n",
              "       width=\"24px\">\n",
              "    <path d=\"M0 0h24v24H0V0z\" fill=\"none\"/>\n",
              "    <path d=\"M18.56 5.44l.94 2.06.94-2.06 2.06-.94-2.06-.94-.94-2.06-.94 2.06-2.06.94zm-11 1L8.5 8.5l.94-2.06 2.06-.94-2.06-.94L8.5 2.5l-.94 2.06-2.06.94zm10 10l.94 2.06.94-2.06 2.06-.94-2.06-.94-.94-2.06-.94 2.06-2.06.94z\"/><path d=\"M17.41 7.96l-1.37-1.37c-.4-.4-.92-.59-1.43-.59-.52 0-1.04.2-1.43.59L10.3 9.45l-7.72 7.72c-.78.78-.78 2.05 0 2.83L4 21.41c.39.39.9.59 1.41.59.51 0 1.02-.2 1.41-.59l7.78-7.78 2.81-2.81c.8-.78.8-2.07 0-2.86zM5.41 20L4 18.59l7.72-7.72 1.47 1.35L5.41 20z\"/>\n",
              "  </svg>\n",
              "      </button>\n",
              "      \n",
              "  <style>\n",
              "    .colab-df-container {\n",
              "      display:flex;\n",
              "      flex-wrap:wrap;\n",
              "      gap: 12px;\n",
              "    }\n",
              "\n",
              "    .colab-df-convert {\n",
              "      background-color: #E8F0FE;\n",
              "      border: none;\n",
              "      border-radius: 50%;\n",
              "      cursor: pointer;\n",
              "      display: none;\n",
              "      fill: #1967D2;\n",
              "      height: 32px;\n",
              "      padding: 0 0 0 0;\n",
              "      width: 32px;\n",
              "    }\n",
              "\n",
              "    .colab-df-convert:hover {\n",
              "      background-color: #E2EBFA;\n",
              "      box-shadow: 0px 1px 2px rgba(60, 64, 67, 0.3), 0px 1px 3px 1px rgba(60, 64, 67, 0.15);\n",
              "      fill: #174EA6;\n",
              "    }\n",
              "\n",
              "    [theme=dark] .colab-df-convert {\n",
              "      background-color: #3B4455;\n",
              "      fill: #D2E3FC;\n",
              "    }\n",
              "\n",
              "    [theme=dark] .colab-df-convert:hover {\n",
              "      background-color: #434B5C;\n",
              "      box-shadow: 0px 1px 3px 1px rgba(0, 0, 0, 0.15);\n",
              "      filter: drop-shadow(0px 1px 2px rgba(0, 0, 0, 0.3));\n",
              "      fill: #FFFFFF;\n",
              "    }\n",
              "  </style>\n",
              "\n",
              "      <script>\n",
              "        const buttonEl =\n",
              "          document.querySelector('#df-8af45fc6-5260-4841-b9cd-68572aa3eb7e button.colab-df-convert');\n",
              "        buttonEl.style.display =\n",
              "          google.colab.kernel.accessAllowed ? 'block' : 'none';\n",
              "\n",
              "        async function convertToInteractive(key) {\n",
              "          const element = document.querySelector('#df-8af45fc6-5260-4841-b9cd-68572aa3eb7e');\n",
              "          const dataTable =\n",
              "            await google.colab.kernel.invokeFunction('convertToInteractive',\n",
              "                                                     [key], {});\n",
              "          if (!dataTable) return;\n",
              "\n",
              "          const docLinkHtml = 'Like what you see? Visit the ' +\n",
              "            '<a target=\"_blank\" href=https://colab.research.google.com/notebooks/data_table.ipynb>data table notebook</a>'\n",
              "            + ' to learn more about interactive tables.';\n",
              "          element.innerHTML = '';\n",
              "          dataTable['output_type'] = 'display_data';\n",
              "          await google.colab.output.renderOutput(dataTable, element);\n",
              "          const docLink = document.createElement('div');\n",
              "          docLink.innerHTML = docLinkHtml;\n",
              "          element.appendChild(docLink);\n",
              "        }\n",
              "      </script>\n",
              "    </div>\n",
              "  </div>\n",
              "  "
            ]
          },
          "metadata": {},
          "execution_count": 107
        }
      ]
    },
    {
      "cell_type": "markdown",
      "source": [
        "##*Feature Engineering*"
      ],
      "metadata": {
        "id": "rDNcrB41qqn5"
      }
    },
    {
      "cell_type": "code",
      "source": [
        "df['MSA'].replace('X',np.nan,inplace=True)\n",
        "df['MSA'] = pd.to_numeric(df['MSA'])\n",
        "df['MSA'].fillna(df['MSA'].mean(),inplace=True)"
      ],
      "metadata": {
        "id": "jYVHkvZJlhXj"
      },
      "execution_count": 108,
      "outputs": []
    },
    {
      "cell_type": "code",
      "source": [
        "df['NumBorrowers'].replace(\"X \",\"2\",inplace=True)\n",
        "df['NumBorrowers'] = pd.to_numeric(df['NumBorrowers'])"
      ],
      "metadata": {
        "id": "w7Hm0J76oPsk"
      },
      "execution_count": 109,
      "outputs": []
    },
    {
      "cell_type": "code",
      "source": [
        "df.drop(['SellerName','FirstPaymentDate','MaturityDate','LoanSeqNum','PostalCode','PropertyState','PropertyType','OCLTV'], axis=1,inplace=True)"
      ],
      "metadata": {
        "id": "PJxvJWfZkgJG"
      },
      "execution_count": 110,
      "outputs": []
    },
    {
      "cell_type": "markdown",
      "source": [
        "*Drop columns that we don't need in ML*"
      ],
      "metadata": {
        "id": "VoDrJtf6rIsL"
      }
    },
    {
      "cell_type": "markdown",
      "source": [
        "###Encoding variables"
      ],
      "metadata": {
        "id": "b82YiKeuNPVE"
      }
    },
    {
      "cell_type": "code",
      "source": [
        "from sklearn.preprocessing import LabelEncoder\n",
        "le = LabelEncoder()\n",
        "df['CreditRange'] = le.fit_transform(df['CreditRange'])\n",
        "df['CreditRange'].value_counts()"
      ],
      "metadata": {
        "colab": {
          "base_uri": "https://localhost:8080/"
        },
        "id": "w3gZDzOVNi5x",
        "outputId": "774c5816-6280-472a-ebc6-d2c2ff17d33b"
      },
      "execution_count": 111,
      "outputs": [
        {
          "output_type": "execute_result",
          "data": {
            "text/plain": [
              "2    72678\n",
              "3    57184\n",
              "1    54764\n",
              "0    28810\n",
              "Name: CreditRange, dtype: int64"
            ]
          },
          "metadata": {},
          "execution_count": 111
        }
      ]
    },
    {
      "cell_type": "code",
      "source": [
        "df['LTV_Range'] = le.fit_transform(df['LTV_Range'])\n",
        "df['LTV_Range'].value_counts()"
      ],
      "metadata": {
        "colab": {
          "base_uri": "https://localhost:8080/"
        },
        "id": "ALMIaw5wOycb",
        "outputId": "78872ad4-87fc-4cb6-bdc2-6dfd60f74ddb"
      },
      "execution_count": 112,
      "outputs": [
        {
          "output_type": "execute_result",
          "data": {
            "text/plain": [
              "2    198869\n",
              "1     13203\n",
              "0      1364\n",
              "Name: LTV_Range, dtype: int64"
            ]
          },
          "metadata": {},
          "execution_count": 112
        }
      ]
    },
    {
      "cell_type": "code",
      "source": [
        "df['RepaymentRange'] = le.fit_transform(df['RepaymentRange'])\n",
        "df['RepaymentRange'].value_counts()"
      ],
      "metadata": {
        "colab": {
          "base_uri": "https://localhost:8080/"
        },
        "id": "0V4iC3wYO31s",
        "outputId": "3b5d44b8-b94f-4faa-cc6c-faeac8caf37b"
      },
      "execution_count": 113,
      "outputs": [
        {
          "output_type": "execute_result",
          "data": {
            "text/plain": [
              "0    108942\n",
              "1     73649\n",
              "2     13911\n",
              "3      8755\n",
              "4      8179\n",
              "Name: RepaymentRange, dtype: int64"
            ]
          },
          "metadata": {},
          "execution_count": 113
        }
      ]
    },
    {
      "cell_type": "code",
      "source": [
        "df = pd.get_dummies(df, columns=['Occupancy','Channel','PPM','ProductType','LoanPurpose','ServicerName'])\n",
        "df"
      ],
      "metadata": {
        "colab": {
          "base_uri": "https://localhost:8080/",
          "height": 505
        },
        "id": "9bXoZPwIPEyB",
        "outputId": "a48b9abf-b00a-448d-b7c4-7d6badf311f9"
      },
      "execution_count": 114,
      "outputs": [
        {
          "output_type": "execute_result",
          "data": {
            "text/plain": [
              "        CreditScore  FirstTimeHomebuyer      MSA  MIP  Units  DTI  OrigUPB  \\\n",
              "0               850                   0  16974.0   25      1   27   117000   \n",
              "1               850                   0  19740.0    0      1   17   109000   \n",
              "2               850                   0  29940.0    0      1   16    88000   \n",
              "3               850                   0  31084.0    0      1   14   160000   \n",
              "4               850                   0  35644.0    0      1   18   109000   \n",
              "...             ...                 ...      ...  ...    ...  ...      ...   \n",
              "213431          839                   0  37964.0    0      1   32    90000   \n",
              "213432          840                   0  35644.0    0      1    0   267000   \n",
              "213433          840                   0  42044.0    0      1   31    87000   \n",
              "213434          845                   0  37964.0    0      1   54    88000   \n",
              "213435          849                   0  37964.0    0      1   29    70000   \n",
              "\n",
              "        LTV  OrigInterestRate  OrigLoanTerm  ...  \\\n",
              "0        89             6.750           360  ...   \n",
              "1        73             6.500           360  ...   \n",
              "2        75             6.875           360  ...   \n",
              "3        76             6.875           360  ...   \n",
              "4        78             7.125           360  ...   \n",
              "...     ...               ...           ...  ...   \n",
              "213431   60             7.000           360  ...   \n",
              "213432   73             6.375           319  ...   \n",
              "213433   73             5.625           313  ...   \n",
              "213434   80             7.000           360  ...   \n",
              "213435   47             7.000           360  ...   \n",
              "\n",
              "        ServicerName_GMACMTGECORP          ServicerName_HOMESIDELENDINGINC   \\\n",
              "0                                       0                                 0   \n",
              "1                                       0                                 0   \n",
              "2                                       0                                 0   \n",
              "3                                       1                                 0   \n",
              "4                                       1                                 0   \n",
              "...                                   ...                               ...   \n",
              "213431                                  0                                 0   \n",
              "213432                                  0                                 0   \n",
              "213433                                  0                                 0   \n",
              "213434                                  0                                 0   \n",
              "213435                                  0                                 0   \n",
              "\n",
              "        ServicerName_JPMORGANCHASEBANKNA  ServicerName_NATLCITYMTGECO        \\\n",
              "0                                      0                                  0   \n",
              "1                                      0                                  0   \n",
              "2                                      0                                  0   \n",
              "3                                      0                                  0   \n",
              "4                                      0                                  0   \n",
              "...                                  ...                                ...   \n",
              "213431                                 0                                  0   \n",
              "213432                                 0                                  0   \n",
              "213433                                 0                                  0   \n",
              "213434                                 0                                  0   \n",
              "213435                                 0                                  0   \n",
              "\n",
              "        ServicerName_Other servicers       ServicerName_PRINCIPALRESIDENTIAL  \\\n",
              "0                                       0                                  0   \n",
              "1                                       0                                  0   \n",
              "2                                       0                                  0   \n",
              "3                                       0                                  0   \n",
              "4                                       0                                  0   \n",
              "...                                   ...                                ...   \n",
              "213431                                  1                                  0   \n",
              "213432                                  1                                  0   \n",
              "213433                                  1                                  0   \n",
              "213434                                  1                                  0   \n",
              "213435                                  1                                  0   \n",
              "\n",
              "        ServicerName_SUNTRUSTMORTGAGEINC  ServicerName_WASHINGTONMUTUALBANK  \\\n",
              "0                                      0                                  1   \n",
              "1                                      0                                  0   \n",
              "2                                      0                                  1   \n",
              "3                                      0                                  0   \n",
              "4                                      0                                  0   \n",
              "...                                  ...                                ...   \n",
              "213431                                 0                                  0   \n",
              "213432                                 0                                  0   \n",
              "213433                                 0                                  0   \n",
              "213434                                 0                                  0   \n",
              "213435                                 0                                  0   \n",
              "\n",
              "        ServicerName_WELLSFARGOBANKNA     ServicerName_WELLSFARGOHOMEMORTGA  \n",
              "0                                      0                                  0  \n",
              "1                                      0                                  0  \n",
              "2                                      0                                  0  \n",
              "3                                      0                                  0  \n",
              "4                                      0                                  0  \n",
              "...                                  ...                                ...  \n",
              "213431                                 0                                  0  \n",
              "213432                                 0                                  0  \n",
              "213433                                 0                                  0  \n",
              "213434                                 0                                  0  \n",
              "213435                                 0                                  0  \n",
              "\n",
              "[213436 rows x 52 columns]"
            ],
            "text/html": [
              "\n",
              "  <div id=\"df-4c4fb61b-4461-423a-9f16-a6b139bf7fd6\">\n",
              "    <div class=\"colab-df-container\">\n",
              "      <div>\n",
              "<style scoped>\n",
              "    .dataframe tbody tr th:only-of-type {\n",
              "        vertical-align: middle;\n",
              "    }\n",
              "\n",
              "    .dataframe tbody tr th {\n",
              "        vertical-align: top;\n",
              "    }\n",
              "\n",
              "    .dataframe thead th {\n",
              "        text-align: right;\n",
              "    }\n",
              "</style>\n",
              "<table border=\"1\" class=\"dataframe\">\n",
              "  <thead>\n",
              "    <tr style=\"text-align: right;\">\n",
              "      <th></th>\n",
              "      <th>CreditScore</th>\n",
              "      <th>FirstTimeHomebuyer</th>\n",
              "      <th>MSA</th>\n",
              "      <th>MIP</th>\n",
              "      <th>Units</th>\n",
              "      <th>DTI</th>\n",
              "      <th>OrigUPB</th>\n",
              "      <th>LTV</th>\n",
              "      <th>OrigInterestRate</th>\n",
              "      <th>OrigLoanTerm</th>\n",
              "      <th>...</th>\n",
              "      <th>ServicerName_GMACMTGECORP</th>\n",
              "      <th>ServicerName_HOMESIDELENDINGINC</th>\n",
              "      <th>ServicerName_JPMORGANCHASEBANKNA</th>\n",
              "      <th>ServicerName_NATLCITYMTGECO</th>\n",
              "      <th>ServicerName_Other servicers</th>\n",
              "      <th>ServicerName_PRINCIPALRESIDENTIAL</th>\n",
              "      <th>ServicerName_SUNTRUSTMORTGAGEINC</th>\n",
              "      <th>ServicerName_WASHINGTONMUTUALBANK</th>\n",
              "      <th>ServicerName_WELLSFARGOBANKNA</th>\n",
              "      <th>ServicerName_WELLSFARGOHOMEMORTGA</th>\n",
              "    </tr>\n",
              "  </thead>\n",
              "  <tbody>\n",
              "    <tr>\n",
              "      <th>0</th>\n",
              "      <td>850</td>\n",
              "      <td>0</td>\n",
              "      <td>16974.0</td>\n",
              "      <td>25</td>\n",
              "      <td>1</td>\n",
              "      <td>27</td>\n",
              "      <td>117000</td>\n",
              "      <td>89</td>\n",
              "      <td>6.750</td>\n",
              "      <td>360</td>\n",
              "      <td>...</td>\n",
              "      <td>0</td>\n",
              "      <td>0</td>\n",
              "      <td>0</td>\n",
              "      <td>0</td>\n",
              "      <td>0</td>\n",
              "      <td>0</td>\n",
              "      <td>0</td>\n",
              "      <td>1</td>\n",
              "      <td>0</td>\n",
              "      <td>0</td>\n",
              "    </tr>\n",
              "    <tr>\n",
              "      <th>1</th>\n",
              "      <td>850</td>\n",
              "      <td>0</td>\n",
              "      <td>19740.0</td>\n",
              "      <td>0</td>\n",
              "      <td>1</td>\n",
              "      <td>17</td>\n",
              "      <td>109000</td>\n",
              "      <td>73</td>\n",
              "      <td>6.500</td>\n",
              "      <td>360</td>\n",
              "      <td>...</td>\n",
              "      <td>0</td>\n",
              "      <td>0</td>\n",
              "      <td>0</td>\n",
              "      <td>0</td>\n",
              "      <td>0</td>\n",
              "      <td>0</td>\n",
              "      <td>0</td>\n",
              "      <td>0</td>\n",
              "      <td>0</td>\n",
              "      <td>0</td>\n",
              "    </tr>\n",
              "    <tr>\n",
              "      <th>2</th>\n",
              "      <td>850</td>\n",
              "      <td>0</td>\n",
              "      <td>29940.0</td>\n",
              "      <td>0</td>\n",
              "      <td>1</td>\n",
              "      <td>16</td>\n",
              "      <td>88000</td>\n",
              "      <td>75</td>\n",
              "      <td>6.875</td>\n",
              "      <td>360</td>\n",
              "      <td>...</td>\n",
              "      <td>0</td>\n",
              "      <td>0</td>\n",
              "      <td>0</td>\n",
              "      <td>0</td>\n",
              "      <td>0</td>\n",
              "      <td>0</td>\n",
              "      <td>0</td>\n",
              "      <td>1</td>\n",
              "      <td>0</td>\n",
              "      <td>0</td>\n",
              "    </tr>\n",
              "    <tr>\n",
              "      <th>3</th>\n",
              "      <td>850</td>\n",
              "      <td>0</td>\n",
              "      <td>31084.0</td>\n",
              "      <td>0</td>\n",
              "      <td>1</td>\n",
              "      <td>14</td>\n",
              "      <td>160000</td>\n",
              "      <td>76</td>\n",
              "      <td>6.875</td>\n",
              "      <td>360</td>\n",
              "      <td>...</td>\n",
              "      <td>1</td>\n",
              "      <td>0</td>\n",
              "      <td>0</td>\n",
              "      <td>0</td>\n",
              "      <td>0</td>\n",
              "      <td>0</td>\n",
              "      <td>0</td>\n",
              "      <td>0</td>\n",
              "      <td>0</td>\n",
              "      <td>0</td>\n",
              "    </tr>\n",
              "    <tr>\n",
              "      <th>4</th>\n",
              "      <td>850</td>\n",
              "      <td>0</td>\n",
              "      <td>35644.0</td>\n",
              "      <td>0</td>\n",
              "      <td>1</td>\n",
              "      <td>18</td>\n",
              "      <td>109000</td>\n",
              "      <td>78</td>\n",
              "      <td>7.125</td>\n",
              "      <td>360</td>\n",
              "      <td>...</td>\n",
              "      <td>1</td>\n",
              "      <td>0</td>\n",
              "      <td>0</td>\n",
              "      <td>0</td>\n",
              "      <td>0</td>\n",
              "      <td>0</td>\n",
              "      <td>0</td>\n",
              "      <td>0</td>\n",
              "      <td>0</td>\n",
              "      <td>0</td>\n",
              "    </tr>\n",
              "    <tr>\n",
              "      <th>...</th>\n",
              "      <td>...</td>\n",
              "      <td>...</td>\n",
              "      <td>...</td>\n",
              "      <td>...</td>\n",
              "      <td>...</td>\n",
              "      <td>...</td>\n",
              "      <td>...</td>\n",
              "      <td>...</td>\n",
              "      <td>...</td>\n",
              "      <td>...</td>\n",
              "      <td>...</td>\n",
              "      <td>...</td>\n",
              "      <td>...</td>\n",
              "      <td>...</td>\n",
              "      <td>...</td>\n",
              "      <td>...</td>\n",
              "      <td>...</td>\n",
              "      <td>...</td>\n",
              "      <td>...</td>\n",
              "      <td>...</td>\n",
              "      <td>...</td>\n",
              "    </tr>\n",
              "    <tr>\n",
              "      <th>213431</th>\n",
              "      <td>839</td>\n",
              "      <td>0</td>\n",
              "      <td>37964.0</td>\n",
              "      <td>0</td>\n",
              "      <td>1</td>\n",
              "      <td>32</td>\n",
              "      <td>90000</td>\n",
              "      <td>60</td>\n",
              "      <td>7.000</td>\n",
              "      <td>360</td>\n",
              "      <td>...</td>\n",
              "      <td>0</td>\n",
              "      <td>0</td>\n",
              "      <td>0</td>\n",
              "      <td>0</td>\n",
              "      <td>1</td>\n",
              "      <td>0</td>\n",
              "      <td>0</td>\n",
              "      <td>0</td>\n",
              "      <td>0</td>\n",
              "      <td>0</td>\n",
              "    </tr>\n",
              "    <tr>\n",
              "      <th>213432</th>\n",
              "      <td>840</td>\n",
              "      <td>0</td>\n",
              "      <td>35644.0</td>\n",
              "      <td>0</td>\n",
              "      <td>1</td>\n",
              "      <td>0</td>\n",
              "      <td>267000</td>\n",
              "      <td>73</td>\n",
              "      <td>6.375</td>\n",
              "      <td>319</td>\n",
              "      <td>...</td>\n",
              "      <td>0</td>\n",
              "      <td>0</td>\n",
              "      <td>0</td>\n",
              "      <td>0</td>\n",
              "      <td>1</td>\n",
              "      <td>0</td>\n",
              "      <td>0</td>\n",
              "      <td>0</td>\n",
              "      <td>0</td>\n",
              "      <td>0</td>\n",
              "    </tr>\n",
              "    <tr>\n",
              "      <th>213433</th>\n",
              "      <td>840</td>\n",
              "      <td>0</td>\n",
              "      <td>42044.0</td>\n",
              "      <td>0</td>\n",
              "      <td>1</td>\n",
              "      <td>31</td>\n",
              "      <td>87000</td>\n",
              "      <td>73</td>\n",
              "      <td>5.625</td>\n",
              "      <td>313</td>\n",
              "      <td>...</td>\n",
              "      <td>0</td>\n",
              "      <td>0</td>\n",
              "      <td>0</td>\n",
              "      <td>0</td>\n",
              "      <td>1</td>\n",
              "      <td>0</td>\n",
              "      <td>0</td>\n",
              "      <td>0</td>\n",
              "      <td>0</td>\n",
              "      <td>0</td>\n",
              "    </tr>\n",
              "    <tr>\n",
              "      <th>213434</th>\n",
              "      <td>845</td>\n",
              "      <td>0</td>\n",
              "      <td>37964.0</td>\n",
              "      <td>0</td>\n",
              "      <td>1</td>\n",
              "      <td>54</td>\n",
              "      <td>88000</td>\n",
              "      <td>80</td>\n",
              "      <td>7.000</td>\n",
              "      <td>360</td>\n",
              "      <td>...</td>\n",
              "      <td>0</td>\n",
              "      <td>0</td>\n",
              "      <td>0</td>\n",
              "      <td>0</td>\n",
              "      <td>1</td>\n",
              "      <td>0</td>\n",
              "      <td>0</td>\n",
              "      <td>0</td>\n",
              "      <td>0</td>\n",
              "      <td>0</td>\n",
              "    </tr>\n",
              "    <tr>\n",
              "      <th>213435</th>\n",
              "      <td>849</td>\n",
              "      <td>0</td>\n",
              "      <td>37964.0</td>\n",
              "      <td>0</td>\n",
              "      <td>1</td>\n",
              "      <td>29</td>\n",
              "      <td>70000</td>\n",
              "      <td>47</td>\n",
              "      <td>7.000</td>\n",
              "      <td>360</td>\n",
              "      <td>...</td>\n",
              "      <td>0</td>\n",
              "      <td>0</td>\n",
              "      <td>0</td>\n",
              "      <td>0</td>\n",
              "      <td>1</td>\n",
              "      <td>0</td>\n",
              "      <td>0</td>\n",
              "      <td>0</td>\n",
              "      <td>0</td>\n",
              "      <td>0</td>\n",
              "    </tr>\n",
              "  </tbody>\n",
              "</table>\n",
              "<p>213436 rows × 52 columns</p>\n",
              "</div>\n",
              "      <button class=\"colab-df-convert\" onclick=\"convertToInteractive('df-4c4fb61b-4461-423a-9f16-a6b139bf7fd6')\"\n",
              "              title=\"Convert this dataframe to an interactive table.\"\n",
              "              style=\"display:none;\">\n",
              "        \n",
              "  <svg xmlns=\"http://www.w3.org/2000/svg\" height=\"24px\"viewBox=\"0 0 24 24\"\n",
              "       width=\"24px\">\n",
              "    <path d=\"M0 0h24v24H0V0z\" fill=\"none\"/>\n",
              "    <path d=\"M18.56 5.44l.94 2.06.94-2.06 2.06-.94-2.06-.94-.94-2.06-.94 2.06-2.06.94zm-11 1L8.5 8.5l.94-2.06 2.06-.94-2.06-.94L8.5 2.5l-.94 2.06-2.06.94zm10 10l.94 2.06.94-2.06 2.06-.94-2.06-.94-.94-2.06-.94 2.06-2.06.94z\"/><path d=\"M17.41 7.96l-1.37-1.37c-.4-.4-.92-.59-1.43-.59-.52 0-1.04.2-1.43.59L10.3 9.45l-7.72 7.72c-.78.78-.78 2.05 0 2.83L4 21.41c.39.39.9.59 1.41.59.51 0 1.02-.2 1.41-.59l7.78-7.78 2.81-2.81c.8-.78.8-2.07 0-2.86zM5.41 20L4 18.59l7.72-7.72 1.47 1.35L5.41 20z\"/>\n",
              "  </svg>\n",
              "      </button>\n",
              "      \n",
              "  <style>\n",
              "    .colab-df-container {\n",
              "      display:flex;\n",
              "      flex-wrap:wrap;\n",
              "      gap: 12px;\n",
              "    }\n",
              "\n",
              "    .colab-df-convert {\n",
              "      background-color: #E8F0FE;\n",
              "      border: none;\n",
              "      border-radius: 50%;\n",
              "      cursor: pointer;\n",
              "      display: none;\n",
              "      fill: #1967D2;\n",
              "      height: 32px;\n",
              "      padding: 0 0 0 0;\n",
              "      width: 32px;\n",
              "    }\n",
              "\n",
              "    .colab-df-convert:hover {\n",
              "      background-color: #E2EBFA;\n",
              "      box-shadow: 0px 1px 2px rgba(60, 64, 67, 0.3), 0px 1px 3px 1px rgba(60, 64, 67, 0.15);\n",
              "      fill: #174EA6;\n",
              "    }\n",
              "\n",
              "    [theme=dark] .colab-df-convert {\n",
              "      background-color: #3B4455;\n",
              "      fill: #D2E3FC;\n",
              "    }\n",
              "\n",
              "    [theme=dark] .colab-df-convert:hover {\n",
              "      background-color: #434B5C;\n",
              "      box-shadow: 0px 1px 3px 1px rgba(0, 0, 0, 0.15);\n",
              "      filter: drop-shadow(0px 1px 2px rgba(0, 0, 0, 0.3));\n",
              "      fill: #FFFFFF;\n",
              "    }\n",
              "  </style>\n",
              "\n",
              "      <script>\n",
              "        const buttonEl =\n",
              "          document.querySelector('#df-4c4fb61b-4461-423a-9f16-a6b139bf7fd6 button.colab-df-convert');\n",
              "        buttonEl.style.display =\n",
              "          google.colab.kernel.accessAllowed ? 'block' : 'none';\n",
              "\n",
              "        async function convertToInteractive(key) {\n",
              "          const element = document.querySelector('#df-4c4fb61b-4461-423a-9f16-a6b139bf7fd6');\n",
              "          const dataTable =\n",
              "            await google.colab.kernel.invokeFunction('convertToInteractive',\n",
              "                                                     [key], {});\n",
              "          if (!dataTable) return;\n",
              "\n",
              "          const docLinkHtml = 'Like what you see? Visit the ' +\n",
              "            '<a target=\"_blank\" href=https://colab.research.google.com/notebooks/data_table.ipynb>data table notebook</a>'\n",
              "            + ' to learn more about interactive tables.';\n",
              "          element.innerHTML = '';\n",
              "          dataTable['output_type'] = 'display_data';\n",
              "          await google.colab.output.renderOutput(dataTable, element);\n",
              "          const docLink = document.createElement('div');\n",
              "          docLink.innerHTML = docLinkHtml;\n",
              "          element.appendChild(docLink);\n",
              "        }\n",
              "      </script>\n",
              "    </div>\n",
              "  </div>\n",
              "  "
            ]
          },
          "metadata": {},
          "execution_count": 114
        }
      ]
    },
    {
      "cell_type": "code",
      "source": [
        "df.info()"
      ],
      "metadata": {
        "colab": {
          "base_uri": "https://localhost:8080/"
        },
        "id": "wbTnl5WTSZlg",
        "outputId": "c7965983-55fd-4b0d-ed6c-4d4208ad99e1"
      },
      "execution_count": 115,
      "outputs": [
        {
          "output_type": "stream",
          "name": "stdout",
          "text": [
            "<class 'pandas.core.frame.DataFrame'>\n",
            "RangeIndex: 213436 entries, 0 to 213435\n",
            "Data columns (total 52 columns):\n",
            " #   Column                             Non-Null Count   Dtype  \n",
            "---  ------                             --------------   -----  \n",
            " 0   CreditScore                        213436 non-null  int64  \n",
            " 1   FirstTimeHomebuyer                 213436 non-null  int64  \n",
            " 2   MSA                                213436 non-null  float64\n",
            " 3   MIP                                213436 non-null  int64  \n",
            " 4   Units                              213436 non-null  int64  \n",
            " 5   DTI                                213436 non-null  int64  \n",
            " 6   OrigUPB                            213436 non-null  int64  \n",
            " 7   LTV                                213436 non-null  int64  \n",
            " 8   OrigInterestRate                   213436 non-null  float64\n",
            " 9   OrigLoanTerm                       213436 non-null  int64  \n",
            " 10  NumBorrowers                       213436 non-null  int64  \n",
            " 11  EverDelinquent                     213436 non-null  int64  \n",
            " 12  MonthsDelinquent                   213436 non-null  int64  \n",
            " 13  MonthsInRepayment                  213436 non-null  float64\n",
            " 14  CreditRange                        213436 non-null  int64  \n",
            " 15  LTV_Range                          213436 non-null  int64  \n",
            " 16  RepaymentRange                     213436 non-null  int64  \n",
            " 17  LoanTenure                         213436 non-null  float64\n",
            " 18  Occupancy_I                        213436 non-null  uint8  \n",
            " 19  Occupancy_O                        213436 non-null  uint8  \n",
            " 20  Occupancy_S                        213436 non-null  uint8  \n",
            " 21  Channel_B                          213436 non-null  uint8  \n",
            " 22  Channel_C                          213436 non-null  uint8  \n",
            " 23  Channel_R                          213436 non-null  uint8  \n",
            " 24  Channel_T                          213436 non-null  uint8  \n",
            " 25  PPM_N                              213436 non-null  uint8  \n",
            " 26  PPM_X                              213436 non-null  uint8  \n",
            " 27  PPM_Y                              213436 non-null  uint8  \n",
            " 28  ProductType_FRM                    213436 non-null  uint8  \n",
            " 29  LoanPurpose_C                      213436 non-null  uint8  \n",
            " 30  LoanPurpose_N                      213436 non-null  uint8  \n",
            " 31  LoanPurpose_P                      213436 non-null  uint8  \n",
            " 32  ServicerName_ABNAMROMTGEGROUPINC   213436 non-null  uint8  \n",
            " 33  ServicerName_BAMORTGAGELLC         213436 non-null  uint8  \n",
            " 34  ServicerName_BANKOFAMERICANA       213436 non-null  uint8  \n",
            " 35  ServicerName_CHASEHOMEFINANCELLC   213436 non-null  uint8  \n",
            " 36  ServicerName_CHASEMANHATTANMTGECO  213436 non-null  uint8  \n",
            " 37  ServicerName_CHASEMTGECO           213436 non-null  uint8  \n",
            " 38  ServicerName_CITIMORTGAGEINC       213436 non-null  uint8  \n",
            " 39  ServicerName_COUNTRYWIDE           213436 non-null  uint8  \n",
            " 40  ServicerName_FIFTHTHIRDBANK        213436 non-null  uint8  \n",
            " 41  ServicerName_FTMTGESERVICESINC     213436 non-null  uint8  \n",
            " 42  ServicerName_GMACMTGECORP          213436 non-null  uint8  \n",
            " 43  ServicerName_HOMESIDELENDINGINC    213436 non-null  uint8  \n",
            " 44  ServicerName_JPMORGANCHASEBANKNA   213436 non-null  uint8  \n",
            " 45  ServicerName_NATLCITYMTGECO        213436 non-null  uint8  \n",
            " 46  ServicerName_Other servicers       213436 non-null  uint8  \n",
            " 47  ServicerName_PRINCIPALRESIDENTIAL  213436 non-null  uint8  \n",
            " 48  ServicerName_SUNTRUSTMORTGAGEINC   213436 non-null  uint8  \n",
            " 49  ServicerName_WASHINGTONMUTUALBANK  213436 non-null  uint8  \n",
            " 50  ServicerName_WELLSFARGOBANKNA      213436 non-null  uint8  \n",
            " 51  ServicerName_WELLSFARGOHOMEMORTGA  213436 non-null  uint8  \n",
            "dtypes: float64(4), int64(14), uint8(34)\n",
            "memory usage: 36.2 MB\n"
          ]
        }
      ]
    },
    {
      "cell_type": "code",
      "source": [
        "sns.distplot(df[\"CreditScore\"],kde=False,bins=40)"
      ],
      "metadata": {
        "colab": {
          "base_uri": "https://localhost:8080/",
          "height": 351
        },
        "id": "2ROOgTsmWvIO",
        "outputId": "9005b0d3-c851-400a-d23b-f46325b2e503"
      },
      "execution_count": 116,
      "outputs": [
        {
          "output_type": "stream",
          "name": "stderr",
          "text": [
            "/usr/local/lib/python3.8/dist-packages/seaborn/distributions.py:2619: FutureWarning: `distplot` is a deprecated function and will be removed in a future version. Please adapt your code to use either `displot` (a figure-level function with similar flexibility) or `histplot` (an axes-level function for histograms).\n",
            "  warnings.warn(msg, FutureWarning)\n"
          ]
        },
        {
          "output_type": "execute_result",
          "data": {
            "text/plain": [
              "<matplotlib.axes._subplots.AxesSubplot at 0x7ff5b7073130>"
            ]
          },
          "metadata": {},
          "execution_count": 116
        },
        {
          "output_type": "display_data",
          "data": {
            "text/plain": [
              "<Figure size 432x288 with 1 Axes>"
            ],
            "image/png": "[encoded data removed]"
          },
          "metadata": {
            "needs_background": "light"
          }
        }
      ]
    },
    {
      "cell_type": "markdown",
      "source": [
        "*before scalling*"
      ],
      "metadata": {
        "id": "3XhYlHMLW95m"
      }
    },
    {
      "cell_type": "code",
      "source": [
        "for column in df.columns:\n",
        "    df[column] = (df[column] - df[column].mean()) / df[column].std()    \n",
        "  \n",
        "df.head()"
      ],
      "metadata": {
        "colab": {
          "base_uri": "https://localhost:8080/",
          "height": 317
        },
        "id": "NqR449VjPWXl",
        "outputId": "a3dc3b62-a3be-4bcf-af1f-361fcb231500"
      },
      "execution_count": 117,
      "outputs": [
        {
          "output_type": "execute_result",
          "data": {
            "text/plain": [
              "   CreditScore  FirstTimeHomebuyer       MSA       MIP     Units       DTI  \\\n",
              "0     2.656234           -0.398757 -1.316176  1.096843 -0.123251 -0.407317   \n",
              "1     2.656234           -0.398757 -1.052901 -0.797762 -0.123251 -1.286054   \n",
              "2     2.656234           -0.398757 -0.082037 -0.797762 -0.123251 -1.373928   \n",
              "3     2.656234           -0.398757  0.026851 -0.797762 -0.123251 -1.549675   \n",
              "4     2.656234           -0.398757  0.460884 -0.797762 -0.123251 -1.198180   \n",
              "\n",
              "    OrigUPB       LTV  OrigInterestRate  OrigLoanTerm  ...  \\\n",
              "0 -0.158281  0.703612         -0.538061      0.071642  ...   \n",
              "1 -0.307445 -0.336233         -1.264073      0.071642  ...   \n",
              "2 -0.699002 -0.206252         -0.175055      0.071642  ...   \n",
              "3  0.643478 -0.141262         -0.175055      0.071642  ...   \n",
              "4 -0.307445 -0.011281          0.550957      0.071642  ...   \n",
              "\n",
              "   ServicerName_GMACMTGECORP          ServicerName_HOMESIDELENDINGINC   \\\n",
              "0                          -0.220813                         -0.125912   \n",
              "1                          -0.220813                         -0.125912   \n",
              "2                          -0.220813                         -0.125912   \n",
              "3                           4.528700                         -0.125912   \n",
              "4                           4.528700                         -0.125912   \n",
              "\n",
              "   ServicerName_JPMORGANCHASEBANKNA  ServicerName_NATLCITYMTGECO        \\\n",
              "0                         -0.155071                          -0.128593   \n",
              "1                         -0.155071                          -0.128593   \n",
              "2                         -0.155071                          -0.128593   \n",
              "3                         -0.155071                          -0.128593   \n",
              "4                         -0.155071                          -0.128593   \n",
              "\n",
              "   ServicerName_Other servicers       ServicerName_PRINCIPALRESIDENTIAL  \\\n",
              "0                          -0.544703                          -0.123079   \n",
              "1                          -0.544703                          -0.123079   \n",
              "2                          -0.544703                          -0.123079   \n",
              "3                          -0.544703                          -0.123079   \n",
              "4                          -0.544703                          -0.123079   \n",
              "\n",
              "   ServicerName_SUNTRUSTMORTGAGEINC  ServicerName_WASHINGTONMUTUALBANK  \\\n",
              "0                         -0.125026                           3.230521   \n",
              "1                         -0.125026                          -0.309546   \n",
              "2                         -0.125026                           3.230521   \n",
              "3                         -0.125026                          -0.309546   \n",
              "4                         -0.125026                          -0.309546   \n",
              "\n",
              "   ServicerName_WELLSFARGOBANKNA     ServicerName_WELLSFARGOHOMEMORTGA  \n",
              "0                         -0.165167                          -0.229316  \n",
              "1                         -0.165167                          -0.229316  \n",
              "2                         -0.165167                          -0.229316  \n",
              "3                         -0.165167                          -0.229316  \n",
              "4                         -0.165167                          -0.229316  \n",
              "\n",
              "[5 rows x 52 columns]"
            ],
            "text/html": [
              "\n",
              "  <div id=\"df-7f51de66-f16b-40c6-9db7-1d6a7454cb8f\">\n",
              "    <div class=\"colab-df-container\">\n",
              "      <div>\n",
              "<style scoped>\n",
              "    .dataframe tbody tr th:only-of-type {\n",
              "        vertical-align: middle;\n",
              "    }\n",
              "\n",
              "    .dataframe tbody tr th {\n",
              "        vertical-align: top;\n",
              "    }\n",
              "\n",
              "    .dataframe thead th {\n",
              "        text-align: right;\n",
              "    }\n",
              "</style>\n",
              "<table border=\"1\" class=\"dataframe\">\n",
              "  <thead>\n",
              "    <tr style=\"text-align: right;\">\n",
              "      <th></th>\n",
              "      <th>CreditScore</th>\n",
              "      <th>FirstTimeHomebuyer</th>\n",
              "      <th>MSA</th>\n",
              "      <th>MIP</th>\n",
              "      <th>Units</th>\n",
              "      <th>DTI</th>\n",
              "      <th>OrigUPB</th>\n",
              "      <th>LTV</th>\n",
              "      <th>OrigInterestRate</th>\n",
              "      <th>OrigLoanTerm</th>\n",
              "      <th>...</th>\n",
              "      <th>ServicerName_GMACMTGECORP</th>\n",
              "      <th>ServicerName_HOMESIDELENDINGINC</th>\n",
              "      <th>ServicerName_JPMORGANCHASEBANKNA</th>\n",
              "      <th>ServicerName_NATLCITYMTGECO</th>\n",
              "      <th>ServicerName_Other servicers</th>\n",
              "      <th>ServicerName_PRINCIPALRESIDENTIAL</th>\n",
              "      <th>ServicerName_SUNTRUSTMORTGAGEINC</th>\n",
              "      <th>ServicerName_WASHINGTONMUTUALBANK</th>\n",
              "      <th>ServicerName_WELLSFARGOBANKNA</th>\n",
              "      <th>ServicerName_WELLSFARGOHOMEMORTGA</th>\n",
              "    </tr>\n",
              "  </thead>\n",
              "  <tbody>\n",
              "    <tr>\n",
              "      <th>0</th>\n",
              "      <td>2.656234</td>\n",
              "      <td>-0.398757</td>\n",
              "      <td>-1.316176</td>\n",
              "      <td>1.096843</td>\n",
              "      <td>-0.123251</td>\n",
              "      <td>-0.407317</td>\n",
              "      <td>-0.158281</td>\n",
              "      <td>0.703612</td>\n",
              "      <td>-0.538061</td>\n",
              "      <td>0.071642</td>\n",
              "      <td>...</td>\n",
              "      <td>-0.220813</td>\n",
              "      <td>-0.125912</td>\n",
              "      <td>-0.155071</td>\n",
              "      <td>-0.128593</td>\n",
              "      <td>-0.544703</td>\n",
              "      <td>-0.123079</td>\n",
              "      <td>-0.125026</td>\n",
              "      <td>3.230521</td>\n",
              "      <td>-0.165167</td>\n",
              "      <td>-0.229316</td>\n",
              "    </tr>\n",
              "    <tr>\n",
              "      <th>1</th>\n",
              "      <td>2.656234</td>\n",
              "      <td>-0.398757</td>\n",
              "      <td>-1.052901</td>\n",
              "      <td>-0.797762</td>\n",
              "      <td>-0.123251</td>\n",
              "      <td>-1.286054</td>\n",
              "      <td>-0.307445</td>\n",
              "      <td>-0.336233</td>\n",
              "      <td>-1.264073</td>\n",
              "      <td>0.071642</td>\n",
              "      <td>...</td>\n",
              "      <td>-0.220813</td>\n",
              "      <td>-0.125912</td>\n",
              "      <td>-0.155071</td>\n",
              "      <td>-0.128593</td>\n",
              "      <td>-0.544703</td>\n",
              "      <td>-0.123079</td>\n",
              "      <td>-0.125026</td>\n",
              "      <td>-0.309546</td>\n",
              "      <td>-0.165167</td>\n",
              "      <td>-0.229316</td>\n",
              "    </tr>\n",
              "    <tr>\n",
              "      <th>2</th>\n",
              "      <td>2.656234</td>\n",
              "      <td>-0.398757</td>\n",
              "      <td>-0.082037</td>\n",
              "      <td>-0.797762</td>\n",
              "      <td>-0.123251</td>\n",
              "      <td>-1.373928</td>\n",
              "      <td>-0.699002</td>\n",
              "      <td>-0.206252</td>\n",
              "      <td>-0.175055</td>\n",
              "      <td>0.071642</td>\n",
              "      <td>...</td>\n",
              "      <td>-0.220813</td>\n",
              "      <td>-0.125912</td>\n",
              "      <td>-0.155071</td>\n",
              "      <td>-0.128593</td>\n",
              "      <td>-0.544703</td>\n",
              "      <td>-0.123079</td>\n",
              "      <td>-0.125026</td>\n",
              "      <td>3.230521</td>\n",
              "      <td>-0.165167</td>\n",
              "      <td>-0.229316</td>\n",
              "    </tr>\n",
              "    <tr>\n",
              "      <th>3</th>\n",
              "      <td>2.656234</td>\n",
              "      <td>-0.398757</td>\n",
              "      <td>0.026851</td>\n",
              "      <td>-0.797762</td>\n",
              "      <td>-0.123251</td>\n",
              "      <td>-1.549675</td>\n",
              "      <td>0.643478</td>\n",
              "      <td>-0.141262</td>\n",
              "      <td>-0.175055</td>\n",
              "      <td>0.071642</td>\n",
              "      <td>...</td>\n",
              "      <td>4.528700</td>\n",
              "      <td>-0.125912</td>\n",
              "      <td>-0.155071</td>\n",
              "      <td>-0.128593</td>\n",
              "      <td>-0.544703</td>\n",
              "      <td>-0.123079</td>\n",
              "      <td>-0.125026</td>\n",
              "      <td>-0.309546</td>\n",
              "      <td>-0.165167</td>\n",
              "      <td>-0.229316</td>\n",
              "    </tr>\n",
              "    <tr>\n",
              "      <th>4</th>\n",
              "      <td>2.656234</td>\n",
              "      <td>-0.398757</td>\n",
              "      <td>0.460884</td>\n",
              "      <td>-0.797762</td>\n",
              "      <td>-0.123251</td>\n",
              "      <td>-1.198180</td>\n",
              "      <td>-0.307445</td>\n",
              "      <td>-0.011281</td>\n",
              "      <td>0.550957</td>\n",
              "      <td>0.071642</td>\n",
              "      <td>...</td>\n",
              "      <td>4.528700</td>\n",
              "      <td>-0.125912</td>\n",
              "      <td>-0.155071</td>\n",
              "      <td>-0.128593</td>\n",
              "      <td>-0.544703</td>\n",
              "      <td>-0.123079</td>\n",
              "      <td>-0.125026</td>\n",
              "      <td>-0.309546</td>\n",
              "      <td>-0.165167</td>\n",
              "      <td>-0.229316</td>\n",
              "    </tr>\n",
              "  </tbody>\n",
              "</table>\n",
              "<p>5 rows × 52 columns</p>\n",
              "</div>\n",
              "      <button class=\"colab-df-convert\" onclick=\"convertToInteractive('df-7f51de66-f16b-40c6-9db7-1d6a7454cb8f')\"\n",
              "              title=\"Convert this dataframe to an interactive table.\"\n",
              "              style=\"display:none;\">\n",
              "        \n",
              "  <svg xmlns=\"http://www.w3.org/2000/svg\" height=\"24px\"viewBox=\"0 0 24 24\"\n",
              "       width=\"24px\">\n",
              "    <path d=\"M0 0h24v24H0V0z\" fill=\"none\"/>\n",
              "    <path d=\"M18.56 5.44l.94 2.06.94-2.06 2.06-.94-2.06-.94-.94-2.06-.94 2.06-2.06.94zm-11 1L8.5 8.5l.94-2.06 2.06-.94-2.06-.94L8.5 2.5l-.94 2.06-2.06.94zm10 10l.94 2.06.94-2.06 2.06-.94-2.06-.94-.94-2.06-.94 2.06-2.06.94z\"/><path d=\"M17.41 7.96l-1.37-1.37c-.4-.4-.92-.59-1.43-.59-.52 0-1.04.2-1.43.59L10.3 9.45l-7.72 7.72c-.78.78-.78 2.05 0 2.83L4 21.41c.39.39.9.59 1.41.59.51 0 1.02-.2 1.41-.59l7.78-7.78 2.81-2.81c.8-.78.8-2.07 0-2.86zM5.41 20L4 18.59l7.72-7.72 1.47 1.35L5.41 20z\"/>\n",
              "  </svg>\n",
              "      </button>\n",
              "      \n",
              "  <style>\n",
              "    .colab-df-container {\n",
              "      display:flex;\n",
              "      flex-wrap:wrap;\n",
              "      gap: 12px;\n",
              "    }\n",
              "\n",
              "    .colab-df-convert {\n",
              "      background-color: #E8F0FE;\n",
              "      border: none;\n",
              "      border-radius: 50%;\n",
              "      cursor: pointer;\n",
              "      display: none;\n",
              "      fill: #1967D2;\n",
              "      height: 32px;\n",
              "      padding: 0 0 0 0;\n",
              "      width: 32px;\n",
              "    }\n",
              "\n",
              "    .colab-df-convert:hover {\n",
              "      background-color: #E2EBFA;\n",
              "      box-shadow: 0px 1px 2px rgba(60, 64, 67, 0.3), 0px 1px 3px 1px rgba(60, 64, 67, 0.15);\n",
              "      fill: #174EA6;\n",
              "    }\n",
              "\n",
              "    [theme=dark] .colab-df-convert {\n",
              "      background-color: #3B4455;\n",
              "      fill: #D2E3FC;\n",
              "    }\n",
              "\n",
              "    [theme=dark] .colab-df-convert:hover {\n",
              "      background-color: #434B5C;\n",
              "      box-shadow: 0px 1px 3px 1px rgba(0, 0, 0, 0.15);\n",
              "      filter: drop-shadow(0px 1px 2px rgba(0, 0, 0, 0.3));\n",
              "      fill: #FFFFFF;\n",
              "    }\n",
              "  </style>\n",
              "\n",
              "      <script>\n",
              "        const buttonEl =\n",
              "          document.querySelector('#df-7f51de66-f16b-40c6-9db7-1d6a7454cb8f button.colab-df-convert');\n",
              "        buttonEl.style.display =\n",
              "          google.colab.kernel.accessAllowed ? 'block' : 'none';\n",
              "\n",
              "        async function convertToInteractive(key) {\n",
              "          const element = document.querySelector('#df-7f51de66-f16b-40c6-9db7-1d6a7454cb8f');\n",
              "          const dataTable =\n",
              "            await google.colab.kernel.invokeFunction('convertToInteractive',\n",
              "                                                     [key], {});\n",
              "          if (!dataTable) return;\n",
              "\n",
              "          const docLinkHtml = 'Like what you see? Visit the ' +\n",
              "            '<a target=\"_blank\" href=https://colab.research.google.com/notebooks/data_table.ipynb>data table notebook</a>'\n",
              "            + ' to learn more about interactive tables.';\n",
              "          element.innerHTML = '';\n",
              "          dataTable['output_type'] = 'display_data';\n",
              "          await google.colab.output.renderOutput(dataTable, element);\n",
              "          const docLink = document.createElement('div');\n",
              "          docLink.innerHTML = docLinkHtml;\n",
              "          element.appendChild(docLink);\n",
              "        }\n",
              "      </script>\n",
              "    </div>\n",
              "  </div>\n",
              "  "
            ]
          },
          "metadata": {},
          "execution_count": 117
        }
      ]
    },
    {
      "cell_type": "code",
      "source": [
        "sns.distplot(df[\"CreditScore\"],kde=False,bins=40)"
      ],
      "metadata": {
        "colab": {
          "base_uri": "https://localhost:8080/",
          "height": 351
        },
        "id": "rncKbBKjTA-6",
        "outputId": "c6ee01ac-a565-4162-e342-6ac81ceb37c4"
      },
      "execution_count": 118,
      "outputs": [
        {
          "output_type": "stream",
          "name": "stderr",
          "text": [
            "/usr/local/lib/python3.8/dist-packages/seaborn/distributions.py:2619: FutureWarning: `distplot` is a deprecated function and will be removed in a future version. Please adapt your code to use either `displot` (a figure-level function with similar flexibility) or `histplot` (an axes-level function for histograms).\n",
            "  warnings.warn(msg, FutureWarning)\n"
          ]
        },
        {
          "output_type": "execute_result",
          "data": {
            "text/plain": [
              "<matplotlib.axes._subplots.AxesSubplot at 0x7ff5b7123b50>"
            ]
          },
          "metadata": {},
          "execution_count": 118
        },
        {
          "output_type": "display_data",
          "data": {
            "text/plain": [
              "<Figure size 432x288 with 1 Axes>"
            ],
            "image/png": "[encoded data removed]"
          },
          "metadata": {
            "needs_background": "light"
          }
        }
      ]
    },
    {
      "cell_type": "markdown",
      "source": [
        "*after scalling*"
      ],
      "metadata": {
        "id": "YpDTCYLyXBYd"
      }
    },
    {
      "cell_type": "code",
      "source": [],
      "metadata": {
        "id": "6Axpt_nrTKH6"
      },
      "execution_count": 118,
      "outputs": []
    }
  ]
}